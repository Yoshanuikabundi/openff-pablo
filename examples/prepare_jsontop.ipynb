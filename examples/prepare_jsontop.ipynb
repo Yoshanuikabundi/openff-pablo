{
 "cells": [
  {
   "cell_type": "code",
   "execution_count": 1,
   "id": "5d44807c-1fd7-40fd-aff8-2e00171da5da",
   "metadata": {
    "execution": {
     "iopub.execute_input": "2025-02-11T04:41:21.196671Z",
     "iopub.status.busy": "2025-02-11T04:41:21.196529Z",
     "iopub.status.idle": "2025-02-11T04:41:22.753516Z",
     "shell.execute_reply": "2025-02-11T04:41:22.753185Z",
     "shell.execute_reply.started": "2025-02-11T04:41:21.196660Z"
    }
   },
   "outputs": [],
   "source": [
    "from openff.pablo import topology_from_pdb"
   ]
  },
  {
   "cell_type": "code",
   "execution_count": 6,
   "id": "dc64601e-aa9a-4594-86f1-012b9fb5ab11",
   "metadata": {
    "execution": {
     "iopub.execute_input": "2025-02-11T04:43:32.349034Z",
     "iopub.status.busy": "2025-02-11T04:43:32.348742Z",
     "iopub.status.idle": "2025-02-11T04:43:32.351030Z",
     "shell.execute_reply": "2025-02-11T04:43:32.350752Z",
     "shell.execute_reply.started": "2025-02-11T04:43:32.349019Z"
    }
   },
   "outputs": [],
   "source": [
    "from pathlib import Path\n",
    "\n",
    "path = Path(\"../openff/pablo/_tests/data/1A4T.pdb\")"
   ]
  },
  {
   "cell_type": "code",
   "execution_count": 7,
   "id": "4bd31029-7f26-4782-8a35-e3fd5e024e5a",
   "metadata": {
    "execution": {
     "iopub.execute_input": "2025-02-11T04:43:32.872480Z",
     "iopub.status.busy": "2025-02-11T04:43:32.872305Z",
     "iopub.status.idle": "2025-02-11T04:43:33.082399Z",
     "shell.execute_reply": "2025-02-11T04:43:33.082051Z",
     "shell.execute_reply.started": "2025-02-11T04:43:32.872467Z"
    }
   },
   "outputs": [
    {
     "name": "stderr",
     "output_type": "stream",
     "text": [
      "/home/joshmitchell/Documents/openff/openff-pablo/openff/pablo/_pdb_data.py:355: UserWarning: Multi-model files not supported; topology will reflect first model\n",
      "  warnings.warn(\n"
     ]
    }
   ],
   "source": [
    "top = topology_from_pdb(path)"
   ]
  },
  {
   "cell_type": "code",
   "execution_count": 8,
   "id": "e9877367-8395-4130-9042-f619a9ee37fd",
   "metadata": {
    "execution": {
     "iopub.execute_input": "2025-02-11T04:43:33.474938Z",
     "iopub.status.busy": "2025-02-11T04:43:33.474754Z",
     "iopub.status.idle": "2025-02-11T04:43:33.587557Z",
     "shell.execute_reply": "2025-02-11T04:43:33.587265Z",
     "shell.execute_reply.started": "2025-02-11T04:43:33.474927Z"
    }
   },
   "outputs": [
    {
     "data": {
      "application/vnd.jupyter.widget-view+json": {
       "model_id": "9314f0da791d47cdb97935a886e07c44",
       "version_major": 2,
       "version_minor": 0
      },
      "text/plain": [
       "NGLWidget()"
      ]
     },
     "metadata": {},
     "output_type": "display_data"
    }
   ],
   "source": [
    "top.visualize()"
   ]
  },
  {
   "cell_type": "code",
   "execution_count": 11,
   "id": "3ea1e97b-8a4a-48fd-91c7-6cd9e81a9a58",
   "metadata": {
    "execution": {
     "iopub.execute_input": "2025-02-11T04:44:24.939759Z",
     "iopub.status.busy": "2025-02-11T04:44:24.939616Z",
     "iopub.status.idle": "2025-02-11T04:44:24.956403Z",
     "shell.execute_reply": "2025-02-11T04:44:24.956141Z",
     "shell.execute_reply.started": "2025-02-11T04:44:24.939749Z"
    }
   },
   "outputs": [
    {
     "data": {
      "text/plain": [
       "510389"
      ]
     },
     "execution_count": 11,
     "metadata": {},
     "output_type": "execute_result"
    }
   ],
   "source": [
    "json_path = path.with_suffix(\".json\")\n",
    "json_path.write_text(top.to_json())"
   ]
  },
  {
   "cell_type": "code",
   "execution_count": 10,
   "id": "e61858cc-0179-4d40-8343-7fbb95db98ba",
   "metadata": {
    "execution": {
     "iopub.execute_input": "2025-02-11T04:44:01.654740Z",
     "iopub.status.busy": "2025-02-11T04:44:01.654456Z",
     "iopub.status.idle": "2025-02-11T04:44:01.656853Z",
     "shell.execute_reply": "2025-02-11T04:44:01.656620Z",
     "shell.execute_reply.started": "2025-02-11T04:44:01.654729Z"
    }
   },
   "outputs": [
    {
     "data": {
      "text/plain": [
       "PosixPath('../openff/pablo/_tests/data/1A4T.json')"
      ]
     },
     "execution_count": 10,
     "metadata": {},
     "output_type": "execute_result"
    }
   ],
   "source": [
    "json_path"
   ]
  },
  {
   "cell_type": "code",
   "execution_count": null,
   "id": "89a651e2-63ff-40d9-845e-28785b00818e",
   "metadata": {},
   "outputs": [],
   "source": []
  }
 ],
 "metadata": {
  "kernelspec": {
   "display_name": "Python 3 (ipykernel)",
   "language": "python",
   "name": "python3"
  },
  "language_info": {
   "codemirror_mode": {
    "name": "ipython",
    "version": 3
   },
   "file_extension": ".py",
   "mimetype": "text/x-python",
   "name": "python",
   "nbconvert_exporter": "python",
   "pygments_lexer": "ipython3",
   "version": "3.11.0"
  },
  "widgets": {
   "application/vnd.jupyter.widget-state+json": {
    "state": {
     "08bf1ea72fcd4a71bac7612635141e02": {
      "model_module": "@jupyter-widgets/controls",
      "model_module_version": "2.0.0",
      "model_name": "LinkModel",
      "state": {
       "source": [
        "IPY_MODEL_a0865331798040d9accdde93dd183394",
        "value"
       ],
       "target": [
        "IPY_MODEL_2ff5ade84f60486faf11af72201640cd",
        "value"
       ]
      }
     },
     "0968887504854b66bacf824302a58a24": {
      "model_module": "@jupyter-widgets/base",
      "model_module_version": "2.0.0",
      "model_name": "LayoutModel",
      "state": {}
     },
     "12b96ff8224f470e95dfd4253b21bf2e": {
      "model_module": "@jupyter-widgets/controls",
      "model_module_version": "2.0.0",
      "model_name": "LinkModel",
      "state": {
       "source": [
        "IPY_MODEL_a0865331798040d9accdde93dd183394",
        "max"
       ],
       "target": [
        "IPY_MODEL_2a63cf47e4824af7828b85c4a544c88f",
        "max_frame"
       ]
      }
     },
     "1e6cd2b6982642c1a0db8e37f5db02bd": {
      "model_module": "@jupyter-widgets/controls",
      "model_module_version": "2.0.0",
      "model_name": "LinkModel",
      "state": {
       "source": [
        "IPY_MODEL_8fdb896688d9405b8e1cf7915d844656",
        "max"
       ],
       "target": [
        "IPY_MODEL_9314f0da791d47cdb97935a886e07c44",
        "max_frame"
       ]
      }
     },
     "1f586c193a7b462f9755c6f3a2282e88": {
      "model_module": "@jupyter-widgets/controls",
      "model_module_version": "2.0.0",
      "model_name": "ButtonModel",
      "state": {
       "icon": "compress",
       "layout": "IPY_MODEL_8bb4a0c931714b5ab4798ba248dcb6aa",
       "style": "IPY_MODEL_f8b3bb18f81f4f8ebb6dcf50e6d67571",
       "tooltip": null
      }
     },
     "290b50756bbd488db7b4f92b2d38227b": {
      "model_module": "@jupyter-widgets/controls",
      "model_module_version": "2.0.0",
      "model_name": "SliderStyleModel",
      "state": {
       "description_width": ""
      }
     },
     "2a63cf47e4824af7828b85c4a544c88f": {
      "model_module": "nglview-js-widgets",
      "model_module_version": "3.0.8",
      "model_name": "NGLModel",
      "state": {
       "_camera_orientation": [
        31.437335443915668,
        -22.61883483185921,
        -10.214669879262335,
        0,
        -13.646838256899471,
        -1.9853026846864226,
        -37.60424987347516,
        0,
        20.729567662719706,
        32.995516571282586,
        -9.264887501609804,
        0,
        0.9340000152587891,
        -0.6810002326965332,
        0.5054998397827148,
        1
       ],
       "_camera_str": "orthographic",
       "_gui_theme": null,
       "_ibtn_fullscreen": "IPY_MODEL_448392b5b7e0460e936c003aa3f5dc5a",
       "_igui": null,
       "_iplayer": "IPY_MODEL_64da3c501a844f04a422fd7c1e675b2d",
       "_ngl_color_dict": {},
       "_ngl_coordinate_resource": {},
       "_ngl_full_stage_parameters": {
        "ambientColor": 14540253,
        "ambientIntensity": 0.2,
        "backgroundColor": "white",
        "cameraEyeSep": 0.3,
        "cameraFov": 40,
        "cameraType": "perspective",
        "clipDist": 10,
        "clipFar": 100,
        "clipMode": "scene",
        "clipNear": 0,
        "clipScale": "relative",
        "fogFar": 100,
        "fogNear": 50,
        "hoverTimeout": 0,
        "impostor": true,
        "lightColor": 14540253,
        "lightIntensity": 1,
        "mousePreset": "default",
        "panSpeed": 1,
        "quality": "medium",
        "rotateSpeed": 2,
        "sampleLevel": 0,
        "tooltip": true,
        "workerDefault": true,
        "zoomSpeed": 1.2
       },
       "_ngl_msg_archive": [
        {
         "args": [
          {
           "binary": false,
           "data": "REMARK   1 CREATED WITH OPENMM 8.2, 2025-02-11\nCRYST1    1.000    1.000    1.000  90.00  90.00  90.00 P 1           1 \nATOM      1  O5'   G A   1       9.536   6.811   7.676  1.00  0.00           O  \nATOM      2  C5'   G A   1      10.617   6.054   7.145  1.00  0.00           C  \nATOM      3  C4'   G A   1      11.190   6.700   5.875  1.00  0.00           C  \nATOM      4  O4'   G A   1      12.365   5.959   5.435  1.00  0.00           O  \nATOM      5  C3'   G A   1      10.264   6.644   4.657  1.00  0.00           C  \nATOM      6  O3'   G A   1       9.300   7.705   4.620  1.00  0.00           O  \nATOM      7  C2'   G A   1      11.235   6.678   3.482  1.00  0.00           C  \nATOM      8  O2'   G A   1      11.451   7.949   2.868  1.00  0.00           O  \nATOM      9  C1'   G A   1      12.534   6.100   4.016  1.00  0.00           C  \nATOM     10  N9    G A   1      12.901   4.816   3.367  1.00  0.00           N  \nATOM     11  C8    G A   1      12.912   3.591   3.921  1.00  0.00           C  \nATOM     12  N7    G A   1      13.279   2.621   3.121  1.00  0.00           N  \nATOM     13  C5    G A   1      13.534   3.248   1.930  1.00  0.00           C  \nATOM     14  C6    G A   1      13.958   2.683   0.720  1.00  0.00           C  \nATOM     15  O6    G A   1      14.185   1.483   0.537  1.00  0.00           O  \nATOM     16  N1    G A   1      14.106   3.675  -0.294  1.00  0.00           N  \nATOM     17  C2    G A   1      13.870   5.055  -0.145  1.00  0.00           C  \nATOM     18  N2    G A   1      14.093   5.754  -1.293  1.00  0.00           N  \nATOM     19  N3    G A   1      13.460   5.557   1.052  1.00  0.00           N  \nATOM     20  C4    G A   1      13.311   4.622   2.034  1.00  0.00           C  \nATOM     21  H5'   G A   1      10.263   5.022   6.937  1.00  0.00           H  \nATOM     22 H5''   G A   1      11.408   6.001   7.924  1.00  0.00           H  \nATOM     23  H4'   G A   1      11.546   7.732   6.079  1.00  0.00           H  \nATOM     24  H3'   G A   1       9.785   5.642   4.630  1.00  0.00           H  \nATOM     25  H2'   G A   1      10.853   5.939   2.744  1.00  0.00           H  \nATOM     26 HO2'   G A   1      11.048   7.896   1.998  1.00  0.00           H  \nATOM     27  H1'   G A   1      13.364   6.807   3.804  1.00  0.00           H  \nATOM     28  H8    G A   1      12.590   3.573   4.962  1.00  0.00           H  \nATOM     29  H1    G A   1      14.398   3.333  -1.198  1.00  0.00           H  \nATOM     30  H21   G A   1      14.383   5.252  -2.108  1.00  0.00           H  \nATOM     31  H22   G A   1      13.969   6.745  -1.319  1.00  0.00           H  \nATOM     32 HO5'   G A   1       9.887   7.687   7.850  1.00  0.00           H  \nATOM     33  P     C A   2       7.892   7.568   3.883  1.00  0.00           P  \nATOM     34  OP1   C A   2       7.112   8.799   4.143  1.00  0.00           O  \nATOM     35  OP2   C A   2       7.256   6.293   4.289  1.00  0.00           O  \nATOM     36  O5'   C A   2       8.256   7.481   2.328  1.00  0.00           O  \nATOM     37  C5'   C A   2       8.498   8.643   1.536  1.00  0.00           C  \nATOM     38  C4'   C A   2       8.807   8.359   0.034  1.00  0.00           C  \nATOM     39  O4'   C A   2      10.130   7.756  -0.193  1.00  0.00           O  \nATOM     40  C3'   C A   2       7.824   7.449  -0.712  1.00  0.00           C  \nATOM     41  O3'   C A   2       6.628   8.139  -1.095  1.00  0.00           O  \nATOM     42  C2'   C A   2       8.674   6.932  -1.889  1.00  0.00           C  \nATOM     43  O2'   C A   2       8.760   7.845  -2.985  1.00  0.00           O  \nATOM     44  C1'   C A   2      10.053   6.741  -1.233  1.00  0.00           C  \nATOM     45  N1    C A   2      10.293   5.362  -0.673  1.00  0.00           N  \nATOM     46  C2    C A   2      10.711   4.284  -1.536  1.00  0.00           C  \nATOM     47  O2    C A   2      10.875   4.435  -2.761  1.00  0.00           O  \nATOM     48  N3    C A   2      10.934   3.048  -0.963  1.00  0.00           N  \nATOM     49  C4    C A   2      10.773   2.832   0.372  1.00  0.00           C  \nATOM     50  N4    C A   2      10.977   1.603   0.927  1.00  0.00           N  \nATOM     51  C5    C A   2      10.359   3.920   1.224  1.00  0.00           C  \nATOM     52  C6    C A   2      10.137   5.113   0.667  1.00  0.00           C  \nATOM     53  H5'   C A   2       9.339   9.228   1.965  1.00  0.00           H  \nATOM     54 H5''   C A   2       7.596   9.292   1.567  1.00  0.00           H  \nATOM     55  H4'   C A   2       8.880   9.341  -0.481  1.00  0.00           H  \nATOM     56  H3'   C A   2       7.574   6.583  -0.062  1.00  0.00           H  \nATOM     57  H2'   C A   2       8.272   5.963  -2.257  1.00  0.00           H  \nATOM     58 HO2'   C A   2       9.112   8.661  -2.621  1.00  0.00           H  \nATOM     59  H1'   C A   2      10.878   6.911  -1.957  1.00  0.00           H  \nATOM     60  H41   C A   2      11.277   0.855   0.334  1.00  0.00           H  \nATOM     61  H42   C A   2      10.830   1.455   1.905  1.00  0.00           H  \nATOM     62  H5    C A   2      10.256   3.838   2.306  1.00  0.00           H  \nATOM     63  H6    C A   2       9.795   5.977   1.236  1.00  0.00           H  \nATOM     64  P     G A   3       5.294   7.365  -1.499  1.00  0.00           P  \nATOM     65  OP1   G A   3       4.195   8.348  -1.629  1.00  0.00           O  \nATOM     66  OP2   G A   3       5.067   6.231  -0.570  1.00  0.00           O  \nATOM     67  O5'   G A   3       5.658   6.856  -2.957  1.00  0.00           O  \nATOM     68  C5'   G A   3       5.432   5.521  -3.376  1.00  0.00           C  \nATOM     69  C4'   G A   3       6.231   5.228  -4.661  1.00  0.00           C  \nATOM     70  O4'   G A   3       7.593   4.827  -4.312  1.00  0.00           O  \nATOM     71  C3'   G A   3       5.654   4.057  -5.457  1.00  0.00           C  \nATOM     72  O3'   G A   3       4.862   4.559  -6.539  1.00  0.00           O  \nATOM     73  C2'   G A   3       6.871   3.253  -5.939  1.00  0.00           C  \nATOM     74  O2'   G A   3       7.375   3.666  -7.211  1.00  0.00           O  \nATOM     75  C1'   G A   3       7.900   3.534  -4.836  1.00  0.00           C  \nATOM     76  N9    G A   3       8.079   2.539  -3.735  1.00  0.00           N  \nATOM     77  C8    G A   3       7.906   2.703  -2.393  1.00  0.00           C  \nATOM     78  N7    G A   3       8.188   1.653  -1.664  1.00  0.00           N  \nATOM     79  C5    G A   3       8.579   0.710  -2.571  1.00  0.00           C  \nATOM     80  C6    G A   3       8.992  -0.603  -2.325  1.00  0.00           C  \nATOM     81  O6    G A   3       9.081  -1.128  -1.210  1.00  0.00           O  \nATOM     82  N1    G A   3       9.314  -1.276  -3.537  1.00  0.00           N  \nATOM     83  C2    G A   3       9.244  -0.733  -4.834  1.00  0.00           C  \nATOM     84  N2    G A   3       9.604  -1.619  -5.803  1.00  0.00           N  \nATOM     85  N3    G A   3       8.840   0.549  -5.023  1.00  0.00           N  \nATOM     86  C4    G A   3       8.526   1.211  -3.875  1.00  0.00           C  \nATOM     87  H5'   G A   3       4.346   5.389  -3.571  1.00  0.00           H  \nATOM     88 H5''   G A   3       5.715   4.796  -2.585  1.00  0.00           H  \nATOM     89  H4'   G A   3       6.314   6.136  -5.295  1.00  0.00           H  \nATOM     90  H3'   G A   3       5.066   3.393  -4.788  1.00  0.00           H  \nATOM     91  H2'   G A   3       6.640   2.168  -6.008  1.00  0.00           H  \nATOM     92 HO2'   G A   3       6.657   3.481  -7.821  1.00  0.00           H  \nATOM     93  H1'   G A   3       8.909   3.594  -5.297  1.00  0.00           H  \nATOM     94  H8    G A   3       7.547   3.668  -2.038  1.00  0.00           H  \nATOM     95  H1    G A   3       9.615  -2.232  -3.408  1.00  0.00           H  \nATOM     96  H21   G A   3       9.861  -2.544  -5.522  1.00  0.00           H  \nATOM     97  H22   G A   3       9.610  -1.351  -6.767  1.00  0.00           H  \nATOM     98  P     C A   4       3.467   3.957  -6.963  1.00  0.00           P  \nATOM     99  OP1   C A   4       3.033   4.607  -8.222  1.00  0.00           O  \nATOM    100  OP2   C A   4       2.533   4.027  -5.818  1.00  0.00           O  \nATOM    101  O5'   C A   4       3.818   2.450  -7.221  1.00  0.00           O  \nATOM    102  C5'   C A   4       4.312   1.873  -8.418  1.00  0.00           C  \nATOM    103  C4'   C A   4       4.542   0.346  -8.254  1.00  0.00           C  \nATOM    104  O4'   C A   4       5.743   0.062  -7.444  1.00  0.00           O  \nATOM    105  C3'   C A   4       3.440  -0.359  -7.456  1.00  0.00           C  \nATOM    106  O3'   C A   4       2.136  -0.484  -8.014  1.00  0.00           O  \nATOM    107  C2'   C A   4       4.105  -1.593  -6.881  1.00  0.00           C  \nATOM    108  O2'   C A   4       4.088  -2.750  -7.706  1.00  0.00           O  \nATOM    109  C1'   C A   4       5.563  -1.168  -6.691  1.00  0.00           C  \nATOM    110  N1    C A   4       5.770  -1.054  -5.222  1.00  0.00           N  \nATOM    111  C2    C A   4       6.140  -2.233  -4.469  1.00  0.00           C  \nATOM    112  O2    C A   4       6.382  -3.326  -5.017  1.00  0.00           O  \nATOM    113  N3    C A   4       6.222  -2.127  -3.100  1.00  0.00           N  \nATOM    114  C4    C A   4       5.965  -0.954  -2.460  1.00  0.00           C  \nATOM    115  N4    C A   4       6.025  -0.879  -1.098  1.00  0.00           N  \nATOM    116  C5    C A   4       5.606   0.211  -3.242  1.00  0.00           C  \nATOM    117  C6    C A   4       5.526   0.116  -4.557  1.00  0.00           C  \nATOM    118  H5'   C A   4       5.260   2.363  -8.724  1.00  0.00           H  \nATOM    119 H5''   C A   4       3.565   2.027  -9.226  1.00  0.00           H  \nATOM    120  H4'   C A   4       4.697  -0.127  -9.247  1.00  0.00           H  \nATOM    121  H3'   C A   4       3.303   0.246  -6.535  1.00  0.00           H  \nATOM    122  H2'   C A   4       3.657  -1.734  -5.874  1.00  0.00           H  \nATOM    123 HO2'   C A   4       3.207  -2.786  -8.087  1.00  0.00           H  \nATOM    124  H1'   C A   4       6.209  -1.983  -7.081  1.00  0.00           H  \nATOM    125  H41   C A   4       6.270  -1.717  -0.610  1.00  0.00           H  \nATOM    126  H42   C A   4       5.837  -0.030  -0.606  1.00  0.00           H  \nATOM    127  H5    C A   4       5.373   1.227  -2.924  1.00  0.00           H  \nATOM    128  H6    C A   4       5.263   1.010  -5.121  1.00  0.00           H  \nATOM    129  P     U A   5       1.550  -1.239  -9.267  1.00  0.00           P  \nATOM    130  OP1   U A   5       2.470  -1.062 -10.414  1.00  0.00           O  \nATOM    131  OP2   U A   5       0.152  -0.791  -9.465  1.00  0.00           O  \nATOM    132  O5'   U A   5       1.554  -2.776  -8.863  1.00  0.00           O  \nATOM    133  C5'   U A   5       0.786  -3.298  -7.790  1.00  0.00           C  \nATOM    134  C4'   U A   5       1.123  -4.790  -7.549  1.00  0.00           C  \nATOM    135  O4'   U A   5       2.457  -4.996  -6.984  1.00  0.00           O  \nATOM    136  C3'   U A   5       0.162  -5.478  -6.587  1.00  0.00           C  \nATOM    137  O3'   U A   5      -0.892  -6.104  -7.321  1.00  0.00           O  \nATOM    138  C2'   U A   5       1.025  -6.500  -5.833  1.00  0.00           C  \nATOM    139  O2'   U A   5       1.116  -7.779  -6.467  1.00  0.00           O  \nATOM    140  C1'   U A   5       2.406  -5.838  -5.818  1.00  0.00           C  \nATOM    141  N1    U A   5       2.791  -5.111  -4.560  1.00  0.00           N  \nATOM    142  C2    U A   5       3.102  -5.892  -3.391  1.00  0.00           C  \nATOM    143  O2    U A   5       3.074  -7.129  -3.330  1.00  0.00           O  \nATOM    144  N3    U A   5       3.463  -5.128  -2.258  1.00  0.00           N  \nATOM    145  C4    U A   5       3.540  -3.711  -2.177  1.00  0.00           C  \nATOM    146  O4    U A   5       3.870  -3.144  -1.132  1.00  0.00           O  \nATOM    147  C5    U A   5       3.205  -3.021  -3.412  1.00  0.00           C  \nATOM    148  C6    U A   5       2.859  -3.726  -4.509  1.00  0.00           C  \nATOM    149  H5'   U A   5      -0.291  -3.210  -8.050  1.00  0.00           H  \nATOM    150 H5''   U A   5       0.968  -2.720  -6.859  1.00  0.00           H  \nATOM    151  H4'   U A   5       1.174  -5.317  -8.526  1.00  0.00           H  \nATOM    152  H3'   U A   5      -0.208  -4.738  -5.845  1.00  0.00           H  \nATOM    153  H2'   U A   5       0.647  -6.639  -4.797  1.00  0.00           H  \nATOM    154 HO2'   U A   5       1.448  -7.609  -7.352  1.00  0.00           H  \nATOM    155  H1'   U A   5       3.188  -6.618  -5.938  1.00  0.00           H  \nATOM    156  H3    U A   5       3.688  -5.664  -1.433  1.00  0.00           H  \nATOM    157  H5    U A   5       3.243  -1.932  -3.433  1.00  0.00           H  \nATOM    158  H6    U A   5       2.606  -3.268  -5.466  1.00  0.00           H  \nATOM    159  P     G A   6      -2.415  -6.084  -6.911  1.00  0.00           P  \nATOM    160  OP1   G A   6      -3.161  -6.985  -7.822  1.00  0.00           O  \nATOM    161  OP2   G A   6      -2.875  -4.682  -6.848  1.00  0.00           O  \nATOM    162  O5'   G A   6      -2.404  -6.683  -5.445  1.00  0.00           O  \nATOM    163  C5'   G A   6      -2.249  -8.073  -5.173  1.00  0.00           C  \nATOM    164  C4'   G A   6      -2.168  -8.372  -3.652  1.00  0.00           C  \nATOM    165  O4'   G A   6      -0.902  -7.917  -3.073  1.00  0.00           O  \nATOM    166  C3'   G A   6      -3.263  -7.689  -2.826  1.00  0.00           C  \nATOM    167  O3'   G A   6      -4.419  -8.521  -2.794  1.00  0.00           O  \nATOM    168  C2'   G A   6      -2.618  -7.441  -1.457  1.00  0.00           C  \nATOM    169  O2'   G A   6      -2.817  -8.522  -0.545  1.00  0.00           O  \nATOM    170  C1'   G A   6      -1.112  -7.287  -1.797  1.00  0.00           C  \nATOM    171  N9    G A   6      -0.574  -5.884  -1.863  1.00  0.00           N  \nATOM    172  C8    G A   6      -0.473  -5.054  -2.945  1.00  0.00           C  \nATOM    173  N7    G A   6       0.019  -3.870  -2.698  1.00  0.00           N  \nATOM    174  C5    G A   6       0.277  -3.885  -1.361  1.00  0.00           C  \nATOM    175  C6    G A   6       0.816  -2.860  -0.580  1.00  0.00           C  \nATOM    176  O6    G A   6       1.141  -1.750  -1.006  1.00  0.00           O  \nATOM    177  N1    G A   6       0.940  -3.252   0.778  1.00  0.00           N  \nATOM    178  C2    G A   6       0.579  -4.502   1.308  1.00  0.00           C  \nATOM    179  N2    G A   6       0.828  -4.598   2.637  1.00  0.00           N  \nATOM    180  N3    G A   6       0.055  -5.476   0.515  1.00  0.00           N  \nATOM    181  C4    G A   6      -0.071  -5.117  -0.792  1.00  0.00           C  \nATOM    182  H5'   G A   6      -1.339  -8.471  -5.670  1.00  0.00           H  \nATOM    183 H5''   G A   6      -3.125  -8.620  -5.583  1.00  0.00           H  \nATOM    184  H4'   G A   6      -2.184  -9.472  -3.497  1.00  0.00           H  \nATOM    185  H3'   G A   6      -3.494  -6.686  -3.244  1.00  0.00           H  \nATOM    186  H2'   G A   6      -3.009  -6.510  -0.994  1.00  0.00           H  \nATOM    187 HO2'   G A   6      -3.768  -8.588  -0.434  1.00  0.00           H  \nATOM    188  H1'   G A   6      -0.545  -7.839  -1.018  1.00  0.00           H  \nATOM    189  H8    G A   6      -0.780  -5.428  -3.922  1.00  0.00           H  \nATOM    190  H1    G A   6       1.324  -2.563   1.407  1.00  0.00           H  \nATOM    191  H21   G A   6       1.131  -3.814   3.177  1.00  0.00           H  \nATOM    192  H22   G A   6       0.704  -5.489   3.076  1.00  0.00           H  \nATOM    193  P     A A   7      -5.823  -8.196  -3.456  1.00  0.00           P  \nATOM    194  OP1   A A   7      -6.516  -9.475  -3.730  1.00  0.00           O  \nATOM    195  OP2   A A   7      -5.644  -7.279  -4.606  1.00  0.00           O  \nATOM    196  O5'   A A   7      -6.601  -7.414  -2.316  1.00  0.00           O  \nATOM    197  C5'   A A   7      -6.822  -7.999  -1.033  1.00  0.00           C  \nATOM    198  C4'   A A   7      -6.968  -6.910   0.048  1.00  0.00           C  \nATOM    199  O4'   A A   7      -7.036  -7.550   1.354  1.00  0.00           O  \nATOM    200  C3'   A A   7      -5.800  -5.904   0.114  1.00  0.00           C  \nATOM    201  O3'   A A   7      -6.276  -4.566  -0.065  1.00  0.00           O  \nATOM    202  C2'   A A   7      -5.102  -6.160   1.462  1.00  0.00           C  \nATOM    203  O2'   A A   7      -4.699  -4.985   2.161  1.00  0.00           O  \nATOM    204  C1'   A A   7      -6.107  -6.982   2.275  1.00  0.00           C  \nATOM    205  N9    A A   7      -5.513  -8.131   3.004  1.00  0.00           N  \nATOM    206  C8    A A   7      -4.755  -9.169   2.537  1.00  0.00           C  \nATOM    207  N7    A A   7      -4.407 -10.038   3.458  1.00  0.00           N  \nATOM    208  C5    A A   7      -4.963  -9.550   4.614  1.00  0.00           C  \nATOM    209  C6    A A   7      -4.928 -10.057   5.932  1.00  0.00           C  \nATOM    210  N6    A A   7      -4.250 -11.216   6.197  1.00  0.00           N  \nATOM    211  N1    A A   7      -5.607  -9.298   6.861  1.00  0.00           N  \nATOM    212  C2    A A   7      -6.230  -8.178   6.476  1.00  0.00           C  \nATOM    213  N3    A A   7      -6.319  -7.629   5.279  1.00  0.00           N  \nATOM    214  C4    A A   7      -5.653  -8.372   4.370  1.00  0.00           C  \nATOM    215  H5'   A A   7      -5.985  -8.671  -0.747  1.00  0.00           H  \nATOM    216 H5''   A A   7      -7.751  -8.607  -1.063  1.00  0.00           H  \nATOM    217  H4'   A A   7      -7.937  -6.387  -0.090  1.00  0.00           H  \nATOM    218  H3'   A A   7      -5.045  -6.141  -0.666  1.00  0.00           H  \nATOM    219  H2'   A A   7      -4.191  -6.764   1.262  1.00  0.00           H  \nATOM    220 HO2'   A A   7      -4.238  -5.246   2.963  1.00  0.00           H  \nATOM    221  H1'   A A   7      -6.679  -6.363   2.999  1.00  0.00           H  \nATOM    222  H8    A A   7      -4.503  -9.190   1.476  1.00  0.00           H  \nATOM    223  H61   A A   7      -4.272 -11.611   7.115  1.00  0.00           H  \nATOM    224  H62   A A   7      -3.733 -11.663   5.468  1.00  0.00           H  \nATOM    225  H2    A A   7      -6.764  -7.589   7.222  1.00  0.00           H  \nATOM    226  P     C A   8      -6.237  -3.860  -1.495  1.00  0.00           P  \nATOM    227  OP1   C A   8      -7.405  -4.320  -2.281  1.00  0.00           O  \nATOM    228  OP2   C A   8      -4.900  -4.040  -2.118  1.00  0.00           O  \nATOM    229  O5'   C A   8      -6.478  -2.340  -1.109  1.00  0.00           O  \nATOM    230  C5'   C A   8      -5.446  -1.364  -0.985  1.00  0.00           C  \nATOM    231  C4'   C A   8      -5.326  -0.741   0.423  1.00  0.00           C  \nATOM    232  O4'   C A   8      -6.581  -0.177   0.866  1.00  0.00           O  \nATOM    233  C3'   C A   8      -4.974  -1.764   1.492  1.00  0.00           C  \nATOM    234  O3'   C A   8      -3.685  -1.461   1.994  1.00  0.00           O  \nATOM    235  C2'   C A   8      -6.098  -1.718   2.532  1.00  0.00           C  \nATOM    236  O2'   C A   8      -5.697  -1.948   3.879  1.00  0.00           O  \nATOM    237  C1'   C A   8      -6.732  -0.351   2.280  1.00  0.00           C  \nATOM    238  N1    C A   8      -8.188  -0.355   2.644  1.00  0.00           N  \nATOM    239  C2    C A   8      -8.612  -0.028   3.990  1.00  0.00           C  \nATOM    240  O2    C A   8      -7.801   0.279   4.889  1.00  0.00           O  \nATOM    241  N3    C A   8      -9.966  -0.069   4.268  1.00  0.00           N  \nATOM    242  C4    C A   8     -10.883  -0.402   3.315  1.00  0.00           C  \nATOM    243  N4    C A   8     -12.220  -0.455   3.586  1.00  0.00           N  \nATOM    244  C5    C A   8     -10.439  -0.721   1.976  1.00  0.00           C  \nATOM    245  C6    C A   8      -9.143  -0.688   1.703  1.00  0.00           C  \nATOM    246  H5'   C A   8      -5.633  -0.551  -1.719  1.00  0.00           H  \nATOM    247 H5''   C A   8      -4.454  -1.794  -1.241  1.00  0.00           H  \nATOM    248  H4'   C A   8      -4.598   0.097   0.392  1.00  0.00           H  \nATOM    249  H3'   C A   8      -5.061  -2.786   1.062  1.00  0.00           H  \nATOM    250  H2'   C A   8      -6.845  -2.497   2.267  1.00  0.00           H  \nATOM    251 HO2'   C A   8      -5.055  -2.660   3.835  1.00  0.00           H  \nATOM    252  H1'   C A   8      -6.192   0.500   2.748  1.00  0.00           H  \nATOM    253  H41   C A   8     -12.554  -0.248   4.507  1.00  0.00           H  \nATOM    254  H42   C A   8     -12.867  -0.702   2.864  1.00  0.00           H  \nATOM    255  H5    C A   8     -11.064  -0.980   1.122  1.00  0.00           H  \nATOM    256  H6    C A   8      -8.804  -0.941   0.699  1.00  0.00           H  \nATOM    257  P     A A   9      -2.338  -2.240   1.730  1.00  0.00           P  \nATOM    258  OP1   A A   9      -1.227  -1.260   1.787  1.00  0.00           O  \nATOM    259  OP2   A A   9      -2.453  -3.041   0.488  1.00  0.00           O  \nATOM    260  O5'   A A   9      -2.230  -3.229   2.971  1.00  0.00           O  \nATOM    261  C5'   A A   9      -2.263  -2.712   4.304  1.00  0.00           C  \nATOM    262  C4'   A A   9      -2.306  -3.811   5.391  1.00  0.00           C  \nATOM    263  O4'   A A   9      -3.076  -4.986   4.958  1.00  0.00           O  \nATOM    264  C3'   A A   9      -0.941  -4.384   5.774  1.00  0.00           C  \nATOM    265  O3'   A A   9      -0.219  -3.532   6.669  1.00  0.00           O  \nATOM    266  C2'   A A   9      -1.311  -5.736   6.385  1.00  0.00           C  \nATOM    267  O2'   A A   9      -1.730  -5.664   7.749  1.00  0.00           O  \nATOM    268  C1'   A A   9      -2.470  -6.184   5.474  1.00  0.00           C  \nATOM    269  N9    A A   9      -2.097  -7.136   4.372  1.00  0.00           N  \nATOM    270  C8    A A   9      -2.077  -6.954   3.012  1.00  0.00           C  \nATOM    271  N7    A A   9      -1.743  -8.011   2.319  1.00  0.00           N  \nATOM    272  C5    A A   9      -1.517  -8.979   3.257  1.00  0.00           C  \nATOM    273  C6    A A   9      -1.133 -10.324   3.083  1.00  0.00           C  \nATOM    274  N6    A A   9      -0.970 -10.815   1.815  1.00  0.00           N  \nATOM    275  N1    A A   9      -0.983 -11.037   4.246  1.00  0.00           N  \nATOM    276  C2    A A   9      -1.201 -10.446   5.426  1.00  0.00           C  \nATOM    277  N3    A A   9      -1.571  -9.192   5.691  1.00  0.00           N  \nATOM    278  C4    A A   9      -1.717  -8.487   4.541  1.00  0.00           C  \nATOM    279  H5'   A A   9      -3.180  -2.100   4.439  1.00  0.00           H  \nATOM    280 H5''   A A   9      -1.394  -2.043   4.481  1.00  0.00           H  \nATOM    281  H4'   A A   9      -2.811  -3.405   6.293  1.00  0.00           H  \nATOM    282  H3'   A A   9      -0.362  -4.585   4.848  1.00  0.00           H  \nATOM    283  H2'   A A   9      -0.473  -6.462   6.308  1.00  0.00           H  \nATOM    284 HO2'   A A   9      -2.458  -5.037   7.768  1.00  0.00           H  \nATOM    285  H1'   A A   9      -3.235  -6.692   6.098  1.00  0.00           H  \nATOM    286  H8    A A   9      -2.316  -5.983   2.580  1.00  0.00           H  \nATOM    287  H61   A A   9      -0.655 -11.753   1.671  1.00  0.00           H  \nATOM    288  H62   A A   9      -1.176 -10.221   1.037  1.00  0.00           H  \nATOM    289  H2    A A   9      -1.055 -11.074   6.304  1.00  0.00           H  \nATOM    290  P     A A  10       1.326  -3.198   6.471  1.00  0.00           P  \nATOM    291  OP1   A A  10       1.704  -2.137   7.435  1.00  0.00           O  \nATOM    292  OP2   A A  10       1.586  -2.910   5.042  1.00  0.00           O  \nATOM    293  O5'   A A  10       2.056  -4.561   6.853  1.00  0.00           O  \nATOM    294  C5'   A A  10       2.109  -5.016   8.206  1.00  0.00           C  \nATOM    295  C4'   A A  10       2.400  -6.533   8.329  1.00  0.00           C  \nATOM    296  O4'   A A  10       1.365  -7.336   7.659  1.00  0.00           O  \nATOM    297  C3'   A A  10       3.702  -7.014   7.684  1.00  0.00           C  \nATOM    298  O3'   A A  10       4.867  -6.785   8.478  1.00  0.00           O  \nATOM    299  C2'   A A  10       3.417  -8.504   7.460  1.00  0.00           C  \nATOM    300  O2'   A A  10       3.557  -9.312   8.630  1.00  0.00           O  \nATOM    301  C1'   A A  10       1.959  -8.463   6.980  1.00  0.00           C  \nATOM    302  N9    A A  10       1.807  -8.355   5.486  1.00  0.00           N  \nATOM    303  C8    A A  10       1.438  -7.278   4.736  1.00  0.00           C  \nATOM    304  N7    A A  10       1.392  -7.485   3.449  1.00  0.00           N  \nATOM    305  C5    A A  10       1.755  -8.787   3.298  1.00  0.00           C  \nATOM    306  C6    A A  10       1.882  -9.549   2.121  1.00  0.00           C  \nATOM    307  N6    A A  10       1.609  -8.971   0.907  1.00  0.00           N  \nATOM    308  N1    A A  10       2.274 -10.850   2.318  1.00  0.00           N  \nATOM    309  C2    A A  10       2.503 -11.300   3.556  1.00  0.00           C  \nATOM    310  N3    A A  10       2.411 -10.661   4.725  1.00  0.00           N  \nATOM    311  C4    A A  10       2.025  -9.375   4.529  1.00  0.00           C  \nATOM    312  H5'   A A  10       1.149  -4.812   8.725  1.00  0.00           H  \nATOM    313 H5''   A A  10       2.907  -4.459   8.742  1.00  0.00           H  \nATOM    314  H4'   A A  10       2.374  -6.817   9.403  1.00  0.00           H  \nATOM    315  H3'   A A  10       3.796  -6.533   6.686  1.00  0.00           H  \nATOM    316  H2'   A A  10       4.070  -8.915   6.659  1.00  0.00           H  \nATOM    317 HO2'   A A  10       2.957  -8.940   9.280  1.00  0.00           H  \nATOM    318  H1'   A A  10       1.427  -9.384   7.303  1.00  0.00           H  \nATOM    319  H8    A A  10       1.223  -6.337   5.242  1.00  0.00           H  \nATOM    320  H61   A A  10       1.719  -9.503   0.067  1.00  0.00           H  \nATOM    321  H62   A A  10       1.301  -8.021   0.857  1.00  0.00           H  \nATOM    322  H2    A A  10       2.810 -12.344   3.621  1.00  0.00           H  \nATOM    323  P     A A  11       6.218  -6.226   7.833  1.00  0.00           P  \nATOM    324  OP1   A A  11       7.239  -6.126   8.902  1.00  0.00           O  \nATOM    325  OP2   A A  11       5.919  -4.980   7.087  1.00  0.00           O  \nATOM    326  O5'   A A  11       6.653  -7.343   6.783  1.00  0.00           O  \nATOM    327  C5'   A A  11       7.103  -8.629   7.189  1.00  0.00           C  \nATOM    328  C4'   A A  11       7.128  -9.684   6.051  1.00  0.00           C  \nATOM    329  O4'   A A  11       5.789  -9.919   5.491  1.00  0.00           O  \nATOM    330  C3'   A A  11       7.988  -9.325   4.838  1.00  0.00           C  \nATOM    331  O3'   A A  11       9.365  -9.646   5.031  1.00  0.00           O  \nATOM    332  C2'   A A  11       7.309 -10.116   3.709  1.00  0.00           C  \nATOM    333  O2'   A A  11       7.674 -11.494   3.634  1.00  0.00           O  \nATOM    334  C1'   A A  11       5.827  -9.949   4.052  1.00  0.00           C  \nATOM    335  N9    A A  11       5.234  -8.694   3.462  1.00  0.00           N  \nATOM    336  C8    A A  11       4.848  -7.558   4.106  1.00  0.00           C  \nATOM    337  N7    A A  11       4.386  -6.606   3.346  1.00  0.00           N  \nATOM    338  C5    A A  11       4.458  -7.124   2.085  1.00  0.00           C  \nATOM    339  C6    A A  11       4.093  -6.541   0.862  1.00  0.00           C  \nATOM    340  N6    A A  11       3.583  -5.275   0.857  1.00  0.00           N  \nATOM    341  N1    A A  11       4.290  -7.327  -0.242  1.00  0.00           N  \nATOM    342  C2    A A  11       4.795  -8.559  -0.101  1.00  0.00           C  \nATOM    343  N3    A A  11       5.172  -9.202   1.009  1.00  0.00           N  \nATOM    344  C4    A A  11       4.974  -8.415   2.099  1.00  0.00           C  \nATOM    345  H5'   A A  11       6.474  -9.022   8.017  1.00  0.00           H  \nATOM    346 H5''   A A  11       8.142  -8.515   7.568  1.00  0.00           H  \nATOM    347  H4'   A A  11       7.456 -10.657   6.477  1.00  0.00           H  \nATOM    348  H3'   A A  11       7.862  -8.244   4.612  1.00  0.00           H  \nATOM    349  H2'   A A  11       7.518  -9.646   2.725  1.00  0.00           H  \nATOM    350 HO2'   A A  11       8.131 -11.552   2.792  1.00  0.00           H  \nATOM    351  H1'   A A  11       5.241 -10.832   3.720  1.00  0.00           H  \nATOM    352  H8    A A  11       4.948  -7.529   5.191  1.00  0.00           H  \nATOM    353  H61   A A  11       3.329  -4.840  -0.007  1.00  0.00           H  \nATOM    354  H62   A A  11       3.465  -4.782   1.719  1.00  0.00           H  \nATOM    355  H2    A A  11       4.921  -9.119  -1.027  1.00  0.00           H  \nATOM    356  P     G A  12      10.540  -8.783   4.381  1.00  0.00           P  \nATOM    357  OP1   G A  12      11.831  -9.277   4.917  1.00  0.00           O  \nATOM    358  OP2   G A  12      10.258  -7.340   4.567  1.00  0.00           O  \nATOM    359  O5'   G A  12      10.452  -9.113   2.824  1.00  0.00           O  \nATOM    360  C5'   G A  12      10.663 -10.443   2.358  1.00  0.00           C  \nATOM    361  C4'   G A  12      10.098 -10.690   0.940  1.00  0.00           C  \nATOM    362  O4'   G A  12       8.702 -10.295   0.786  1.00  0.00           O  \nATOM    363  C3'   G A  12      10.846  -9.997  -0.192  1.00  0.00           C  \nATOM    364  O3'   G A  12      11.964 -10.785  -0.606  1.00  0.00           O  \nATOM    365  C2'   G A  12       9.776  -9.838  -1.276  1.00  0.00           C  \nATOM    366  O2'   G A  12       9.615 -10.988  -2.110  1.00  0.00           O  \nATOM    367  C1'   G A  12       8.510  -9.589  -0.448  1.00  0.00           C  \nATOM    368  N9    G A  12       8.124  -8.165  -0.179  1.00  0.00           N  \nATOM    369  C8    G A  12       8.099  -7.504   1.011  1.00  0.00           C  \nATOM    370  N7    G A  12       7.705  -6.256   0.948  1.00  0.00           N  \nATOM    371  C5    G A  12       7.441  -6.048  -0.380  1.00  0.00           C  \nATOM    372  C6    G A  12       6.984  -4.875  -1.011  1.00  0.00           C  \nATOM    373  O6    G A  12       6.743  -3.799  -0.450  1.00  0.00           O  \nATOM    374  N1    G A  12       6.833  -5.073  -2.415  1.00  0.00           N  \nATOM    375  C2    G A  12       7.095  -6.265  -3.119  1.00  0.00           C  \nATOM    376  N2    G A  12       6.863  -6.153  -4.455  1.00  0.00           N  \nATOM    377  N3    G A  12       7.534  -7.373  -2.465  1.00  0.00           N  \nATOM    378  C4    G A  12       7.687  -7.211  -1.123  1.00  0.00           C  \nATOM    379  H5'   G A  12      10.186 -11.178   3.039  1.00  0.00           H  \nATOM    380 H5''   G A  12      11.752 -10.660   2.355  1.00  0.00           H  \nATOM    381  H4'   G A  12      10.050 -11.788   0.777  1.00  0.00           H  \nATOM    382  H3'   G A  12      11.156  -8.981   0.135  1.00  0.00           H  \nATOM    383  H2'   G A  12       9.945  -8.951  -1.924  1.00  0.00           H  \nATOM    384 HO2'   G A  12       8.884 -10.789  -2.698  1.00  0.00           H  \nATOM    385  H1'   G A  12       7.669 -10.037  -1.020  1.00  0.00           H  \nATOM    386  H8    G A  12       8.396  -8.076   1.892  1.00  0.00           H  \nATOM    387  H1    G A  12       6.505  -4.267  -2.927  1.00  0.00           H  \nATOM    388  H21   G A  12       6.590  -5.260  -4.811  1.00  0.00           H  \nATOM    389  H22   G A  12       6.966  -6.942  -5.062  1.00  0.00           H  \nATOM    390  P     C A  13      13.385 -10.162  -0.925  1.00  0.00           P  \nATOM    391  OP1   C A  13      14.328 -11.266  -1.226  1.00  0.00           O  \nATOM    392  OP2   C A  13      13.775  -9.234   0.160  1.00  0.00           O  \nATOM    393  O5'   C A  13      13.113  -9.316  -2.235  1.00  0.00           O  \nATOM    394  C5'   C A  13      12.858  -9.918  -3.502  1.00  0.00           C  \nATOM    395  C4'   C A  13      12.411  -8.882  -4.562  1.00  0.00           C  \nATOM    396  O4'   C A  13      11.093  -8.314  -4.244  1.00  0.00           O  \nATOM    397  C3'   C A  13      13.335  -7.667  -4.673  1.00  0.00           C  \nATOM    398  O3'   C A  13      14.489  -7.952  -5.471  1.00  0.00           O  \nATOM    399  C2'   C A  13      12.411  -6.571  -5.206  1.00  0.00           C  \nATOM    400  O2'   C A  13      12.265  -6.557  -6.626  1.00  0.00           O  \nATOM    401  C1'   C A  13      11.077  -6.893  -4.501  1.00  0.00           C  \nATOM    402  N1    C A  13      10.795  -6.086  -3.250  1.00  0.00           N  \nATOM    403  C2    C A  13      10.351  -4.720  -3.416  1.00  0.00           C  \nATOM    404  O2    C A  13      10.185  -4.201  -4.537  1.00  0.00           O  \nATOM    405  N3    C A  13      10.104  -3.976  -2.284  1.00  0.00           N  \nATOM    406  C4    C A  13      10.265  -4.481  -1.036  1.00  0.00           C  \nATOM    407  N4    C A  13      10.015  -3.722   0.070  1.00  0.00           N  \nATOM    408  C5    C A  13      10.706  -5.842  -0.863  1.00  0.00           C  \nATOM    409  C6    C A  13      10.950  -6.582  -1.955  1.00  0.00           C  \nATOM    410  H5'   C A  13      12.074 -10.701  -3.412  1.00  0.00           H  \nATOM    411 H5''   C A  13      13.788 -10.409  -3.861  1.00  0.00           H  \nATOM    412  H4'   C A  13      12.302  -9.387  -5.546  1.00  0.00           H  \nATOM    413  H3'   C A  13      13.635  -7.358  -3.649  1.00  0.00           H  \nATOM    414  H2'   C A  13      12.790  -5.573  -4.899  1.00  0.00           H  \nATOM    415 HO2'   C A  13      12.656  -5.723  -6.896  1.00  0.00           H  \nATOM    416  H1'   C A  13      10.261  -6.663  -5.219  1.00  0.00           H  \nATOM    417  H41   C A  13       9.701  -2.783  -0.067  1.00  0.00           H  \nATOM    418  H42   C A  13      10.143  -4.096   0.989  1.00  0.00           H  \nATOM    419  H5    C A  13      10.833  -6.249   0.141  1.00  0.00           H  \nATOM    420  H6    C A  13      11.275  -7.619  -1.858  1.00  0.00           H  \nATOM    421  P     G A  14      15.770  -7.012  -5.494  1.00  0.00           P  \nATOM    422  OP1   G A  14      16.899  -7.777  -6.071  1.00  0.00           O  \nATOM    423  OP2   G A  14      15.982  -6.407  -4.154  1.00  0.00           O  \nATOM    424  O5'   G A  14      15.309  -5.919  -6.551  1.00  0.00           O  \nATOM    425  C5'   G A  14      15.810  -4.594  -6.509  1.00  0.00           C  \nATOM    426  C4'   G A  14      15.036  -3.690  -7.490  1.00  0.00           C  \nATOM    427  O4'   G A  14      13.616  -3.586  -7.109  1.00  0.00           O  \nATOM    428  C3'   G A  14      15.558  -2.247  -7.481  1.00  0.00           C  \nATOM    429  O3'   G A  14      16.544  -2.049  -8.497  1.00  0.00           O  \nATOM    430  C2'   G A  14      14.304  -1.391  -7.688  1.00  0.00           C  \nATOM    431  O2'   G A  14      13.937  -1.241  -9.062  1.00  0.00           O  \nATOM    432  C1'   G A  14      13.243  -2.210  -6.927  1.00  0.00           C  \nATOM    433  N9    G A  14      12.993  -1.920  -5.470  1.00  0.00           N  \nATOM    434  C8    G A  14      13.069  -2.771  -4.398  1.00  0.00           C  \nATOM    435  N7    G A  14      12.780  -2.236  -3.243  1.00  0.00           N  \nATOM    436  C5    G A  14      12.483  -0.938  -3.532  1.00  0.00           C  \nATOM    437  C6    G A  14      12.103   0.075  -2.644  1.00  0.00           C  \nATOM    438  O6    G A  14      11.977  -0.058  -1.422  1.00  0.00           O  \nATOM    439  N1    G A  14      11.876   1.300  -3.324  1.00  0.00           N  \nATOM    440  C2    G A  14      12.003   1.518  -4.711  1.00  0.00           C  \nATOM    441  N2    G A  14      11.719   2.798  -5.078  1.00  0.00           N  \nATOM    442  N3    G A  14      12.374   0.500  -5.537  1.00  0.00           N  \nATOM    443  C4    G A  14      12.598  -0.685  -4.904  1.00  0.00           C  \nATOM    444  H5'   G A  14      16.884  -4.602  -6.793  1.00  0.00           H  \nATOM    445 H5''   G A  14      15.720  -4.179  -5.483  1.00  0.00           H  \nATOM    446  H4'   G A  14      15.061  -4.116  -8.516  1.00  0.00           H  \nATOM    447  H3'   G A  14      15.957  -1.998  -6.474  1.00  0.00           H  \nATOM    448  H2'   G A  14      14.401  -0.369  -7.264  1.00  0.00           H  \nATOM    449 HO2'   G A  14      14.656  -0.742  -9.457  1.00  0.00           H  \nATOM    450  H1'   G A  14      12.277  -2.003  -7.437  1.00  0.00           H  \nATOM    451  H8    G A  14      13.343  -3.815  -4.556  1.00  0.00           H  \nATOM    452  H1    G A  14      11.596   2.059  -2.717  1.00  0.00           H  \nATOM    453  H21   G A  14      11.443   3.448  -4.370  1.00  0.00           H  \nATOM    454  H22   G A  14      11.785   3.079  -6.035  1.00  0.00           H  \nATOM    455  P     C A  15      17.923  -1.310  -8.231  1.00  0.00           P  \nATOM    456  OP1   C A  15      18.727  -1.351  -9.475  1.00  0.00           O  \nATOM    457  OP2   C A  15      18.555  -1.874  -7.015  1.00  0.00           O  \nATOM    458  O5'   C A  15      17.487   0.182  -7.921  1.00  0.00           O  \nATOM    459  C5'   C A  15      16.976   1.060  -8.919  1.00  0.00           C  \nATOM    460  C4'   C A  15      16.444   2.384  -8.316  1.00  0.00           C  \nATOM    461  O4'   C A  15      15.289   2.144  -7.451  1.00  0.00           O  \nATOM    462  C3'   C A  15      17.454   3.130  -7.449  1.00  0.00           C  \nATOM    463  O3'   C A  15      18.241   4.049  -8.205  1.00  0.00           O  \nATOM    464  C2'   C A  15      16.643   3.770  -6.323  1.00  0.00           C  \nATOM    465  O2'   C A  15      16.294   5.138  -6.532  1.00  0.00           O  \nATOM    466  C1'   C A  15      15.379   2.900  -6.226  1.00  0.00           C  \nATOM    467  N1    C A  15      15.343   2.051  -4.994  1.00  0.00           N  \nATOM    468  C2    C A  15      15.078   2.657  -3.702  1.00  0.00           C  \nATOM    469  O2    C A  15      14.869   3.878  -3.564  1.00  0.00           O  \nATOM    470  N3    C A  15      15.058   1.835  -2.593  1.00  0.00           N  \nATOM    471  C4    C A  15      15.278   0.496  -2.699  1.00  0.00           C  \nATOM    472  N4    C A  15      15.259  -0.330  -1.613  1.00  0.00           N  \nATOM    473  C5    C A  15      15.537  -0.084  -3.992  1.00  0.00           C  \nATOM    474  C6    C A  15      15.560   0.703  -5.064  1.00  0.00           C  \nATOM    475  H5'   C A  15      16.151   0.569  -9.479  1.00  0.00           H  \nATOM    476 H5''   C A  15      17.783   1.300  -9.644  1.00  0.00           H  \nATOM    477  H4'   C A  15      16.059   3.033  -9.131  1.00  0.00           H  \nATOM    478  H3'   C A  15      18.160   2.417  -6.973  1.00  0.00           H  \nATOM    479 HO3'   C A  15      18.720   3.519  -8.847  1.00  0.00           H  \nATOM    480  H2'   C A  15      17.209   3.649  -5.375  1.00  0.00           H  \nATOM    481 HO2'   C A  15      15.778   5.394  -5.763  1.00  0.00           H  \nATOM    482  H1'   C A  15      14.433   3.479  -6.169  1.00  0.00           H  \nATOM    483  H41   C A  15      15.032   0.063  -0.721  1.00  0.00           H  \nATOM    484  H42   C A  15      15.466  -1.303  -1.709  1.00  0.00           H  \nATOM    485  H5    C A  15      15.706  -1.146  -4.165  1.00  0.00           H  \nATOM    486  H6    C A  15      15.751   0.322  -6.067  1.00  0.00           H  \nTER     487        C A  15\nATOM    488  N   ASN B   1      10.545   2.262   5.673  1.00  0.00           N  \nATOM    489  CA  ASN B   1       9.767   1.671   4.545  1.00  0.00           C  \nATOM    490  C   ASN B   1       8.397   2.313   4.407  1.00  0.00           C  \nATOM    491  O   ASN B   1       7.703   2.540   5.404  1.00  0.00           O  \nATOM    492  CB  ASN B   1       9.723   0.103   4.620  1.00  0.00           C  \nATOM    493  CG  ASN B   1       9.235  -0.485   5.966  1.00  0.00           C  \nATOM    494  OD1 ASN B   1       9.891  -0.346   7.006  1.00  0.00           O  \nATOM    495  ND2 ASN B   1       8.070  -1.195   5.924  1.00  0.00           N  \nATOM    496  H1  ASN B   1      10.788   3.253   5.469  1.00  0.00           H  \nATOM    497  H2  ASN B   1      11.423   1.718   5.800  1.00  0.00           H  \nATOM    498  HA  ASN B   1      10.345   1.918   3.666  1.00  0.00           H  \nATOM    499  HB2 ASN B   1       9.098  -0.281   3.786  1.00  0.00           H  \nATOM    500  HB3 ASN B   1      10.755  -0.274   4.453  1.00  0.00           H  \nATOM    501 HD21 ASN B   1       7.573  -1.290   5.060  1.00  0.00           H  \nATOM    502 HD22 ASN B   1       7.714  -1.628   6.752  1.00  0.00           H  \nATOM    503  N   ALA B   2       8.006   2.639   3.135  1.00  0.00           N  \nATOM    504  CA  ALA B   2       6.767   3.299   2.774  1.00  0.00           C  \nATOM    505  C   ALA B   2       5.638   2.319   2.525  1.00  0.00           C  \nATOM    506  O   ALA B   2       5.387   1.867   1.400  1.00  0.00           O  \nATOM    507  CB  ALA B   2       6.893   4.282   1.591  1.00  0.00           C  \nATOM    508  H   ALA B   2       8.603   2.448   2.359  1.00  0.00           H  \nATOM    509  HA  ALA B   2       6.494   3.928   3.608  1.00  0.00           H  \nATOM    510  HB1 ALA B   2       7.686   5.032   1.799  1.00  0.00           H  \nATOM    511  HB2 ALA B   2       7.141   3.761   0.641  1.00  0.00           H  \nATOM    512  HB3 ALA B   2       5.923   4.812   1.478  1.00  0.00           H  \nATOM    513  N   LYS B   3       4.930   2.000   3.636  1.00  0.00           N  \nATOM    514  CA  LYS B   3       3.751   1.160   3.715  1.00  0.00           C  \nATOM    515  C   LYS B   3       2.557   2.111   3.766  1.00  0.00           C  \nATOM    516  O   LYS B   3       1.753   2.124   2.834  1.00  0.00           O  \nATOM    517  CB  LYS B   3       3.739   0.123   4.890  1.00  0.00           C  \nATOM    518  CG  LYS B   3       4.856  -0.951   4.852  1.00  0.00           C  \nATOM    519  CD  LYS B   3       4.790  -1.982   3.698  1.00  0.00           C  \nATOM    520  CE  LYS B   3       6.028  -2.893   3.596  1.00  0.00           C  \nATOM    521  NZ  LYS B   3       5.868  -3.877   2.506  1.00  0.00           N  \nATOM    522  H   LYS B   3       5.200   2.406   4.506  1.00  0.00           H  \nATOM    523  HA  LYS B   3       3.682   0.605   2.790  1.00  0.00           H  \nATOM    524  HB2 LYS B   3       3.838   0.677   5.847  1.00  0.00           H  \nATOM    525  HB3 LYS B   3       2.755  -0.393   4.905  1.00  0.00           H  \nATOM    526  HG2 LYS B   3       5.826  -0.411   4.798  1.00  0.00           H  \nATOM    527  HG3 LYS B   3       4.833  -1.505   5.815  1.00  0.00           H  \nATOM    528  HD2 LYS B   3       3.884  -2.609   3.833  1.00  0.00           H  \nATOM    529  HD3 LYS B   3       4.689  -1.439   2.734  1.00  0.00           H  \nATOM    530  HE2 LYS B   3       6.932  -2.287   3.367  1.00  0.00           H  \nATOM    531  HE3 LYS B   3       6.193  -3.458   4.538  1.00  0.00           H  \nATOM    532  HZ1 LYS B   3       5.436  -3.421   1.676  1.00  0.00           H  \nATOM    533  HZ2 LYS B   3       6.786  -4.281   2.230  1.00  0.00           H  \nATOM    534  HZ3 LYS B   3       5.260  -4.660   2.822  1.00  0.00           H  \nATOM    535  N   THR B   4       2.445   2.940   4.857  1.00  0.00           N  \nATOM    536  CA  THR B   4       1.393   3.918   5.137  1.00  0.00           C  \nATOM    537  C   THR B   4       1.318   5.078   4.152  1.00  0.00           C  \nATOM    538  O   THR B   4       0.206   5.441   3.767  1.00  0.00           O  \nATOM    539  CB  THR B   4       1.327   4.450   6.584  1.00  0.00           C  \nATOM    540  OG1 THR B   4       2.604   4.854   7.075  1.00  0.00           O  \nATOM    541  CG2 THR B   4       0.692   3.392   7.526  1.00  0.00           C  \nATOM    542  H   THR B   4       3.159   2.905   5.551  1.00  0.00           H  \nATOM    543  HA  THR B   4       0.479   3.361   4.988  1.00  0.00           H  \nATOM    544  HB  THR B   4       0.662   5.340   6.626  1.00  0.00           H  \nATOM    545  HG1 THR B   4       2.840   5.641   6.578  1.00  0.00           H  \nATOM    546 HG21 THR B   4      -0.330   3.142   7.168  1.00  0.00           H  \nATOM    547 HG22 THR B   4       1.300   2.463   7.551  1.00  0.00           H  \nATOM    548 HG23 THR B   4       0.610   3.794   8.558  1.00  0.00           H  \nATOM    549  N   ARG B   5       2.472   5.670   3.714  1.00  0.00           N  \nATOM    550  CA  ARG B   5       2.557   6.776   2.763  1.00  0.00           C  \nATOM    551  C   ARG B   5       1.857   6.429   1.436  1.00  0.00           C  \nATOM    552  O   ARG B   5       1.003   7.199   0.986  1.00  0.00           O  \nATOM    553  CB  ARG B   5       4.040   7.233   2.566  1.00  0.00           C  \nATOM    554  CG  ARG B   5       4.263   8.630   1.935  1.00  0.00           C  \nATOM    555  CD  ARG B   5       3.913   9.825   2.843  1.00  0.00           C  \nATOM    556  NE  ARG B   5       4.169  11.115   2.097  1.00  0.00           N  \nATOM    557  CZ  ARG B   5       5.283  11.912   2.203  1.00  0.00           C  \nATOM    558  NH1 ARG B   5       6.383  11.575   2.940  1.00  0.00           N  \nATOM    559  NH2 ARG B   5       5.291  13.105   1.531  1.00  0.00           N  \nATOM    560  H   ARG B   5       3.356   5.343   4.041  1.00  0.00           H  \nATOM    561  HA  ARG B   5       1.985   7.570   3.219  1.00  0.00           H  \nATOM    562  HB2 ARG B   5       4.550   7.230   3.554  1.00  0.00           H  \nATOM    563  HB3 ARG B   5       4.564   6.476   1.945  1.00  0.00           H  \nATOM    564  HG2 ARG B   5       5.339   8.703   1.670  1.00  0.00           H  \nATOM    565  HG3 ARG B   5       3.678   8.697   0.991  1.00  0.00           H  \nATOM    566  HD2 ARG B   5       2.835   9.811   3.111  1.00  0.00           H  \nATOM    567  HD3 ARG B   5       4.518   9.814   3.774  1.00  0.00           H  \nATOM    568  HE  ARG B   5       3.427  11.447   1.516  1.00  0.00           H  \nATOM    569 HH11 ARG B   5       6.449  10.681   3.384  1.00  0.00           H  \nATOM    570 HH12 ARG B   5       7.163  12.198   2.976  1.00  0.00           H  \nATOM    571 HH21 ARG B   5       4.498  13.376   0.984  1.00  0.00           H  \nATOM    572 HH22 ARG B   5       6.088  13.706   1.589  1.00  0.00           H  \nATOM    573  N   ARG B   6       2.168   5.235   0.834  1.00  0.00           N  \nATOM    574  CA  ARG B   6       1.561   4.671  -0.367  1.00  0.00           C  \nATOM    575  C   ARG B   6       0.088   4.346  -0.066  1.00  0.00           C  \nATOM    576  O   ARG B   6      -0.790   4.818  -0.795  1.00  0.00           O  \nATOM    577  CB  ARG B   6       2.349   3.422  -0.891  1.00  0.00           C  \nATOM    578  CG  ARG B   6       1.665   2.569  -1.994  1.00  0.00           C  \nATOM    579  CD  ARG B   6       2.507   1.385  -2.493  1.00  0.00           C  \nATOM    580  NE  ARG B   6       1.618   0.286  -3.028  1.00  0.00           N  \nATOM    581  CZ  ARG B   6       1.278   0.095  -4.341  1.00  0.00           C  \nATOM    582  NH1 ARG B   6       1.356   1.092  -5.270  1.00  0.00           N  \nATOM    583  NH2 ARG B   6       0.848  -1.140  -4.748  1.00  0.00           N  \nATOM    584  H   ARG B   6       2.839   4.633   1.260  1.00  0.00           H  \nATOM    585  HA  ARG B   6       1.593   5.437  -1.128  1.00  0.00           H  \nATOM    586  HB2 ARG B   6       3.334   3.773  -1.266  1.00  0.00           H  \nATOM    587  HB3 ARG B   6       2.543   2.748  -0.028  1.00  0.00           H  \nATOM    588  HG2 ARG B   6       0.720   2.175  -1.564  1.00  0.00           H  \nATOM    589  HG3 ARG B   6       1.398   3.213  -2.858  1.00  0.00           H  \nATOM    590  HD2 ARG B   6       3.216   1.707  -3.285  1.00  0.00           H  \nATOM    591  HD3 ARG B   6       3.081   0.928  -1.658  1.00  0.00           H  \nATOM    592  HE  ARG B   6       1.443  -0.466  -2.392  1.00  0.00           H  \nATOM    593 HH11 ARG B   6       1.664   2.006  -5.010  1.00  0.00           H  \nATOM    594 HH12 ARG B   6       1.304   0.839  -6.237  1.00  0.00           H  \nATOM    595 HH21 ARG B   6       0.733  -1.895  -4.101  1.00  0.00           H  \nATOM    596 HH22 ARG B   6       0.746  -1.316  -5.727  1.00  0.00           H  \nATOM    597  N   HIS B   7      -0.196   3.540   1.016  1.00  0.00           N  \nATOM    598  CA  HIS B   7      -1.493   3.105   1.510  1.00  0.00           C  \nATOM    599  C   HIS B   7      -2.522   4.223   1.518  1.00  0.00           C  \nATOM    600  O   HIS B   7      -3.528   4.052   0.856  1.00  0.00           O  \nATOM    601  CB  HIS B   7      -1.419   2.435   2.917  1.00  0.00           C  \nATOM    602  CG  HIS B   7      -2.738   2.067   3.555  1.00  0.00           C  \nATOM    603  ND1 HIS B   7      -3.130   0.779   3.787  1.00  0.00           N  \nATOM    604  CD2 HIS B   7      -3.729   2.867   4.014  1.00  0.00           C  \nATOM    605  CE1 HIS B   7      -4.326   0.802   4.356  1.00  0.00           C  \nATOM    606  NE2 HIS B   7      -4.705   2.056   4.520  1.00  0.00           N  \nATOM    607  H   HIS B   7       0.545   3.173   1.571  1.00  0.00           H  \nATOM    608  HA  HIS B   7      -1.826   2.346   0.817  1.00  0.00           H  \nATOM    609  HB2 HIS B   7      -0.773   1.533   2.859  1.00  0.00           H  \nATOM    610  HB3 HIS B   7      -0.943   3.155   3.616  1.00  0.00           H  \nATOM    611  HD1 HIS B   7      -2.633  -0.053   3.542  1.00  0.00           H  \nATOM    612  HD2 HIS B   7      -3.861   3.938   3.924  1.00  0.00           H  \nATOM    613  HE1 HIS B   7      -4.961  -0.047   4.502  1.00  0.00           H  \nATOM    614  HE2 HIS B   7      -5.585   2.358   4.887  1.00  0.00           H  \nATOM    615  N   GLU B   8      -2.301   5.370   2.232  1.00  0.00           N  \nATOM    616  CA  GLU B   8      -3.160   6.546   2.370  1.00  0.00           C  \nATOM    617  C   GLU B   8      -4.011   6.870   1.122  1.00  0.00           C  \nATOM    618  O   GLU B   8      -5.241   6.839   1.206  1.00  0.00           O  \nATOM    619  CB  GLU B   8      -2.309   7.775   2.845  1.00  0.00           C  \nATOM    620  CG  GLU B   8      -3.121   8.973   3.395  1.00  0.00           C  \nATOM    621  CD  GLU B   8      -2.190  10.106   3.838  1.00  0.00           C  \nATOM    622  OE1 GLU B   8      -1.573  10.760   2.954  1.00  0.00           O  \nATOM    623  OE2 GLU B   8      -2.096  10.342   5.073  1.00  0.00           O  \nATOM    624  H   GLU B   8      -1.454   5.448   2.750  1.00  0.00           H  \nATOM    625  HA  GLU B   8      -3.848   6.273   3.156  1.00  0.00           H  \nATOM    626  HB2 GLU B   8      -1.619   7.441   3.649  1.00  0.00           H  \nATOM    627  HB3 GLU B   8      -1.661   8.113   2.008  1.00  0.00           H  \nATOM    628  HG2 GLU B   8      -3.814   9.357   2.616  1.00  0.00           H  \nATOM    629  HG3 GLU B   8      -3.725   8.626   4.260  1.00  0.00           H  \nATOM    630  N   ARG B   9      -3.369   7.150  -0.054  1.00  0.00           N  \nATOM    631  CA  ARG B   9      -3.999   7.449  -1.344  1.00  0.00           C  \nATOM    632  C   ARG B   9      -4.631   6.216  -2.007  1.00  0.00           C  \nATOM    633  O   ARG B   9      -5.793   6.286  -2.418  1.00  0.00           O  \nATOM    634  CB  ARG B   9      -3.105   8.264  -2.332  1.00  0.00           C  \nATOM    635  CG  ARG B   9      -1.679   7.720  -2.568  1.00  0.00           C  \nATOM    636  CD  ARG B   9      -0.824   8.567  -3.528  1.00  0.00           C  \nATOM    637  NE  ARG B   9       0.590   8.037  -3.565  1.00  0.00           N  \nATOM    638  CZ  ARG B   9       1.050   7.014  -4.357  1.00  0.00           C  \nATOM    639  NH1 ARG B   9       0.231   6.225  -5.110  1.00  0.00           N  \nATOM    640  NH2 ARG B   9       2.394   6.770  -4.382  1.00  0.00           N  \nATOM    641  H   ARG B   9      -2.372   7.140  -0.083  1.00  0.00           H  \nATOM    642  HA  ARG B   9      -4.813   8.121  -1.119  1.00  0.00           H  \nATOM    643  HB2 ARG B   9      -3.634   8.357  -3.304  1.00  0.00           H  \nATOM    644  HB3 ARG B   9      -3.006   9.289  -1.914  1.00  0.00           H  \nATOM    645  HG2 ARG B   9      -1.184   7.677  -1.575  1.00  0.00           H  \nATOM    646  HG3 ARG B   9      -1.764   6.684  -2.957  1.00  0.00           H  \nATOM    647  HD2 ARG B   9      -1.241   8.550  -4.558  1.00  0.00           H  \nATOM    648  HD3 ARG B   9      -0.769   9.620  -3.177  1.00  0.00           H  \nATOM    649  HE  ARG B   9       1.271   8.525  -3.018  1.00  0.00           H  \nATOM    650 HH11 ARG B   9      -0.758   6.376  -5.103  1.00  0.00           H  \nATOM    651 HH12 ARG B   9       0.625   5.461  -5.622  1.00  0.00           H  \nATOM    652 HH21 ARG B   9       3.027   7.289  -3.807  1.00  0.00           H  \nATOM    653 HH22 ARG B   9       2.766   6.044  -4.961  1.00  0.00           H  \nATOM    654  N   ARG B  10      -3.896   5.059  -2.095  1.00  0.00           N  \nATOM    655  CA  ARG B  10      -4.329   3.770  -2.645  1.00  0.00           C  \nATOM    656  C   ARG B  10      -5.623   3.285  -1.955  1.00  0.00           C  \nATOM    657  O   ARG B  10      -6.545   2.867  -2.647  1.00  0.00           O  \nATOM    658  CB  ARG B  10      -3.161   2.725  -2.524  1.00  0.00           C  \nATOM    659  CG  ARG B  10      -3.392   1.284  -3.054  1.00  0.00           C  \nATOM    660  CD  ARG B  10      -2.158   0.356  -2.904  1.00  0.00           C  \nATOM    661  NE  ARG B  10      -2.492  -1.092  -3.220  1.00  0.00           N  \nATOM    662  CZ  ARG B  10      -2.620  -1.658  -4.462  1.00  0.00           C  \nATOM    663  NH1 ARG B  10      -2.378  -0.988  -5.624  1.00  0.00           N  \nATOM    664  NH2 ARG B  10      -3.005  -2.969  -4.516  1.00  0.00           N  \nATOM    665  H   ARG B  10      -2.967   5.041  -1.735  1.00  0.00           H  \nATOM    666  HA  ARG B  10      -4.563   3.970  -3.681  1.00  0.00           H  \nATOM    667  HB2 ARG B  10      -2.283   3.145  -3.061  1.00  0.00           H  \nATOM    668  HB3 ARG B  10      -2.882   2.647  -1.452  1.00  0.00           H  \nATOM    669  HG2 ARG B  10      -4.239   0.844  -2.487  1.00  0.00           H  \nATOM    670  HG3 ARG B  10      -3.680   1.330  -4.126  1.00  0.00           H  \nATOM    671  HD2 ARG B  10      -1.340   0.688  -3.580  1.00  0.00           H  \nATOM    672  HD3 ARG B  10      -1.788   0.373  -1.856  1.00  0.00           H  \nATOM    673  HE  ARG B  10      -2.530  -1.745  -2.464  1.00  0.00           H  \nATOM    674 HH11 ARG B  10      -2.092  -0.029  -5.602  1.00  0.00           H  \nATOM    675 HH12 ARG B  10      -2.475  -1.468  -6.496  1.00  0.00           H  \nATOM    676 HH21 ARG B  10      -3.325  -3.428  -3.688  1.00  0.00           H  \nATOM    677 HH22 ARG B  10      -3.056  -3.440  -5.397  1.00  0.00           H  \nATOM    678  N   ARG B  11      -5.722   3.375  -0.589  1.00  0.00           N  \nATOM    679  CA  ARG B  11      -6.805   3.073   0.335  1.00  0.00           C  \nATOM    680  C   ARG B  11      -8.081   3.729  -0.142  1.00  0.00           C  \nATOM    681  O   ARG B  11      -9.020   2.996  -0.429  1.00  0.00           O  \nATOM    682  CB  ARG B  11      -6.435   3.489   1.784  1.00  0.00           C  \nATOM    683  CG  ARG B  11      -7.457   3.153   2.884  1.00  0.00           C  \nATOM    684  CD  ARG B  11      -7.467   4.149   4.044  1.00  0.00           C  \nATOM    685  NE  ARG B  11      -8.322   3.548   5.132  1.00  0.00           N  \nATOM    686  CZ  ARG B  11      -8.516   4.066   6.387  1.00  0.00           C  \nATOM    687  NH1 ARG B  11      -7.963   5.245   6.798  1.00  0.00           N  \nATOM    688  NH2 ARG B  11      -9.301   3.362   7.259  1.00  0.00           N  \nATOM    689  H   ARG B  11      -4.941   3.733  -0.083  1.00  0.00           H  \nATOM    690  HA  ARG B  11      -6.970   2.006   0.379  1.00  0.00           H  \nATOM    691  HB2 ARG B  11      -5.483   2.988   2.059  1.00  0.00           H  \nATOM    692  HB3 ARG B  11      -6.229   4.581   1.790  1.00  0.00           H  \nATOM    693  HG2 ARG B  11      -8.481   3.083   2.459  1.00  0.00           H  \nATOM    694  HG3 ARG B  11      -7.200   2.149   3.284  1.00  0.00           H  \nATOM    695  HD2 ARG B  11      -6.432   4.310   4.412  1.00  0.00           H  \nATOM    696  HD3 ARG B  11      -7.918   5.107   3.705  1.00  0.00           H  \nATOM    697  HE  ARG B  11      -8.760   2.672   4.925  1.00  0.00           H  \nATOM    698 HH11 ARG B  11      -7.385   5.770   6.173  1.00  0.00           H  \nATOM    699 HH12 ARG B  11      -8.133   5.581   7.724  1.00  0.00           H  \nATOM    700 HH21 ARG B  11      -9.709   2.496   6.969  1.00  0.00           H  \nATOM    701 HH22 ARG B  11      -9.461   3.710   8.182  1.00  0.00           H  \nATOM    702  N   LYS B  12      -8.134   5.097  -0.261  1.00  0.00           N  \nATOM    703  CA  LYS B  12      -9.263   5.900  -0.736  1.00  0.00           C  \nATOM    704  C   LYS B  12      -9.933   5.257  -1.954  1.00  0.00           C  \nATOM    705  O   LYS B  12     -11.135   4.986  -1.920  1.00  0.00           O  \nATOM    706  CB  LYS B  12      -8.875   7.391  -1.019  1.00  0.00           C  \nATOM    707  CG  LYS B  12      -8.454   8.207   0.231  1.00  0.00           C  \nATOM    708  CD  LYS B  12      -7.963   9.642  -0.070  1.00  0.00           C  \nATOM    709  CE  LYS B  12      -7.500  10.420   1.176  1.00  0.00           C  \nATOM    710  NZ  LYS B  12      -7.038  11.780   0.811  1.00  0.00           N  \nATOM    711  H   LYS B  12      -7.335   5.638  -0.014  1.00  0.00           H  \nATOM    712  HA  LYS B  12      -9.991   5.872   0.062  1.00  0.00           H  \nATOM    713  HB2 LYS B  12      -8.033   7.406  -1.744  1.00  0.00           H  \nATOM    714  HB3 LYS B  12      -9.741   7.906  -1.486  1.00  0.00           H  \nATOM    715  HG2 LYS B  12      -9.318   8.258   0.928  1.00  0.00           H  \nATOM    716  HG3 LYS B  12      -7.634   7.662   0.746  1.00  0.00           H  \nATOM    717  HD2 LYS B  12      -7.116   9.584  -0.785  1.00  0.00           H  \nATOM    718  HD3 LYS B  12      -8.788  10.203  -0.559  1.00  0.00           H  \nATOM    719  HE2 LYS B  12      -8.335  10.535   1.900  1.00  0.00           H  \nATOM    720  HE3 LYS B  12      -6.652   9.902   1.671  1.00  0.00           H  \nATOM    721  HZ1 LYS B  12      -6.245  11.708   0.143  1.00  0.00           H  \nATOM    722  HZ2 LYS B  12      -7.819  12.305   0.367  1.00  0.00           H  \nATOM    723  HZ3 LYS B  12      -6.727  12.281   1.667  1.00  0.00           H  \nATOM    724  N   LEU B  13      -9.137   4.954  -3.020  1.00  0.00           N  \nATOM    725  CA  LEU B  13      -9.525   4.298  -4.259  1.00  0.00           C  \nATOM    726  C   LEU B  13      -9.973   2.865  -4.063  1.00  0.00           C  \nATOM    727  O   LEU B  13     -11.069   2.534  -4.510  1.00  0.00           O  \nATOM    728  CB  LEU B  13      -8.398   4.355  -5.323  1.00  0.00           C  \nATOM    729  CG  LEU B  13      -8.078   5.799  -5.795  1.00  0.00           C  \nATOM    730  CD1 LEU B  13      -6.667   5.860  -6.439  1.00  0.00           C  \nATOM    731  CD2 LEU B  13      -9.259   6.386  -6.628  1.00  0.00           C  \nATOM    732  H   LEU B  13      -8.168   5.178  -2.964  1.00  0.00           H  \nATOM    733  HA  LEU B  13     -10.385   4.843  -4.619  1.00  0.00           H  \nATOM    734  HB2 LEU B  13      -7.486   3.892  -4.888  1.00  0.00           H  \nATOM    735  HB3 LEU B  13      -8.683   3.748  -6.209  1.00  0.00           H  \nATOM    736  HG  LEU B  13      -7.997   6.436  -4.887  1.00  0.00           H  \nATOM    737 HD11 LEU B  13      -5.917   5.441  -5.734  1.00  0.00           H  \nATOM    738 HD12 LEU B  13      -6.638   5.269  -7.379  1.00  0.00           H  \nATOM    739 HD13 LEU B  13      -6.390   6.912  -6.666  1.00  0.00           H  \nATOM    740 HD21 LEU B  13     -10.226   6.247  -6.097  1.00  0.00           H  \nATOM    741 HD22 LEU B  13      -9.105   7.470  -6.809  1.00  0.00           H  \nATOM    742 HD23 LEU B  13      -9.338   5.863  -7.605  1.00  0.00           H  \nATOM    743  N   ALA B  14      -9.156   2.005  -3.379  1.00  0.00           N  \nATOM    744  CA  ALA B  14      -9.407   0.612  -3.034  1.00  0.00           C  \nATOM    745  C   ALA B  14     -10.768   0.452  -2.402  1.00  0.00           C  \nATOM    746  O   ALA B  14     -11.535  -0.411  -2.842  1.00  0.00           O  \nATOM    747  CB  ALA B  14      -8.373   0.036  -2.052  1.00  0.00           C  \nATOM    748  H   ALA B  14      -8.280   2.343  -3.045  1.00  0.00           H  \nATOM    749  HA  ALA B  14      -9.376   0.051  -3.955  1.00  0.00           H  \nATOM    750  HB1 ALA B  14      -7.359   0.113  -2.498  1.00  0.00           H  \nATOM    751  HB2 ALA B  14      -8.378   0.574  -1.079  1.00  0.00           H  \nATOM    752  HB3 ALA B  14      -8.595  -1.030  -1.833  1.00  0.00           H  \nATOM    753  N   ILE B  15     -11.103   1.323  -1.387  1.00  0.00           N  \nATOM    754  CA  ILE B  15     -12.385   1.336  -0.734  1.00  0.00           C  \nATOM    755  C   ILE B  15     -13.446   1.645  -1.798  1.00  0.00           C  \nATOM    756  O   ILE B  15     -14.343   0.829  -2.009  1.00  0.00           O  \nATOM    757  CB  ILE B  15     -12.649   2.215   0.515  1.00  0.00           C  \nATOM    758  CG1 ILE B  15     -11.505   2.358   1.564  1.00  0.00           C  \nATOM    759  CG2 ILE B  15     -13.906   1.599   1.173  1.00  0.00           C  \nATOM    760  CD1 ILE B  15     -11.138   3.818   1.781  1.00  0.00           C  \nATOM    761  H   ILE B  15     -10.459   2.017  -1.074  1.00  0.00           H  \nATOM    762  HA  ILE B  15     -12.460   0.320  -0.378  1.00  0.00           H  \nATOM    763  HB  ILE B  15     -12.928   3.234   0.168  1.00  0.00           H  \nATOM    764 HG12 ILE B  15     -11.808   1.938   2.547  1.00  0.00           H  \nATOM    765 HG13 ILE B  15     -10.600   1.806   1.231  1.00  0.00           H  \nATOM    766 HG21 ILE B  15     -13.638   0.545   1.397  1.00  0.00           H  \nATOM    767 HG22 ILE B  15     -14.177   2.135   2.108  1.00  0.00           H  \nATOM    768 HG23 ILE B  15     -14.731   1.687   0.434  1.00  0.00           H  \nATOM    769 HD11 ILE B  15     -12.007   4.413   2.129  1.00  0.00           H  \nATOM    770 HD12 ILE B  15     -10.301   3.942   2.501  1.00  0.00           H  \nATOM    771 HD13 ILE B  15     -10.838   4.153   0.765  1.00  0.00           H  \nATOM    772  N   GLU B  16     -13.341   2.836  -2.466  1.00  0.00           N  \nATOM    773  CA  GLU B  16     -14.236   3.357  -3.481  1.00  0.00           C  \nATOM    774  C   GLU B  16     -14.514   2.419  -4.695  1.00  0.00           C  \nATOM    775  O   GLU B  16     -15.466   2.660  -5.443  1.00  0.00           O  \nATOM    776  CB  GLU B  16     -13.702   4.761  -3.983  1.00  0.00           C  \nATOM    777  CG  GLU B  16     -14.720   5.659  -4.731  1.00  0.00           C  \nATOM    778  CD  GLU B  16     -14.103   7.025  -5.058  1.00  0.00           C  \nATOM    779  OE1 GLU B  16     -13.192   7.081  -5.929  1.00  0.00           O  \nATOM    780  OE2 GLU B  16     -14.547   8.032  -4.445  1.00  0.00           O  \nATOM    781  H   GLU B  16     -12.592   3.459  -2.253  1.00  0.00           H  \nATOM    782  HA  GLU B  16     -15.131   3.418  -2.879  1.00  0.00           H  \nATOM    783  HB2 GLU B  16     -13.398   5.336  -3.081  1.00  0.00           H  \nATOM    784  HB3 GLU B  16     -12.787   4.665  -4.606  1.00  0.00           H  \nATOM    785  HG2 GLU B  16     -15.038   5.177  -5.681  1.00  0.00           H  \nATOM    786  HG3 GLU B  16     -15.617   5.803  -4.093  1.00  0.00           H  \nATOM    787  N   ARG B  17     -13.729   1.312  -4.899  1.00  0.00           N  \nATOM    788  CA  ARG B  17     -13.911   0.288  -5.930  1.00  0.00           C  \nATOM    789  C   ARG B  17     -15.043  -0.630  -5.456  1.00  0.00           C  \nATOM    790  O   ARG B  17     -16.036  -0.800  -6.168  1.00  0.00           O  \nATOM    791  CB  ARG B  17     -12.623  -0.532  -6.279  1.00  0.00           C  \nATOM    792  CG  ARG B  17     -11.535   0.258  -7.046  1.00  0.00           C  \nATOM    793  CD  ARG B  17     -10.227  -0.517  -7.296  1.00  0.00           C  \nATOM    794  NE  ARG B  17      -9.249   0.403  -7.998  1.00  0.00           N  \nATOM    795  CZ  ARG B  17      -8.134   0.987  -7.444  1.00  0.00           C  \nATOM    796  NH1 ARG B  17      -7.724   0.744  -6.166  1.00  0.00           N  \nATOM    797  NH2 ARG B  17      -7.406   1.854  -8.212  1.00  0.00           N  \nATOM    798  H   ARG B  17     -12.977   1.119  -4.273  1.00  0.00           H  \nATOM    799  HA  ARG B  17     -14.255   0.790  -6.822  1.00  0.00           H  \nATOM    800  HB2 ARG B  17     -12.193  -0.934  -5.337  1.00  0.00           H  \nATOM    801  HB3 ARG B  17     -12.918  -1.395  -6.913  1.00  0.00           H  \nATOM    802  HG2 ARG B  17     -11.956   0.582  -8.021  1.00  0.00           H  \nATOM    803  HG3 ARG B  17     -11.286   1.174  -6.467  1.00  0.00           H  \nATOM    804  HD2 ARG B  17      -9.783  -0.868  -6.339  1.00  0.00           H  \nATOM    805  HD3 ARG B  17     -10.407  -1.389  -7.960  1.00  0.00           H  \nATOM    806  HE  ARG B  17      -9.463   0.640  -8.946  1.00  0.00           H  \nATOM    807 HH11 ARG B  17      -8.247   0.119  -5.586  1.00  0.00           H  \nATOM    808 HH12 ARG B  17      -6.925   1.218  -5.793  1.00  0.00           H  \nATOM    809 HH21 ARG B  17      -7.688   2.050  -9.151  1.00  0.00           H  \nATOM    810 HH22 ARG B  17      -6.592   2.296  -7.833  1.00  0.00           H  \nATOM    811  N   ASP B  18     -14.903  -1.200  -4.220  1.00  0.00           N  \nATOM    812  CA  ASP B  18     -15.824  -2.064  -3.494  1.00  0.00           C  \nATOM    813  C   ASP B  18     -17.187  -1.391  -3.252  1.00  0.00           C  \nATOM    814  O   ASP B  18     -18.218  -2.005  -3.536  1.00  0.00           O  \nATOM    815  CB  ASP B  18     -15.183  -2.561  -2.152  1.00  0.00           C  \nATOM    816  CG  ASP B  18     -16.025  -3.632  -1.445  1.00  0.00           C  \nATOM    817  OD1 ASP B  18     -16.156  -4.756  -2.000  1.00  0.00           O  \nATOM    818  OD2 ASP B  18     -16.540  -3.336  -0.334  1.00  0.00           O  \nATOM    819  H   ASP B  18     -14.063  -0.979  -3.733  1.00  0.00           H  \nATOM    820  HA  ASP B  18     -15.988  -2.916  -4.136  1.00  0.00           H  \nATOM    821  HB2 ASP B  18     -14.183  -2.996  -2.367  1.00  0.00           H  \nATOM    822  HB3 ASP B  18     -15.030  -1.697  -1.472  1.00  0.00           H  \nATOM    823  N   THR B  19     -17.182  -0.123  -2.734  1.00  0.00           N  \nATOM    824  CA  THR B  19     -18.299   0.772  -2.403  1.00  0.00           C  \nATOM    825  C   THR B  19     -19.467   0.668  -3.419  1.00  0.00           C  \nATOM    826  O   THR B  19     -19.251   0.907  -4.639  1.00  0.00           O  \nATOM    827  CB  THR B  19     -17.891   2.253  -2.236  1.00  0.00           C  \nATOM    828  OG1 THR B  19     -17.322   2.788  -3.414  1.00  0.00           O  \nATOM    829  CG2 THR B  19     -17.032   2.521  -0.979  1.00  0.00           C  \nATOM    830  OXT THR B  19     -20.595   0.328  -2.969  1.00  0.00           O  \nATOM    831  H   THR B  19     -16.278   0.251  -2.545  1.00  0.00           H  \nATOM    832  HA  THR B  19     -18.672   0.423  -1.452  1.00  0.00           H  \nATOM    833  HB  THR B  19     -18.757   2.937  -2.107  1.00  0.00           H  \nATOM    834  HG1 THR B  19     -16.510   2.298  -3.561  1.00  0.00           H  \nATOM    835 HG21 THR B  19     -16.129   1.873  -0.980  1.00  0.00           H  \nATOM    836 HG22 THR B  19     -16.712   3.584  -0.943  1.00  0.00           H  \nATOM    837 HG23 THR B  19     -17.615   2.299  -0.060  1.00  0.00           H  \nTER     838      THR B  19\nEND\n",
           "type": "blob"
          }
         ],
         "kwargs": {
          "defaultRepresentation": false,
          "ext": "pdb"
         },
         "methodName": "loadFile",
         "reconstruc_color_scheme": false,
         "target": "Stage",
         "type": "call_method"
        },
        {
         "args": [],
         "component_index": 0,
         "kwargs": {},
         "methodName": "removeAllRepresentations",
         "reconstruc_color_scheme": false,
         "target": "compList",
         "type": "call_method"
        },
        {
         "args": [
          "unitcell"
         ],
         "component_index": 0,
         "kwargs": {},
         "methodName": "addRepresentation",
         "reconstruc_color_scheme": false,
         "target": "compList",
         "type": "call_method"
        },
        {
         "args": [
          "line"
         ],
         "component_index": 0,
         "kwargs": {
          "sele": "water"
         },
         "methodName": "addRepresentation",
         "reconstruc_color_scheme": false,
         "target": "compList",
         "type": "call_method"
        },
        {
         "args": [
          "spacefill"
         ],
         "component_index": 0,
         "kwargs": {
          "sele": "ion"
         },
         "methodName": "addRepresentation",
         "reconstruc_color_scheme": false,
         "target": "compList",
         "type": "call_method"
        },
        {
         "args": [
          "cartoon"
         ],
         "component_index": 0,
         "kwargs": {
          "sele": "protein"
         },
         "methodName": "addRepresentation",
         "reconstruc_color_scheme": false,
         "target": "compList",
         "type": "call_method"
        },
        {
         "args": [
          "licorice"
         ],
         "component_index": 0,
         "kwargs": {
          "multipleBond": false,
          "radius": 0.25,
          "sele": "not water and not ion and not protein"
         },
         "methodName": "addRepresentation",
         "reconstruc_color_scheme": false,
         "target": "compList",
         "type": "call_method"
        }
       ],
       "_ngl_original_stage_parameters": {
        "ambientColor": 14540253,
        "ambientIntensity": 0.2,
        "backgroundColor": "white",
        "cameraEyeSep": 0.3,
        "cameraFov": 40,
        "cameraType": "perspective",
        "clipDist": 10,
        "clipFar": 100,
        "clipMode": "scene",
        "clipNear": 0,
        "clipScale": "relative",
        "fogFar": 100,
        "fogNear": 50,
        "hoverTimeout": 0,
        "impostor": true,
        "lightColor": 14540253,
        "lightIntensity": 1,
        "mousePreset": "default",
        "panSpeed": 1,
        "quality": "medium",
        "rotateSpeed": 2,
        "sampleLevel": 0,
        "tooltip": true,
        "workerDefault": true,
        "zoomSpeed": 1.2
       },
       "_ngl_repr_dict": {
        "0": {
         "0": {
          "params": {
           "clipCenter": {
            "x": 0,
            "y": 0,
            "z": 0
           },
           "clipNear": 0,
           "clipRadius": 0,
           "colorMode": "hcl",
           "colorReverse": false,
           "colorScale": "",
           "colorScheme": "element",
           "colorValue": "orange",
           "defaultAssembly": "",
           "depthWrite": true,
           "diffuse": 16777215,
           "diffuseInterior": false,
           "disableImpostor": false,
           "disablePicking": false,
           "flatShaded": false,
           "interiorColor": 2236962,
           "interiorDarkening": 0,
           "lazy": false,
           "matrix": {
            "elements": [
             1,
             0,
             0,
             0,
             0,
             1,
             0,
             0,
             0,
             0,
             1,
             0,
             0,
             0,
             0,
             1
            ]
           },
           "metalness": 0,
           "opacity": 1,
           "quality": "medium",
           "radialSegments": 10,
           "radiusData": {},
           "radiusScale": 1,
           "radiusSize": 0.004999999780519427,
           "radiusType": "vdw",
           "roughness": 0.4,
           "sele": "",
           "side": "double",
           "sphereDetail": 1,
           "useInteriorColor": true,
           "visible": true,
           "wireframe": false
          },
          "type": "unitcell"
         },
         "1": {
          "params": {
           "assembly": "default",
           "bondSpacing": 1,
           "clipCenter": {
            "x": 0,
            "y": 0,
            "z": 0
           },
           "clipNear": 0,
           "clipRadius": 0,
           "colorMode": "hcl",
           "colorReverse": false,
           "colorScale": "",
           "colorScheme": "element",
           "colorValue": 9474192,
           "crossSize": 0.4,
           "crosses": "lone",
           "defaultAssembly": "",
           "depthWrite": true,
           "diffuse": 16777215,
           "diffuseInterior": false,
           "disablePicking": false,
           "interiorColor": 2236962,
           "interiorDarkening": 0,
           "lazy": false,
           "lines": true,
           "linewidth": 2,
           "matrix": {
            "elements": [
             1,
             0,
             0,
             0,
             0,
             1,
             0,
             0,
             0,
             0,
             1,
             0,
             0,
             0,
             0,
             1
            ]
           },
           "multipleBond": "off",
           "opacity": 1,
           "quality": "medium",
           "radiusData": {},
           "radiusScale": 1,
           "radiusSize": 1,
           "radiusType": "vdw",
           "sele": "water",
           "useInteriorColor": false,
           "visible": true
          },
          "type": "line"
         },
         "2": {
          "params": {
           "assembly": "default",
           "clipCenter": {
            "x": 0,
            "y": 0,
            "z": 0
           },
           "clipNear": 0,
           "clipRadius": 0,
           "colorMode": "hcl",
           "colorReverse": false,
           "colorScale": "",
           "colorScheme": "element",
           "colorValue": 9474192,
           "defaultAssembly": "",
           "depthWrite": true,
           "diffuse": 16777215,
           "diffuseInterior": false,
           "disableImpostor": false,
           "disablePicking": false,
           "flatShaded": false,
           "interiorColor": 2236962,
           "interiorDarkening": 0,
           "lazy": false,
           "matrix": {
            "elements": [
             1,
             0,
             0,
             0,
             0,
             1,
             0,
             0,
             0,
             0,
             1,
             0,
             0,
             0,
             0,
             1
            ]
           },
           "metalness": 0,
           "opacity": 1,
           "quality": "medium",
           "radiusData": {},
           "radiusScale": 1,
           "radiusSize": 1,
           "radiusType": "vdw",
           "roughness": 0.4,
           "sele": "ion",
           "side": "double",
           "sphereDetail": 1,
           "useInteriorColor": true,
           "visible": true,
           "wireframe": false
          },
          "type": "spacefill"
         },
         "3": {
          "params": {
           "aspectRatio": 5,
           "assembly": "default",
           "capped": true,
           "clipCenter": {
            "x": 0,
            "y": 0,
            "z": 0
           },
           "clipNear": 0,
           "clipRadius": 0,
           "colorMode": "hcl",
           "colorReverse": false,
           "colorScale": "RdYlBu",
           "colorScheme": "chainname",
           "colorValue": 9474192,
           "defaultAssembly": "",
           "depthWrite": true,
           "diffuse": 16777215,
           "diffuseInterior": false,
           "disablePicking": false,
           "flatShaded": false,
           "interiorColor": 2236962,
           "interiorDarkening": 0,
           "lazy": false,
           "matrix": {
            "elements": [
             1,
             0,
             0,
             0,
             0,
             1,
             0,
             0,
             0,
             0,
             1,
             0,
             0,
             0,
             0,
             1
            ]
           },
           "metalness": 0,
           "opacity": 1,
           "quality": "medium",
           "radialSegments": 10,
           "radiusData": {},
           "radiusScale": 0.7,
           "radiusSize": 1,
           "radiusType": "sstruc",
           "roughness": 0.4,
           "sele": "protein",
           "side": "double",
           "smoothSheet": false,
           "subdiv": 6,
           "tension": null,
           "useInteriorColor": true,
           "visible": true,
           "wireframe": false
          },
          "type": "cartoon"
         },
         "4": {
          "params": {
           "assembly": "default",
           "bondScale": 0.4,
           "bondSpacing": 1,
           "clipCenter": {
            "x": 0,
            "y": 0,
            "z": 0
           },
           "clipNear": 0,
           "clipRadius": 0,
           "colorMode": "hcl",
           "colorReverse": false,
           "colorScale": "",
           "colorScheme": "element",
           "colorValue": 9474192,
           "cylinderOnly": false,
           "defaultAssembly": "",
           "depthWrite": true,
           "diffuse": 16777215,
           "diffuseInterior": false,
           "disableImpostor": false,
           "disablePicking": false,
           "flatShaded": false,
           "interiorColor": 2236962,
           "interiorDarkening": 0,
           "lazy": false,
           "lineOnly": false,
           "linewidth": 2,
           "matrix": {
            "elements": [
             1,
             0,
             0,
             0,
             0,
             1,
             0,
             0,
             0,
             0,
             1,
             0,
             0,
             0,
             0,
             1
            ]
           },
           "metalness": 0,
           "multipleBond": false,
           "opacity": 1,
           "openEnded": true,
           "quality": "medium",
           "radialSegments": 10,
           "radiusData": {},
           "radiusScale": 1,
           "radiusSize": 0.25,
           "radiusType": "size",
           "roughness": 0.4,
           "sele": "not water and not ion and not protein",
           "side": "double",
           "sphereDetail": 1,
           "useInteriorColor": true,
           "visible": true,
           "wireframe": false
          },
          "type": "licorice"
         }
        }
       },
       "_ngl_serialize": false,
       "_ngl_version": "2.0.0-dev.39",
       "_ngl_view_id": [
        "B2D5C165-B02F-4236-A79F-BA6A6EAA84F2"
       ],
       "_player_dict": {},
       "_scene_position": {},
       "_scene_rotation": {},
       "_synced_model_ids": [],
       "_synced_repr_model_ids": [],
       "_view_height": "",
       "_view_width": "",
       "background": "white",
       "frame": 0,
       "gui_style": null,
       "layout": "IPY_MODEL_43a4b76e16914a978ab8ab2f078bd8db",
       "max_frame": 0,
       "n_components": 1,
       "picked": {}
      }
     },
     "2c29d6dd966e4b83a1fa715a6606bce3": {
      "model_module": "@jupyter-widgets/base",
      "model_module_version": "2.0.0",
      "model_name": "LayoutModel",
      "state": {}
     },
     "2ca319b307594ebdb62c7419767000a4": {
      "model_module": "@jupyter-widgets/base",
      "model_module_version": "2.0.0",
      "model_name": "LayoutModel",
      "state": {}
     },
     "2ff5ade84f60486faf11af72201640cd": {
      "model_module": "@jupyter-widgets/controls",
      "model_module_version": "2.0.0",
      "model_name": "IntSliderModel",
      "state": {
       "behavior": "drag-tap",
       "layout": "IPY_MODEL_49aa16b337da4f0490b34f28b8dcf048",
       "max": 0,
       "style": "IPY_MODEL_9fedae5cae4c41188c2de74ec50011ff"
      }
     },
     "43a4b76e16914a978ab8ab2f078bd8db": {
      "model_module": "@jupyter-widgets/base",
      "model_module_version": "2.0.0",
      "model_name": "LayoutModel",
      "state": {}
     },
     "448392b5b7e0460e936c003aa3f5dc5a": {
      "model_module": "@jupyter-widgets/controls",
      "model_module_version": "2.0.0",
      "model_name": "ButtonModel",
      "state": {
       "icon": "compress",
       "layout": "IPY_MODEL_a22a4a9a0a194e5c81f9350144287eb4",
       "style": "IPY_MODEL_7e0511ff90bc4d05a8a2257025a2af4c",
       "tooltip": null
      }
     },
     "49aa16b337da4f0490b34f28b8dcf048": {
      "model_module": "@jupyter-widgets/base",
      "model_module_version": "2.0.0",
      "model_name": "LayoutModel",
      "state": {}
     },
     "4ae7a9b2a65b4780870c77a1f858e87c": {
      "model_module": "@jupyter-widgets/controls",
      "model_module_version": "2.0.0",
      "model_name": "LinkModel",
      "state": {
       "source": [
        "IPY_MODEL_2ff5ade84f60486faf11af72201640cd",
        "max"
       ],
       "target": [
        "IPY_MODEL_2a63cf47e4824af7828b85c4a544c88f",
        "max_frame"
       ]
      }
     },
     "4b85da831b0e48a8a03e58f06b0622b6": {
      "model_module": "nglview-js-widgets",
      "model_module_version": "3.0.8",
      "model_name": "ColormakerRegistryModel",
      "state": {
       "_msg_ar": [],
       "_msg_q": [],
       "_ready": true,
       "layout": "IPY_MODEL_7b1f1f51d436447d8c4483eb256d737a"
      }
     },
     "4c8c669eae4f464aa901491c13a2832e": {
      "model_module": "@jupyter-widgets/controls",
      "model_module_version": "2.0.0",
      "model_name": "LinkModel",
      "state": {
       "source": [
        "IPY_MODEL_8fdb896688d9405b8e1cf7915d844656",
        "value"
       ],
       "target": [
        "IPY_MODEL_9314f0da791d47cdb97935a886e07c44",
        "frame"
       ]
      }
     },
     "578df518a3f94cc98e0930b9f9e60584": {
      "model_module": "@jupyter-widgets/controls",
      "model_module_version": "2.0.0",
      "model_name": "HBoxModel",
      "state": {
       "children": [
        "IPY_MODEL_8fdb896688d9405b8e1cf7915d844656",
        "IPY_MODEL_c6b35b4a2efb49a5acb1a954368432da"
       ],
       "layout": "IPY_MODEL_8c39c29653b14f56a797d4f5b4fed0a3"
      }
     },
     "64da3c501a844f04a422fd7c1e675b2d": {
      "model_module": "@jupyter-widgets/controls",
      "model_module_version": "2.0.0",
      "model_name": "HBoxModel",
      "state": {
       "children": [
        "IPY_MODEL_a0865331798040d9accdde93dd183394",
        "IPY_MODEL_2ff5ade84f60486faf11af72201640cd"
       ],
       "layout": "IPY_MODEL_2ca319b307594ebdb62c7419767000a4"
      }
     },
     "6b8df6ad96334a44ae3a20cab712babc": {
      "model_module": "@jupyter-widgets/controls",
      "model_module_version": "2.0.0",
      "model_name": "LinkModel",
      "state": {
       "source": [
        "IPY_MODEL_c6b35b4a2efb49a5acb1a954368432da",
        "max"
       ],
       "target": [
        "IPY_MODEL_9314f0da791d47cdb97935a886e07c44",
        "max_frame"
       ]
      }
     },
     "6cace76302d34c54b46d5f872026ee3f": {
      "model_module": "@jupyter-widgets/controls",
      "model_module_version": "2.0.0",
      "model_name": "LinkModel",
      "state": {
       "source": [
        "IPY_MODEL_8fdb896688d9405b8e1cf7915d844656",
        "value"
       ],
       "target": [
        "IPY_MODEL_c6b35b4a2efb49a5acb1a954368432da",
        "value"
       ]
      }
     },
     "7b1f1f51d436447d8c4483eb256d737a": {
      "model_module": "@jupyter-widgets/base",
      "model_module_version": "2.0.0",
      "model_name": "LayoutModel",
      "state": {}
     },
     "7bc0f56c3b78413eb4e5acefb82fc773": {
      "model_module": "@jupyter-widgets/base",
      "model_module_version": "2.0.0",
      "model_name": "LayoutModel",
      "state": {}
     },
     "7e0511ff90bc4d05a8a2257025a2af4c": {
      "model_module": "@jupyter-widgets/controls",
      "model_module_version": "2.0.0",
      "model_name": "ButtonStyleModel",
      "state": {
       "font_family": null,
       "font_size": null,
       "font_style": null,
       "font_variant": null,
       "font_weight": null,
       "text_color": null,
       "text_decoration": null
      }
     },
     "8bb4a0c931714b5ab4798ba248dcb6aa": {
      "model_module": "@jupyter-widgets/base",
      "model_module_version": "2.0.0",
      "model_name": "LayoutModel",
      "state": {
       "width": "34px"
      }
     },
     "8c39c29653b14f56a797d4f5b4fed0a3": {
      "model_module": "@jupyter-widgets/base",
      "model_module_version": "2.0.0",
      "model_name": "LayoutModel",
      "state": {}
     },
     "8fdb896688d9405b8e1cf7915d844656": {
      "model_module": "@jupyter-widgets/controls",
      "model_module_version": "2.0.0",
      "model_name": "PlayModel",
      "state": {
       "layout": "IPY_MODEL_2c29d6dd966e4b83a1fa715a6606bce3",
       "max": 0,
       "style": "IPY_MODEL_c74e95cb1b08456f9dee59e6a0cb6f0b"
      }
     },
     "9314f0da791d47cdb97935a886e07c44": {
      "model_module": "nglview-js-widgets",
      "model_module_version": "3.0.8",
      "model_name": "NGLModel",
      "state": {
       "_camera_orientation": [
        67.17141495836503,
        0,
        0,
        0,
        0,
        67.17141495836503,
        0,
        0,
        0,
        0,
        67.17141495836503,
        0,
        0.9340000152587891,
        -0.6810002326965332,
        0.5054998397827148,
        1
       ],
       "_camera_str": "orthographic",
       "_gui_theme": null,
       "_ibtn_fullscreen": "IPY_MODEL_1f586c193a7b462f9755c6f3a2282e88",
       "_igui": null,
       "_iplayer": "IPY_MODEL_578df518a3f94cc98e0930b9f9e60584",
       "_ngl_color_dict": {},
       "_ngl_coordinate_resource": {},
       "_ngl_full_stage_parameters": {
        "ambientColor": 14540253,
        "ambientIntensity": 0.2,
        "backgroundColor": "white",
        "cameraEyeSep": 0.3,
        "cameraFov": 40,
        "cameraType": "perspective",
        "clipDist": 10,
        "clipFar": 100,
        "clipMode": "scene",
        "clipNear": 0,
        "clipScale": "relative",
        "fogFar": 100,
        "fogNear": 50,
        "hoverTimeout": 0,
        "impostor": true,
        "lightColor": 14540253,
        "lightIntensity": 1,
        "mousePreset": "default",
        "panSpeed": 1,
        "quality": "medium",
        "rotateSpeed": 2,
        "sampleLevel": 0,
        "tooltip": true,
        "workerDefault": true,
        "zoomSpeed": 1.2
       },
       "_ngl_msg_archive": [
        {
         "args": [
          {
           "binary": false,
           "data": "REMARK   1 CREATED WITH OPENMM 8.2, 2025-02-11\nCRYST1    1.000    1.000    1.000  90.00  90.00  90.00 P 1           1 \nATOM      1  O5'   G A   1       9.536   6.811   7.676  1.00  0.00           O  \nATOM      2  C5'   G A   1      10.617   6.054   7.145  1.00  0.00           C  \nATOM      3  C4'   G A   1      11.190   6.700   5.875  1.00  0.00           C  \nATOM      4  O4'   G A   1      12.365   5.959   5.435  1.00  0.00           O  \nATOM      5  C3'   G A   1      10.264   6.644   4.657  1.00  0.00           C  \nATOM      6  O3'   G A   1       9.300   7.705   4.620  1.00  0.00           O  \nATOM      7  C2'   G A   1      11.235   6.678   3.482  1.00  0.00           C  \nATOM      8  O2'   G A   1      11.451   7.949   2.868  1.00  0.00           O  \nATOM      9  C1'   G A   1      12.534   6.100   4.016  1.00  0.00           C  \nATOM     10  N9    G A   1      12.901   4.816   3.367  1.00  0.00           N  \nATOM     11  C8    G A   1      12.912   3.591   3.921  1.00  0.00           C  \nATOM     12  N7    G A   1      13.279   2.621   3.121  1.00  0.00           N  \nATOM     13  C5    G A   1      13.534   3.248   1.930  1.00  0.00           C  \nATOM     14  C6    G A   1      13.958   2.683   0.720  1.00  0.00           C  \nATOM     15  O6    G A   1      14.185   1.483   0.537  1.00  0.00           O  \nATOM     16  N1    G A   1      14.106   3.675  -0.294  1.00  0.00           N  \nATOM     17  C2    G A   1      13.870   5.055  -0.145  1.00  0.00           C  \nATOM     18  N2    G A   1      14.093   5.754  -1.293  1.00  0.00           N  \nATOM     19  N3    G A   1      13.460   5.557   1.052  1.00  0.00           N  \nATOM     20  C4    G A   1      13.311   4.622   2.034  1.00  0.00           C  \nATOM     21  H5'   G A   1      10.263   5.022   6.937  1.00  0.00           H  \nATOM     22 H5''   G A   1      11.408   6.001   7.924  1.00  0.00           H  \nATOM     23  H4'   G A   1      11.546   7.732   6.079  1.00  0.00           H  \nATOM     24  H3'   G A   1       9.785   5.642   4.630  1.00  0.00           H  \nATOM     25  H2'   G A   1      10.853   5.939   2.744  1.00  0.00           H  \nATOM     26 HO2'   G A   1      11.048   7.896   1.998  1.00  0.00           H  \nATOM     27  H1'   G A   1      13.364   6.807   3.804  1.00  0.00           H  \nATOM     28  H8    G A   1      12.590   3.573   4.962  1.00  0.00           H  \nATOM     29  H1    G A   1      14.398   3.333  -1.198  1.00  0.00           H  \nATOM     30  H21   G A   1      14.383   5.252  -2.108  1.00  0.00           H  \nATOM     31  H22   G A   1      13.969   6.745  -1.319  1.00  0.00           H  \nATOM     32 HO5'   G A   1       9.887   7.687   7.850  1.00  0.00           H  \nATOM     33  P     C A   2       7.892   7.568   3.883  1.00  0.00           P  \nATOM     34  OP1   C A   2       7.112   8.799   4.143  1.00  0.00           O  \nATOM     35  OP2   C A   2       7.256   6.293   4.289  1.00  0.00           O  \nATOM     36  O5'   C A   2       8.256   7.481   2.328  1.00  0.00           O  \nATOM     37  C5'   C A   2       8.498   8.643   1.536  1.00  0.00           C  \nATOM     38  C4'   C A   2       8.807   8.359   0.034  1.00  0.00           C  \nATOM     39  O4'   C A   2      10.130   7.756  -0.193  1.00  0.00           O  \nATOM     40  C3'   C A   2       7.824   7.449  -0.712  1.00  0.00           C  \nATOM     41  O3'   C A   2       6.628   8.139  -1.095  1.00  0.00           O  \nATOM     42  C2'   C A   2       8.674   6.932  -1.889  1.00  0.00           C  \nATOM     43  O2'   C A   2       8.760   7.845  -2.985  1.00  0.00           O  \nATOM     44  C1'   C A   2      10.053   6.741  -1.233  1.00  0.00           C  \nATOM     45  N1    C A   2      10.293   5.362  -0.673  1.00  0.00           N  \nATOM     46  C2    C A   2      10.711   4.284  -1.536  1.00  0.00           C  \nATOM     47  O2    C A   2      10.875   4.435  -2.761  1.00  0.00           O  \nATOM     48  N3    C A   2      10.934   3.048  -0.963  1.00  0.00           N  \nATOM     49  C4    C A   2      10.773   2.832   0.372  1.00  0.00           C  \nATOM     50  N4    C A   2      10.977   1.603   0.927  1.00  0.00           N  \nATOM     51  C5    C A   2      10.359   3.920   1.224  1.00  0.00           C  \nATOM     52  C6    C A   2      10.137   5.113   0.667  1.00  0.00           C  \nATOM     53  H5'   C A   2       9.339   9.228   1.965  1.00  0.00           H  \nATOM     54 H5''   C A   2       7.596   9.292   1.567  1.00  0.00           H  \nATOM     55  H4'   C A   2       8.880   9.341  -0.481  1.00  0.00           H  \nATOM     56  H3'   C A   2       7.574   6.583  -0.062  1.00  0.00           H  \nATOM     57  H2'   C A   2       8.272   5.963  -2.257  1.00  0.00           H  \nATOM     58 HO2'   C A   2       9.112   8.661  -2.621  1.00  0.00           H  \nATOM     59  H1'   C A   2      10.878   6.911  -1.957  1.00  0.00           H  \nATOM     60  H41   C A   2      11.277   0.855   0.334  1.00  0.00           H  \nATOM     61  H42   C A   2      10.830   1.455   1.905  1.00  0.00           H  \nATOM     62  H5    C A   2      10.256   3.838   2.306  1.00  0.00           H  \nATOM     63  H6    C A   2       9.795   5.977   1.236  1.00  0.00           H  \nATOM     64  P     G A   3       5.294   7.365  -1.499  1.00  0.00           P  \nATOM     65  OP1   G A   3       4.195   8.348  -1.629  1.00  0.00           O  \nATOM     66  OP2   G A   3       5.067   6.231  -0.570  1.00  0.00           O  \nATOM     67  O5'   G A   3       5.658   6.856  -2.957  1.00  0.00           O  \nATOM     68  C5'   G A   3       5.432   5.521  -3.376  1.00  0.00           C  \nATOM     69  C4'   G A   3       6.231   5.228  -4.661  1.00  0.00           C  \nATOM     70  O4'   G A   3       7.593   4.827  -4.312  1.00  0.00           O  \nATOM     71  C3'   G A   3       5.654   4.057  -5.457  1.00  0.00           C  \nATOM     72  O3'   G A   3       4.862   4.559  -6.539  1.00  0.00           O  \nATOM     73  C2'   G A   3       6.871   3.253  -5.939  1.00  0.00           C  \nATOM     74  O2'   G A   3       7.375   3.666  -7.211  1.00  0.00           O  \nATOM     75  C1'   G A   3       7.900   3.534  -4.836  1.00  0.00           C  \nATOM     76  N9    G A   3       8.079   2.539  -3.735  1.00  0.00           N  \nATOM     77  C8    G A   3       7.906   2.703  -2.393  1.00  0.00           C  \nATOM     78  N7    G A   3       8.188   1.653  -1.664  1.00  0.00           N  \nATOM     79  C5    G A   3       8.579   0.710  -2.571  1.00  0.00           C  \nATOM     80  C6    G A   3       8.992  -0.603  -2.325  1.00  0.00           C  \nATOM     81  O6    G A   3       9.081  -1.128  -1.210  1.00  0.00           O  \nATOM     82  N1    G A   3       9.314  -1.276  -3.537  1.00  0.00           N  \nATOM     83  C2    G A   3       9.244  -0.733  -4.834  1.00  0.00           C  \nATOM     84  N2    G A   3       9.604  -1.619  -5.803  1.00  0.00           N  \nATOM     85  N3    G A   3       8.840   0.549  -5.023  1.00  0.00           N  \nATOM     86  C4    G A   3       8.526   1.211  -3.875  1.00  0.00           C  \nATOM     87  H5'   G A   3       4.346   5.389  -3.571  1.00  0.00           H  \nATOM     88 H5''   G A   3       5.715   4.796  -2.585  1.00  0.00           H  \nATOM     89  H4'   G A   3       6.314   6.136  -5.295  1.00  0.00           H  \nATOM     90  H3'   G A   3       5.066   3.393  -4.788  1.00  0.00           H  \nATOM     91  H2'   G A   3       6.640   2.168  -6.008  1.00  0.00           H  \nATOM     92 HO2'   G A   3       6.657   3.481  -7.821  1.00  0.00           H  \nATOM     93  H1'   G A   3       8.909   3.594  -5.297  1.00  0.00           H  \nATOM     94  H8    G A   3       7.547   3.668  -2.038  1.00  0.00           H  \nATOM     95  H1    G A   3       9.615  -2.232  -3.408  1.00  0.00           H  \nATOM     96  H21   G A   3       9.861  -2.544  -5.522  1.00  0.00           H  \nATOM     97  H22   G A   3       9.610  -1.351  -6.767  1.00  0.00           H  \nATOM     98  P     C A   4       3.467   3.957  -6.963  1.00  0.00           P  \nATOM     99  OP1   C A   4       3.033   4.607  -8.222  1.00  0.00           O  \nATOM    100  OP2   C A   4       2.533   4.027  -5.818  1.00  0.00           O  \nATOM    101  O5'   C A   4       3.818   2.450  -7.221  1.00  0.00           O  \nATOM    102  C5'   C A   4       4.312   1.873  -8.418  1.00  0.00           C  \nATOM    103  C4'   C A   4       4.542   0.346  -8.254  1.00  0.00           C  \nATOM    104  O4'   C A   4       5.743   0.062  -7.444  1.00  0.00           O  \nATOM    105  C3'   C A   4       3.440  -0.359  -7.456  1.00  0.00           C  \nATOM    106  O3'   C A   4       2.136  -0.484  -8.014  1.00  0.00           O  \nATOM    107  C2'   C A   4       4.105  -1.593  -6.881  1.00  0.00           C  \nATOM    108  O2'   C A   4       4.088  -2.750  -7.706  1.00  0.00           O  \nATOM    109  C1'   C A   4       5.563  -1.168  -6.691  1.00  0.00           C  \nATOM    110  N1    C A   4       5.770  -1.054  -5.222  1.00  0.00           N  \nATOM    111  C2    C A   4       6.140  -2.233  -4.469  1.00  0.00           C  \nATOM    112  O2    C A   4       6.382  -3.326  -5.017  1.00  0.00           O  \nATOM    113  N3    C A   4       6.222  -2.127  -3.100  1.00  0.00           N  \nATOM    114  C4    C A   4       5.965  -0.954  -2.460  1.00  0.00           C  \nATOM    115  N4    C A   4       6.025  -0.879  -1.098  1.00  0.00           N  \nATOM    116  C5    C A   4       5.606   0.211  -3.242  1.00  0.00           C  \nATOM    117  C6    C A   4       5.526   0.116  -4.557  1.00  0.00           C  \nATOM    118  H5'   C A   4       5.260   2.363  -8.724  1.00  0.00           H  \nATOM    119 H5''   C A   4       3.565   2.027  -9.226  1.00  0.00           H  \nATOM    120  H4'   C A   4       4.697  -0.127  -9.247  1.00  0.00           H  \nATOM    121  H3'   C A   4       3.303   0.246  -6.535  1.00  0.00           H  \nATOM    122  H2'   C A   4       3.657  -1.734  -5.874  1.00  0.00           H  \nATOM    123 HO2'   C A   4       3.207  -2.786  -8.087  1.00  0.00           H  \nATOM    124  H1'   C A   4       6.209  -1.983  -7.081  1.00  0.00           H  \nATOM    125  H41   C A   4       6.270  -1.717  -0.610  1.00  0.00           H  \nATOM    126  H42   C A   4       5.837  -0.030  -0.606  1.00  0.00           H  \nATOM    127  H5    C A   4       5.373   1.227  -2.924  1.00  0.00           H  \nATOM    128  H6    C A   4       5.263   1.010  -5.121  1.00  0.00           H  \nATOM    129  P     U A   5       1.550  -1.239  -9.267  1.00  0.00           P  \nATOM    130  OP1   U A   5       2.470  -1.062 -10.414  1.00  0.00           O  \nATOM    131  OP2   U A   5       0.152  -0.791  -9.465  1.00  0.00           O  \nATOM    132  O5'   U A   5       1.554  -2.776  -8.863  1.00  0.00           O  \nATOM    133  C5'   U A   5       0.786  -3.298  -7.790  1.00  0.00           C  \nATOM    134  C4'   U A   5       1.123  -4.790  -7.549  1.00  0.00           C  \nATOM    135  O4'   U A   5       2.457  -4.996  -6.984  1.00  0.00           O  \nATOM    136  C3'   U A   5       0.162  -5.478  -6.587  1.00  0.00           C  \nATOM    137  O3'   U A   5      -0.892  -6.104  -7.321  1.00  0.00           O  \nATOM    138  C2'   U A   5       1.025  -6.500  -5.833  1.00  0.00           C  \nATOM    139  O2'   U A   5       1.116  -7.779  -6.467  1.00  0.00           O  \nATOM    140  C1'   U A   5       2.406  -5.838  -5.818  1.00  0.00           C  \nATOM    141  N1    U A   5       2.791  -5.111  -4.560  1.00  0.00           N  \nATOM    142  C2    U A   5       3.102  -5.892  -3.391  1.00  0.00           C  \nATOM    143  O2    U A   5       3.074  -7.129  -3.330  1.00  0.00           O  \nATOM    144  N3    U A   5       3.463  -5.128  -2.258  1.00  0.00           N  \nATOM    145  C4    U A   5       3.540  -3.711  -2.177  1.00  0.00           C  \nATOM    146  O4    U A   5       3.870  -3.144  -1.132  1.00  0.00           O  \nATOM    147  C5    U A   5       3.205  -3.021  -3.412  1.00  0.00           C  \nATOM    148  C6    U A   5       2.859  -3.726  -4.509  1.00  0.00           C  \nATOM    149  H5'   U A   5      -0.291  -3.210  -8.050  1.00  0.00           H  \nATOM    150 H5''   U A   5       0.968  -2.720  -6.859  1.00  0.00           H  \nATOM    151  H4'   U A   5       1.174  -5.317  -8.526  1.00  0.00           H  \nATOM    152  H3'   U A   5      -0.208  -4.738  -5.845  1.00  0.00           H  \nATOM    153  H2'   U A   5       0.647  -6.639  -4.797  1.00  0.00           H  \nATOM    154 HO2'   U A   5       1.448  -7.609  -7.352  1.00  0.00           H  \nATOM    155  H1'   U A   5       3.188  -6.618  -5.938  1.00  0.00           H  \nATOM    156  H3    U A   5       3.688  -5.664  -1.433  1.00  0.00           H  \nATOM    157  H5    U A   5       3.243  -1.932  -3.433  1.00  0.00           H  \nATOM    158  H6    U A   5       2.606  -3.268  -5.466  1.00  0.00           H  \nATOM    159  P     G A   6      -2.415  -6.084  -6.911  1.00  0.00           P  \nATOM    160  OP1   G A   6      -3.161  -6.985  -7.822  1.00  0.00           O  \nATOM    161  OP2   G A   6      -2.875  -4.682  -6.848  1.00  0.00           O  \nATOM    162  O5'   G A   6      -2.404  -6.683  -5.445  1.00  0.00           O  \nATOM    163  C5'   G A   6      -2.249  -8.073  -5.173  1.00  0.00           C  \nATOM    164  C4'   G A   6      -2.168  -8.372  -3.652  1.00  0.00           C  \nATOM    165  O4'   G A   6      -0.902  -7.917  -3.073  1.00  0.00           O  \nATOM    166  C3'   G A   6      -3.263  -7.689  -2.826  1.00  0.00           C  \nATOM    167  O3'   G A   6      -4.419  -8.521  -2.794  1.00  0.00           O  \nATOM    168  C2'   G A   6      -2.618  -7.441  -1.457  1.00  0.00           C  \nATOM    169  O2'   G A   6      -2.817  -8.522  -0.545  1.00  0.00           O  \nATOM    170  C1'   G A   6      -1.112  -7.287  -1.797  1.00  0.00           C  \nATOM    171  N9    G A   6      -0.574  -5.884  -1.863  1.00  0.00           N  \nATOM    172  C8    G A   6      -0.473  -5.054  -2.945  1.00  0.00           C  \nATOM    173  N7    G A   6       0.019  -3.870  -2.698  1.00  0.00           N  \nATOM    174  C5    G A   6       0.277  -3.885  -1.361  1.00  0.00           C  \nATOM    175  C6    G A   6       0.816  -2.860  -0.580  1.00  0.00           C  \nATOM    176  O6    G A   6       1.141  -1.750  -1.006  1.00  0.00           O  \nATOM    177  N1    G A   6       0.940  -3.252   0.778  1.00  0.00           N  \nATOM    178  C2    G A   6       0.579  -4.502   1.308  1.00  0.00           C  \nATOM    179  N2    G A   6       0.828  -4.598   2.637  1.00  0.00           N  \nATOM    180  N3    G A   6       0.055  -5.476   0.515  1.00  0.00           N  \nATOM    181  C4    G A   6      -0.071  -5.117  -0.792  1.00  0.00           C  \nATOM    182  H5'   G A   6      -1.339  -8.471  -5.670  1.00  0.00           H  \nATOM    183 H5''   G A   6      -3.125  -8.620  -5.583  1.00  0.00           H  \nATOM    184  H4'   G A   6      -2.184  -9.472  -3.497  1.00  0.00           H  \nATOM    185  H3'   G A   6      -3.494  -6.686  -3.244  1.00  0.00           H  \nATOM    186  H2'   G A   6      -3.009  -6.510  -0.994  1.00  0.00           H  \nATOM    187 HO2'   G A   6      -3.768  -8.588  -0.434  1.00  0.00           H  \nATOM    188  H1'   G A   6      -0.545  -7.839  -1.018  1.00  0.00           H  \nATOM    189  H8    G A   6      -0.780  -5.428  -3.922  1.00  0.00           H  \nATOM    190  H1    G A   6       1.324  -2.563   1.407  1.00  0.00           H  \nATOM    191  H21   G A   6       1.131  -3.814   3.177  1.00  0.00           H  \nATOM    192  H22   G A   6       0.704  -5.489   3.076  1.00  0.00           H  \nATOM    193  P     A A   7      -5.823  -8.196  -3.456  1.00  0.00           P  \nATOM    194  OP1   A A   7      -6.516  -9.475  -3.730  1.00  0.00           O  \nATOM    195  OP2   A A   7      -5.644  -7.279  -4.606  1.00  0.00           O  \nATOM    196  O5'   A A   7      -6.601  -7.414  -2.316  1.00  0.00           O  \nATOM    197  C5'   A A   7      -6.822  -7.999  -1.033  1.00  0.00           C  \nATOM    198  C4'   A A   7      -6.968  -6.910   0.048  1.00  0.00           C  \nATOM    199  O4'   A A   7      -7.036  -7.550   1.354  1.00  0.00           O  \nATOM    200  C3'   A A   7      -5.800  -5.904   0.114  1.00  0.00           C  \nATOM    201  O3'   A A   7      -6.276  -4.566  -0.065  1.00  0.00           O  \nATOM    202  C2'   A A   7      -5.102  -6.160   1.462  1.00  0.00           C  \nATOM    203  O2'   A A   7      -4.699  -4.985   2.161  1.00  0.00           O  \nATOM    204  C1'   A A   7      -6.107  -6.982   2.275  1.00  0.00           C  \nATOM    205  N9    A A   7      -5.513  -8.131   3.004  1.00  0.00           N  \nATOM    206  C8    A A   7      -4.755  -9.169   2.537  1.00  0.00           C  \nATOM    207  N7    A A   7      -4.407 -10.038   3.458  1.00  0.00           N  \nATOM    208  C5    A A   7      -4.963  -9.550   4.614  1.00  0.00           C  \nATOM    209  C6    A A   7      -4.928 -10.057   5.932  1.00  0.00           C  \nATOM    210  N6    A A   7      -4.250 -11.216   6.197  1.00  0.00           N  \nATOM    211  N1    A A   7      -5.607  -9.298   6.861  1.00  0.00           N  \nATOM    212  C2    A A   7      -6.230  -8.178   6.476  1.00  0.00           C  \nATOM    213  N3    A A   7      -6.319  -7.629   5.279  1.00  0.00           N  \nATOM    214  C4    A A   7      -5.653  -8.372   4.370  1.00  0.00           C  \nATOM    215  H5'   A A   7      -5.985  -8.671  -0.747  1.00  0.00           H  \nATOM    216 H5''   A A   7      -7.751  -8.607  -1.063  1.00  0.00           H  \nATOM    217  H4'   A A   7      -7.937  -6.387  -0.090  1.00  0.00           H  \nATOM    218  H3'   A A   7      -5.045  -6.141  -0.666  1.00  0.00           H  \nATOM    219  H2'   A A   7      -4.191  -6.764   1.262  1.00  0.00           H  \nATOM    220 HO2'   A A   7      -4.238  -5.246   2.963  1.00  0.00           H  \nATOM    221  H1'   A A   7      -6.679  -6.363   2.999  1.00  0.00           H  \nATOM    222  H8    A A   7      -4.503  -9.190   1.476  1.00  0.00           H  \nATOM    223  H61   A A   7      -4.272 -11.611   7.115  1.00  0.00           H  \nATOM    224  H62   A A   7      -3.733 -11.663   5.468  1.00  0.00           H  \nATOM    225  H2    A A   7      -6.764  -7.589   7.222  1.00  0.00           H  \nATOM    226  P     C A   8      -6.237  -3.860  -1.495  1.00  0.00           P  \nATOM    227  OP1   C A   8      -7.405  -4.320  -2.281  1.00  0.00           O  \nATOM    228  OP2   C A   8      -4.900  -4.040  -2.118  1.00  0.00           O  \nATOM    229  O5'   C A   8      -6.478  -2.340  -1.109  1.00  0.00           O  \nATOM    230  C5'   C A   8      -5.446  -1.364  -0.985  1.00  0.00           C  \nATOM    231  C4'   C A   8      -5.326  -0.741   0.423  1.00  0.00           C  \nATOM    232  O4'   C A   8      -6.581  -0.177   0.866  1.00  0.00           O  \nATOM    233  C3'   C A   8      -4.974  -1.764   1.492  1.00  0.00           C  \nATOM    234  O3'   C A   8      -3.685  -1.461   1.994  1.00  0.00           O  \nATOM    235  C2'   C A   8      -6.098  -1.718   2.532  1.00  0.00           C  \nATOM    236  O2'   C A   8      -5.697  -1.948   3.879  1.00  0.00           O  \nATOM    237  C1'   C A   8      -6.732  -0.351   2.280  1.00  0.00           C  \nATOM    238  N1    C A   8      -8.188  -0.355   2.644  1.00  0.00           N  \nATOM    239  C2    C A   8      -8.612  -0.028   3.990  1.00  0.00           C  \nATOM    240  O2    C A   8      -7.801   0.279   4.889  1.00  0.00           O  \nATOM    241  N3    C A   8      -9.966  -0.069   4.268  1.00  0.00           N  \nATOM    242  C4    C A   8     -10.883  -0.402   3.315  1.00  0.00           C  \nATOM    243  N4    C A   8     -12.220  -0.455   3.586  1.00  0.00           N  \nATOM    244  C5    C A   8     -10.439  -0.721   1.976  1.00  0.00           C  \nATOM    245  C6    C A   8      -9.143  -0.688   1.703  1.00  0.00           C  \nATOM    246  H5'   C A   8      -5.633  -0.551  -1.719  1.00  0.00           H  \nATOM    247 H5''   C A   8      -4.454  -1.794  -1.241  1.00  0.00           H  \nATOM    248  H4'   C A   8      -4.598   0.097   0.392  1.00  0.00           H  \nATOM    249  H3'   C A   8      -5.061  -2.786   1.062  1.00  0.00           H  \nATOM    250  H2'   C A   8      -6.845  -2.497   2.267  1.00  0.00           H  \nATOM    251 HO2'   C A   8      -5.055  -2.660   3.835  1.00  0.00           H  \nATOM    252  H1'   C A   8      -6.192   0.500   2.748  1.00  0.00           H  \nATOM    253  H41   C A   8     -12.554  -0.248   4.507  1.00  0.00           H  \nATOM    254  H42   C A   8     -12.867  -0.702   2.864  1.00  0.00           H  \nATOM    255  H5    C A   8     -11.064  -0.980   1.122  1.00  0.00           H  \nATOM    256  H6    C A   8      -8.804  -0.941   0.699  1.00  0.00           H  \nATOM    257  P     A A   9      -2.338  -2.240   1.730  1.00  0.00           P  \nATOM    258  OP1   A A   9      -1.227  -1.260   1.787  1.00  0.00           O  \nATOM    259  OP2   A A   9      -2.453  -3.041   0.488  1.00  0.00           O  \nATOM    260  O5'   A A   9      -2.230  -3.229   2.971  1.00  0.00           O  \nATOM    261  C5'   A A   9      -2.263  -2.712   4.304  1.00  0.00           C  \nATOM    262  C4'   A A   9      -2.306  -3.811   5.391  1.00  0.00           C  \nATOM    263  O4'   A A   9      -3.076  -4.986   4.958  1.00  0.00           O  \nATOM    264  C3'   A A   9      -0.941  -4.384   5.774  1.00  0.00           C  \nATOM    265  O3'   A A   9      -0.219  -3.532   6.669  1.00  0.00           O  \nATOM    266  C2'   A A   9      -1.311  -5.736   6.385  1.00  0.00           C  \nATOM    267  O2'   A A   9      -1.730  -5.664   7.749  1.00  0.00           O  \nATOM    268  C1'   A A   9      -2.470  -6.184   5.474  1.00  0.00           C  \nATOM    269  N9    A A   9      -2.097  -7.136   4.372  1.00  0.00           N  \nATOM    270  C8    A A   9      -2.077  -6.954   3.012  1.00  0.00           C  \nATOM    271  N7    A A   9      -1.743  -8.011   2.319  1.00  0.00           N  \nATOM    272  C5    A A   9      -1.517  -8.979   3.257  1.00  0.00           C  \nATOM    273  C6    A A   9      -1.133 -10.324   3.083  1.00  0.00           C  \nATOM    274  N6    A A   9      -0.970 -10.815   1.815  1.00  0.00           N  \nATOM    275  N1    A A   9      -0.983 -11.037   4.246  1.00  0.00           N  \nATOM    276  C2    A A   9      -1.201 -10.446   5.426  1.00  0.00           C  \nATOM    277  N3    A A   9      -1.571  -9.192   5.691  1.00  0.00           N  \nATOM    278  C4    A A   9      -1.717  -8.487   4.541  1.00  0.00           C  \nATOM    279  H5'   A A   9      -3.180  -2.100   4.439  1.00  0.00           H  \nATOM    280 H5''   A A   9      -1.394  -2.043   4.481  1.00  0.00           H  \nATOM    281  H4'   A A   9      -2.811  -3.405   6.293  1.00  0.00           H  \nATOM    282  H3'   A A   9      -0.362  -4.585   4.848  1.00  0.00           H  \nATOM    283  H2'   A A   9      -0.473  -6.462   6.308  1.00  0.00           H  \nATOM    284 HO2'   A A   9      -2.458  -5.037   7.768  1.00  0.00           H  \nATOM    285  H1'   A A   9      -3.235  -6.692   6.098  1.00  0.00           H  \nATOM    286  H8    A A   9      -2.316  -5.983   2.580  1.00  0.00           H  \nATOM    287  H61   A A   9      -0.655 -11.753   1.671  1.00  0.00           H  \nATOM    288  H62   A A   9      -1.176 -10.221   1.037  1.00  0.00           H  \nATOM    289  H2    A A   9      -1.055 -11.074   6.304  1.00  0.00           H  \nATOM    290  P     A A  10       1.326  -3.198   6.471  1.00  0.00           P  \nATOM    291  OP1   A A  10       1.704  -2.137   7.435  1.00  0.00           O  \nATOM    292  OP2   A A  10       1.586  -2.910   5.042  1.00  0.00           O  \nATOM    293  O5'   A A  10       2.056  -4.561   6.853  1.00  0.00           O  \nATOM    294  C5'   A A  10       2.109  -5.016   8.206  1.00  0.00           C  \nATOM    295  C4'   A A  10       2.400  -6.533   8.329  1.00  0.00           C  \nATOM    296  O4'   A A  10       1.365  -7.336   7.659  1.00  0.00           O  \nATOM    297  C3'   A A  10       3.702  -7.014   7.684  1.00  0.00           C  \nATOM    298  O3'   A A  10       4.867  -6.785   8.478  1.00  0.00           O  \nATOM    299  C2'   A A  10       3.417  -8.504   7.460  1.00  0.00           C  \nATOM    300  O2'   A A  10       3.557  -9.312   8.630  1.00  0.00           O  \nATOM    301  C1'   A A  10       1.959  -8.463   6.980  1.00  0.00           C  \nATOM    302  N9    A A  10       1.807  -8.355   5.486  1.00  0.00           N  \nATOM    303  C8    A A  10       1.438  -7.278   4.736  1.00  0.00           C  \nATOM    304  N7    A A  10       1.392  -7.485   3.449  1.00  0.00           N  \nATOM    305  C5    A A  10       1.755  -8.787   3.298  1.00  0.00           C  \nATOM    306  C6    A A  10       1.882  -9.549   2.121  1.00  0.00           C  \nATOM    307  N6    A A  10       1.609  -8.971   0.907  1.00  0.00           N  \nATOM    308  N1    A A  10       2.274 -10.850   2.318  1.00  0.00           N  \nATOM    309  C2    A A  10       2.503 -11.300   3.556  1.00  0.00           C  \nATOM    310  N3    A A  10       2.411 -10.661   4.725  1.00  0.00           N  \nATOM    311  C4    A A  10       2.025  -9.375   4.529  1.00  0.00           C  \nATOM    312  H5'   A A  10       1.149  -4.812   8.725  1.00  0.00           H  \nATOM    313 H5''   A A  10       2.907  -4.459   8.742  1.00  0.00           H  \nATOM    314  H4'   A A  10       2.374  -6.817   9.403  1.00  0.00           H  \nATOM    315  H3'   A A  10       3.796  -6.533   6.686  1.00  0.00           H  \nATOM    316  H2'   A A  10       4.070  -8.915   6.659  1.00  0.00           H  \nATOM    317 HO2'   A A  10       2.957  -8.940   9.280  1.00  0.00           H  \nATOM    318  H1'   A A  10       1.427  -9.384   7.303  1.00  0.00           H  \nATOM    319  H8    A A  10       1.223  -6.337   5.242  1.00  0.00           H  \nATOM    320  H61   A A  10       1.719  -9.503   0.067  1.00  0.00           H  \nATOM    321  H62   A A  10       1.301  -8.021   0.857  1.00  0.00           H  \nATOM    322  H2    A A  10       2.810 -12.344   3.621  1.00  0.00           H  \nATOM    323  P     A A  11       6.218  -6.226   7.833  1.00  0.00           P  \nATOM    324  OP1   A A  11       7.239  -6.126   8.902  1.00  0.00           O  \nATOM    325  OP2   A A  11       5.919  -4.980   7.087  1.00  0.00           O  \nATOM    326  O5'   A A  11       6.653  -7.343   6.783  1.00  0.00           O  \nATOM    327  C5'   A A  11       7.103  -8.629   7.189  1.00  0.00           C  \nATOM    328  C4'   A A  11       7.128  -9.684   6.051  1.00  0.00           C  \nATOM    329  O4'   A A  11       5.789  -9.919   5.491  1.00  0.00           O  \nATOM    330  C3'   A A  11       7.988  -9.325   4.838  1.00  0.00           C  \nATOM    331  O3'   A A  11       9.365  -9.646   5.031  1.00  0.00           O  \nATOM    332  C2'   A A  11       7.309 -10.116   3.709  1.00  0.00           C  \nATOM    333  O2'   A A  11       7.674 -11.494   3.634  1.00  0.00           O  \nATOM    334  C1'   A A  11       5.827  -9.949   4.052  1.00  0.00           C  \nATOM    335  N9    A A  11       5.234  -8.694   3.462  1.00  0.00           N  \nATOM    336  C8    A A  11       4.848  -7.558   4.106  1.00  0.00           C  \nATOM    337  N7    A A  11       4.386  -6.606   3.346  1.00  0.00           N  \nATOM    338  C5    A A  11       4.458  -7.124   2.085  1.00  0.00           C  \nATOM    339  C6    A A  11       4.093  -6.541   0.862  1.00  0.00           C  \nATOM    340  N6    A A  11       3.583  -5.275   0.857  1.00  0.00           N  \nATOM    341  N1    A A  11       4.290  -7.327  -0.242  1.00  0.00           N  \nATOM    342  C2    A A  11       4.795  -8.559  -0.101  1.00  0.00           C  \nATOM    343  N3    A A  11       5.172  -9.202   1.009  1.00  0.00           N  \nATOM    344  C4    A A  11       4.974  -8.415   2.099  1.00  0.00           C  \nATOM    345  H5'   A A  11       6.474  -9.022   8.017  1.00  0.00           H  \nATOM    346 H5''   A A  11       8.142  -8.515   7.568  1.00  0.00           H  \nATOM    347  H4'   A A  11       7.456 -10.657   6.477  1.00  0.00           H  \nATOM    348  H3'   A A  11       7.862  -8.244   4.612  1.00  0.00           H  \nATOM    349  H2'   A A  11       7.518  -9.646   2.725  1.00  0.00           H  \nATOM    350 HO2'   A A  11       8.131 -11.552   2.792  1.00  0.00           H  \nATOM    351  H1'   A A  11       5.241 -10.832   3.720  1.00  0.00           H  \nATOM    352  H8    A A  11       4.948  -7.529   5.191  1.00  0.00           H  \nATOM    353  H61   A A  11       3.329  -4.840  -0.007  1.00  0.00           H  \nATOM    354  H62   A A  11       3.465  -4.782   1.719  1.00  0.00           H  \nATOM    355  H2    A A  11       4.921  -9.119  -1.027  1.00  0.00           H  \nATOM    356  P     G A  12      10.540  -8.783   4.381  1.00  0.00           P  \nATOM    357  OP1   G A  12      11.831  -9.277   4.917  1.00  0.00           O  \nATOM    358  OP2   G A  12      10.258  -7.340   4.567  1.00  0.00           O  \nATOM    359  O5'   G A  12      10.452  -9.113   2.824  1.00  0.00           O  \nATOM    360  C5'   G A  12      10.663 -10.443   2.358  1.00  0.00           C  \nATOM    361  C4'   G A  12      10.098 -10.690   0.940  1.00  0.00           C  \nATOM    362  O4'   G A  12       8.702 -10.295   0.786  1.00  0.00           O  \nATOM    363  C3'   G A  12      10.846  -9.997  -0.192  1.00  0.00           C  \nATOM    364  O3'   G A  12      11.964 -10.785  -0.606  1.00  0.00           O  \nATOM    365  C2'   G A  12       9.776  -9.838  -1.276  1.00  0.00           C  \nATOM    366  O2'   G A  12       9.615 -10.988  -2.110  1.00  0.00           O  \nATOM    367  C1'   G A  12       8.510  -9.589  -0.448  1.00  0.00           C  \nATOM    368  N9    G A  12       8.124  -8.165  -0.179  1.00  0.00           N  \nATOM    369  C8    G A  12       8.099  -7.504   1.011  1.00  0.00           C  \nATOM    370  N7    G A  12       7.705  -6.256   0.948  1.00  0.00           N  \nATOM    371  C5    G A  12       7.441  -6.048  -0.380  1.00  0.00           C  \nATOM    372  C6    G A  12       6.984  -4.875  -1.011  1.00  0.00           C  \nATOM    373  O6    G A  12       6.743  -3.799  -0.450  1.00  0.00           O  \nATOM    374  N1    G A  12       6.833  -5.073  -2.415  1.00  0.00           N  \nATOM    375  C2    G A  12       7.095  -6.265  -3.119  1.00  0.00           C  \nATOM    376  N2    G A  12       6.863  -6.153  -4.455  1.00  0.00           N  \nATOM    377  N3    G A  12       7.534  -7.373  -2.465  1.00  0.00           N  \nATOM    378  C4    G A  12       7.687  -7.211  -1.123  1.00  0.00           C  \nATOM    379  H5'   G A  12      10.186 -11.178   3.039  1.00  0.00           H  \nATOM    380 H5''   G A  12      11.752 -10.660   2.355  1.00  0.00           H  \nATOM    381  H4'   G A  12      10.050 -11.788   0.777  1.00  0.00           H  \nATOM    382  H3'   G A  12      11.156  -8.981   0.135  1.00  0.00           H  \nATOM    383  H2'   G A  12       9.945  -8.951  -1.924  1.00  0.00           H  \nATOM    384 HO2'   G A  12       8.884 -10.789  -2.698  1.00  0.00           H  \nATOM    385  H1'   G A  12       7.669 -10.037  -1.020  1.00  0.00           H  \nATOM    386  H8    G A  12       8.396  -8.076   1.892  1.00  0.00           H  \nATOM    387  H1    G A  12       6.505  -4.267  -2.927  1.00  0.00           H  \nATOM    388  H21   G A  12       6.590  -5.260  -4.811  1.00  0.00           H  \nATOM    389  H22   G A  12       6.966  -6.942  -5.062  1.00  0.00           H  \nATOM    390  P     C A  13      13.385 -10.162  -0.925  1.00  0.00           P  \nATOM    391  OP1   C A  13      14.328 -11.266  -1.226  1.00  0.00           O  \nATOM    392  OP2   C A  13      13.775  -9.234   0.160  1.00  0.00           O  \nATOM    393  O5'   C A  13      13.113  -9.316  -2.235  1.00  0.00           O  \nATOM    394  C5'   C A  13      12.858  -9.918  -3.502  1.00  0.00           C  \nATOM    395  C4'   C A  13      12.411  -8.882  -4.562  1.00  0.00           C  \nATOM    396  O4'   C A  13      11.093  -8.314  -4.244  1.00  0.00           O  \nATOM    397  C3'   C A  13      13.335  -7.667  -4.673  1.00  0.00           C  \nATOM    398  O3'   C A  13      14.489  -7.952  -5.471  1.00  0.00           O  \nATOM    399  C2'   C A  13      12.411  -6.571  -5.206  1.00  0.00           C  \nATOM    400  O2'   C A  13      12.265  -6.557  -6.626  1.00  0.00           O  \nATOM    401  C1'   C A  13      11.077  -6.893  -4.501  1.00  0.00           C  \nATOM    402  N1    C A  13      10.795  -6.086  -3.250  1.00  0.00           N  \nATOM    403  C2    C A  13      10.351  -4.720  -3.416  1.00  0.00           C  \nATOM    404  O2    C A  13      10.185  -4.201  -4.537  1.00  0.00           O  \nATOM    405  N3    C A  13      10.104  -3.976  -2.284  1.00  0.00           N  \nATOM    406  C4    C A  13      10.265  -4.481  -1.036  1.00  0.00           C  \nATOM    407  N4    C A  13      10.015  -3.722   0.070  1.00  0.00           N  \nATOM    408  C5    C A  13      10.706  -5.842  -0.863  1.00  0.00           C  \nATOM    409  C6    C A  13      10.950  -6.582  -1.955  1.00  0.00           C  \nATOM    410  H5'   C A  13      12.074 -10.701  -3.412  1.00  0.00           H  \nATOM    411 H5''   C A  13      13.788 -10.409  -3.861  1.00  0.00           H  \nATOM    412  H4'   C A  13      12.302  -9.387  -5.546  1.00  0.00           H  \nATOM    413  H3'   C A  13      13.635  -7.358  -3.649  1.00  0.00           H  \nATOM    414  H2'   C A  13      12.790  -5.573  -4.899  1.00  0.00           H  \nATOM    415 HO2'   C A  13      12.656  -5.723  -6.896  1.00  0.00           H  \nATOM    416  H1'   C A  13      10.261  -6.663  -5.219  1.00  0.00           H  \nATOM    417  H41   C A  13       9.701  -2.783  -0.067  1.00  0.00           H  \nATOM    418  H42   C A  13      10.143  -4.096   0.989  1.00  0.00           H  \nATOM    419  H5    C A  13      10.833  -6.249   0.141  1.00  0.00           H  \nATOM    420  H6    C A  13      11.275  -7.619  -1.858  1.00  0.00           H  \nATOM    421  P     G A  14      15.770  -7.012  -5.494  1.00  0.00           P  \nATOM    422  OP1   G A  14      16.899  -7.777  -6.071  1.00  0.00           O  \nATOM    423  OP2   G A  14      15.982  -6.407  -4.154  1.00  0.00           O  \nATOM    424  O5'   G A  14      15.309  -5.919  -6.551  1.00  0.00           O  \nATOM    425  C5'   G A  14      15.810  -4.594  -6.509  1.00  0.00           C  \nATOM    426  C4'   G A  14      15.036  -3.690  -7.490  1.00  0.00           C  \nATOM    427  O4'   G A  14      13.616  -3.586  -7.109  1.00  0.00           O  \nATOM    428  C3'   G A  14      15.558  -2.247  -7.481  1.00  0.00           C  \nATOM    429  O3'   G A  14      16.544  -2.049  -8.497  1.00  0.00           O  \nATOM    430  C2'   G A  14      14.304  -1.391  -7.688  1.00  0.00           C  \nATOM    431  O2'   G A  14      13.937  -1.241  -9.062  1.00  0.00           O  \nATOM    432  C1'   G A  14      13.243  -2.210  -6.927  1.00  0.00           C  \nATOM    433  N9    G A  14      12.993  -1.920  -5.470  1.00  0.00           N  \nATOM    434  C8    G A  14      13.069  -2.771  -4.398  1.00  0.00           C  \nATOM    435  N7    G A  14      12.780  -2.236  -3.243  1.00  0.00           N  \nATOM    436  C5    G A  14      12.483  -0.938  -3.532  1.00  0.00           C  \nATOM    437  C6    G A  14      12.103   0.075  -2.644  1.00  0.00           C  \nATOM    438  O6    G A  14      11.977  -0.058  -1.422  1.00  0.00           O  \nATOM    439  N1    G A  14      11.876   1.300  -3.324  1.00  0.00           N  \nATOM    440  C2    G A  14      12.003   1.518  -4.711  1.00  0.00           C  \nATOM    441  N2    G A  14      11.719   2.798  -5.078  1.00  0.00           N  \nATOM    442  N3    G A  14      12.374   0.500  -5.537  1.00  0.00           N  \nATOM    443  C4    G A  14      12.598  -0.685  -4.904  1.00  0.00           C  \nATOM    444  H5'   G A  14      16.884  -4.602  -6.793  1.00  0.00           H  \nATOM    445 H5''   G A  14      15.720  -4.179  -5.483  1.00  0.00           H  \nATOM    446  H4'   G A  14      15.061  -4.116  -8.516  1.00  0.00           H  \nATOM    447  H3'   G A  14      15.957  -1.998  -6.474  1.00  0.00           H  \nATOM    448  H2'   G A  14      14.401  -0.369  -7.264  1.00  0.00           H  \nATOM    449 HO2'   G A  14      14.656  -0.742  -9.457  1.00  0.00           H  \nATOM    450  H1'   G A  14      12.277  -2.003  -7.437  1.00  0.00           H  \nATOM    451  H8    G A  14      13.343  -3.815  -4.556  1.00  0.00           H  \nATOM    452  H1    G A  14      11.596   2.059  -2.717  1.00  0.00           H  \nATOM    453  H21   G A  14      11.443   3.448  -4.370  1.00  0.00           H  \nATOM    454  H22   G A  14      11.785   3.079  -6.035  1.00  0.00           H  \nATOM    455  P     C A  15      17.923  -1.310  -8.231  1.00  0.00           P  \nATOM    456  OP1   C A  15      18.727  -1.351  -9.475  1.00  0.00           O  \nATOM    457  OP2   C A  15      18.555  -1.874  -7.015  1.00  0.00           O  \nATOM    458  O5'   C A  15      17.487   0.182  -7.921  1.00  0.00           O  \nATOM    459  C5'   C A  15      16.976   1.060  -8.919  1.00  0.00           C  \nATOM    460  C4'   C A  15      16.444   2.384  -8.316  1.00  0.00           C  \nATOM    461  O4'   C A  15      15.289   2.144  -7.451  1.00  0.00           O  \nATOM    462  C3'   C A  15      17.454   3.130  -7.449  1.00  0.00           C  \nATOM    463  O3'   C A  15      18.241   4.049  -8.205  1.00  0.00           O  \nATOM    464  C2'   C A  15      16.643   3.770  -6.323  1.00  0.00           C  \nATOM    465  O2'   C A  15      16.294   5.138  -6.532  1.00  0.00           O  \nATOM    466  C1'   C A  15      15.379   2.900  -6.226  1.00  0.00           C  \nATOM    467  N1    C A  15      15.343   2.051  -4.994  1.00  0.00           N  \nATOM    468  C2    C A  15      15.078   2.657  -3.702  1.00  0.00           C  \nATOM    469  O2    C A  15      14.869   3.878  -3.564  1.00  0.00           O  \nATOM    470  N3    C A  15      15.058   1.835  -2.593  1.00  0.00           N  \nATOM    471  C4    C A  15      15.278   0.496  -2.699  1.00  0.00           C  \nATOM    472  N4    C A  15      15.259  -0.330  -1.613  1.00  0.00           N  \nATOM    473  C5    C A  15      15.537  -0.084  -3.992  1.00  0.00           C  \nATOM    474  C6    C A  15      15.560   0.703  -5.064  1.00  0.00           C  \nATOM    475  H5'   C A  15      16.151   0.569  -9.479  1.00  0.00           H  \nATOM    476 H5''   C A  15      17.783   1.300  -9.644  1.00  0.00           H  \nATOM    477  H4'   C A  15      16.059   3.033  -9.131  1.00  0.00           H  \nATOM    478  H3'   C A  15      18.160   2.417  -6.973  1.00  0.00           H  \nATOM    479 HO3'   C A  15      18.720   3.519  -8.847  1.00  0.00           H  \nATOM    480  H2'   C A  15      17.209   3.649  -5.375  1.00  0.00           H  \nATOM    481 HO2'   C A  15      15.778   5.394  -5.763  1.00  0.00           H  \nATOM    482  H1'   C A  15      14.433   3.479  -6.169  1.00  0.00           H  \nATOM    483  H41   C A  15      15.032   0.063  -0.721  1.00  0.00           H  \nATOM    484  H42   C A  15      15.466  -1.303  -1.709  1.00  0.00           H  \nATOM    485  H5    C A  15      15.706  -1.146  -4.165  1.00  0.00           H  \nATOM    486  H6    C A  15      15.751   0.322  -6.067  1.00  0.00           H  \nTER     487        C A  15\nATOM    488  N   ASN B   1      10.545   2.262   5.673  1.00  0.00           N  \nATOM    489  CA  ASN B   1       9.767   1.671   4.545  1.00  0.00           C  \nATOM    490  C   ASN B   1       8.397   2.313   4.407  1.00  0.00           C  \nATOM    491  O   ASN B   1       7.703   2.540   5.404  1.00  0.00           O  \nATOM    492  CB  ASN B   1       9.723   0.103   4.620  1.00  0.00           C  \nATOM    493  CG  ASN B   1       9.235  -0.485   5.966  1.00  0.00           C  \nATOM    494  OD1 ASN B   1       9.891  -0.346   7.006  1.00  0.00           O  \nATOM    495  ND2 ASN B   1       8.070  -1.195   5.924  1.00  0.00           N  \nATOM    496  H1  ASN B   1      10.788   3.253   5.469  1.00  0.00           H  \nATOM    497  H2  ASN B   1      11.423   1.718   5.800  1.00  0.00           H  \nATOM    498  HA  ASN B   1      10.345   1.918   3.666  1.00  0.00           H  \nATOM    499  HB2 ASN B   1       9.098  -0.281   3.786  1.00  0.00           H  \nATOM    500  HB3 ASN B   1      10.755  -0.274   4.453  1.00  0.00           H  \nATOM    501 HD21 ASN B   1       7.573  -1.290   5.060  1.00  0.00           H  \nATOM    502 HD22 ASN B   1       7.714  -1.628   6.752  1.00  0.00           H  \nATOM    503  N   ALA B   2       8.006   2.639   3.135  1.00  0.00           N  \nATOM    504  CA  ALA B   2       6.767   3.299   2.774  1.00  0.00           C  \nATOM    505  C   ALA B   2       5.638   2.319   2.525  1.00  0.00           C  \nATOM    506  O   ALA B   2       5.387   1.867   1.400  1.00  0.00           O  \nATOM    507  CB  ALA B   2       6.893   4.282   1.591  1.00  0.00           C  \nATOM    508  H   ALA B   2       8.603   2.448   2.359  1.00  0.00           H  \nATOM    509  HA  ALA B   2       6.494   3.928   3.608  1.00  0.00           H  \nATOM    510  HB1 ALA B   2       7.686   5.032   1.799  1.00  0.00           H  \nATOM    511  HB2 ALA B   2       7.141   3.761   0.641  1.00  0.00           H  \nATOM    512  HB3 ALA B   2       5.923   4.812   1.478  1.00  0.00           H  \nATOM    513  N   LYS B   3       4.930   2.000   3.636  1.00  0.00           N  \nATOM    514  CA  LYS B   3       3.751   1.160   3.715  1.00  0.00           C  \nATOM    515  C   LYS B   3       2.557   2.111   3.766  1.00  0.00           C  \nATOM    516  O   LYS B   3       1.753   2.124   2.834  1.00  0.00           O  \nATOM    517  CB  LYS B   3       3.739   0.123   4.890  1.00  0.00           C  \nATOM    518  CG  LYS B   3       4.856  -0.951   4.852  1.00  0.00           C  \nATOM    519  CD  LYS B   3       4.790  -1.982   3.698  1.00  0.00           C  \nATOM    520  CE  LYS B   3       6.028  -2.893   3.596  1.00  0.00           C  \nATOM    521  NZ  LYS B   3       5.868  -3.877   2.506  1.00  0.00           N  \nATOM    522  H   LYS B   3       5.200   2.406   4.506  1.00  0.00           H  \nATOM    523  HA  LYS B   3       3.682   0.605   2.790  1.00  0.00           H  \nATOM    524  HB2 LYS B   3       3.838   0.677   5.847  1.00  0.00           H  \nATOM    525  HB3 LYS B   3       2.755  -0.393   4.905  1.00  0.00           H  \nATOM    526  HG2 LYS B   3       5.826  -0.411   4.798  1.00  0.00           H  \nATOM    527  HG3 LYS B   3       4.833  -1.505   5.815  1.00  0.00           H  \nATOM    528  HD2 LYS B   3       3.884  -2.609   3.833  1.00  0.00           H  \nATOM    529  HD3 LYS B   3       4.689  -1.439   2.734  1.00  0.00           H  \nATOM    530  HE2 LYS B   3       6.932  -2.287   3.367  1.00  0.00           H  \nATOM    531  HE3 LYS B   3       6.193  -3.458   4.538  1.00  0.00           H  \nATOM    532  HZ1 LYS B   3       5.436  -3.421   1.676  1.00  0.00           H  \nATOM    533  HZ2 LYS B   3       6.786  -4.281   2.230  1.00  0.00           H  \nATOM    534  HZ3 LYS B   3       5.260  -4.660   2.822  1.00  0.00           H  \nATOM    535  N   THR B   4       2.445   2.940   4.857  1.00  0.00           N  \nATOM    536  CA  THR B   4       1.393   3.918   5.137  1.00  0.00           C  \nATOM    537  C   THR B   4       1.318   5.078   4.152  1.00  0.00           C  \nATOM    538  O   THR B   4       0.206   5.441   3.767  1.00  0.00           O  \nATOM    539  CB  THR B   4       1.327   4.450   6.584  1.00  0.00           C  \nATOM    540  OG1 THR B   4       2.604   4.854   7.075  1.00  0.00           O  \nATOM    541  CG2 THR B   4       0.692   3.392   7.526  1.00  0.00           C  \nATOM    542  H   THR B   4       3.159   2.905   5.551  1.00  0.00           H  \nATOM    543  HA  THR B   4       0.479   3.361   4.988  1.00  0.00           H  \nATOM    544  HB  THR B   4       0.662   5.340   6.626  1.00  0.00           H  \nATOM    545  HG1 THR B   4       2.840   5.641   6.578  1.00  0.00           H  \nATOM    546 HG21 THR B   4      -0.330   3.142   7.168  1.00  0.00           H  \nATOM    547 HG22 THR B   4       1.300   2.463   7.551  1.00  0.00           H  \nATOM    548 HG23 THR B   4       0.610   3.794   8.558  1.00  0.00           H  \nATOM    549  N   ARG B   5       2.472   5.670   3.714  1.00  0.00           N  \nATOM    550  CA  ARG B   5       2.557   6.776   2.763  1.00  0.00           C  \nATOM    551  C   ARG B   5       1.857   6.429   1.436  1.00  0.00           C  \nATOM    552  O   ARG B   5       1.003   7.199   0.986  1.00  0.00           O  \nATOM    553  CB  ARG B   5       4.040   7.233   2.566  1.00  0.00           C  \nATOM    554  CG  ARG B   5       4.263   8.630   1.935  1.00  0.00           C  \nATOM    555  CD  ARG B   5       3.913   9.825   2.843  1.00  0.00           C  \nATOM    556  NE  ARG B   5       4.169  11.115   2.097  1.00  0.00           N  \nATOM    557  CZ  ARG B   5       5.283  11.912   2.203  1.00  0.00           C  \nATOM    558  NH1 ARG B   5       6.383  11.575   2.940  1.00  0.00           N  \nATOM    559  NH2 ARG B   5       5.291  13.105   1.531  1.00  0.00           N  \nATOM    560  H   ARG B   5       3.356   5.343   4.041  1.00  0.00           H  \nATOM    561  HA  ARG B   5       1.985   7.570   3.219  1.00  0.00           H  \nATOM    562  HB2 ARG B   5       4.550   7.230   3.554  1.00  0.00           H  \nATOM    563  HB3 ARG B   5       4.564   6.476   1.945  1.00  0.00           H  \nATOM    564  HG2 ARG B   5       5.339   8.703   1.670  1.00  0.00           H  \nATOM    565  HG3 ARG B   5       3.678   8.697   0.991  1.00  0.00           H  \nATOM    566  HD2 ARG B   5       2.835   9.811   3.111  1.00  0.00           H  \nATOM    567  HD3 ARG B   5       4.518   9.814   3.774  1.00  0.00           H  \nATOM    568  HE  ARG B   5       3.427  11.447   1.516  1.00  0.00           H  \nATOM    569 HH11 ARG B   5       6.449  10.681   3.384  1.00  0.00           H  \nATOM    570 HH12 ARG B   5       7.163  12.198   2.976  1.00  0.00           H  \nATOM    571 HH21 ARG B   5       4.498  13.376   0.984  1.00  0.00           H  \nATOM    572 HH22 ARG B   5       6.088  13.706   1.589  1.00  0.00           H  \nATOM    573  N   ARG B   6       2.168   5.235   0.834  1.00  0.00           N  \nATOM    574  CA  ARG B   6       1.561   4.671  -0.367  1.00  0.00           C  \nATOM    575  C   ARG B   6       0.088   4.346  -0.066  1.00  0.00           C  \nATOM    576  O   ARG B   6      -0.790   4.818  -0.795  1.00  0.00           O  \nATOM    577  CB  ARG B   6       2.349   3.422  -0.891  1.00  0.00           C  \nATOM    578  CG  ARG B   6       1.665   2.569  -1.994  1.00  0.00           C  \nATOM    579  CD  ARG B   6       2.507   1.385  -2.493  1.00  0.00           C  \nATOM    580  NE  ARG B   6       1.618   0.286  -3.028  1.00  0.00           N  \nATOM    581  CZ  ARG B   6       1.278   0.095  -4.341  1.00  0.00           C  \nATOM    582  NH1 ARG B   6       1.356   1.092  -5.270  1.00  0.00           N  \nATOM    583  NH2 ARG B   6       0.848  -1.140  -4.748  1.00  0.00           N  \nATOM    584  H   ARG B   6       2.839   4.633   1.260  1.00  0.00           H  \nATOM    585  HA  ARG B   6       1.593   5.437  -1.128  1.00  0.00           H  \nATOM    586  HB2 ARG B   6       3.334   3.773  -1.266  1.00  0.00           H  \nATOM    587  HB3 ARG B   6       2.543   2.748  -0.028  1.00  0.00           H  \nATOM    588  HG2 ARG B   6       0.720   2.175  -1.564  1.00  0.00           H  \nATOM    589  HG3 ARG B   6       1.398   3.213  -2.858  1.00  0.00           H  \nATOM    590  HD2 ARG B   6       3.216   1.707  -3.285  1.00  0.00           H  \nATOM    591  HD3 ARG B   6       3.081   0.928  -1.658  1.00  0.00           H  \nATOM    592  HE  ARG B   6       1.443  -0.466  -2.392  1.00  0.00           H  \nATOM    593 HH11 ARG B   6       1.664   2.006  -5.010  1.00  0.00           H  \nATOM    594 HH12 ARG B   6       1.304   0.839  -6.237  1.00  0.00           H  \nATOM    595 HH21 ARG B   6       0.733  -1.895  -4.101  1.00  0.00           H  \nATOM    596 HH22 ARG B   6       0.746  -1.316  -5.727  1.00  0.00           H  \nATOM    597  N   HIS B   7      -0.196   3.540   1.016  1.00  0.00           N  \nATOM    598  CA  HIS B   7      -1.493   3.105   1.510  1.00  0.00           C  \nATOM    599  C   HIS B   7      -2.522   4.223   1.518  1.00  0.00           C  \nATOM    600  O   HIS B   7      -3.528   4.052   0.856  1.00  0.00           O  \nATOM    601  CB  HIS B   7      -1.419   2.435   2.917  1.00  0.00           C  \nATOM    602  CG  HIS B   7      -2.738   2.067   3.555  1.00  0.00           C  \nATOM    603  ND1 HIS B   7      -3.130   0.779   3.787  1.00  0.00           N  \nATOM    604  CD2 HIS B   7      -3.729   2.867   4.014  1.00  0.00           C  \nATOM    605  CE1 HIS B   7      -4.326   0.802   4.356  1.00  0.00           C  \nATOM    606  NE2 HIS B   7      -4.705   2.056   4.520  1.00  0.00           N  \nATOM    607  H   HIS B   7       0.545   3.173   1.571  1.00  0.00           H  \nATOM    608  HA  HIS B   7      -1.826   2.346   0.817  1.00  0.00           H  \nATOM    609  HB2 HIS B   7      -0.773   1.533   2.859  1.00  0.00           H  \nATOM    610  HB3 HIS B   7      -0.943   3.155   3.616  1.00  0.00           H  \nATOM    611  HD1 HIS B   7      -2.633  -0.053   3.542  1.00  0.00           H  \nATOM    612  HD2 HIS B   7      -3.861   3.938   3.924  1.00  0.00           H  \nATOM    613  HE1 HIS B   7      -4.961  -0.047   4.502  1.00  0.00           H  \nATOM    614  HE2 HIS B   7      -5.585   2.358   4.887  1.00  0.00           H  \nATOM    615  N   GLU B   8      -2.301   5.370   2.232  1.00  0.00           N  \nATOM    616  CA  GLU B   8      -3.160   6.546   2.370  1.00  0.00           C  \nATOM    617  C   GLU B   8      -4.011   6.870   1.122  1.00  0.00           C  \nATOM    618  O   GLU B   8      -5.241   6.839   1.206  1.00  0.00           O  \nATOM    619  CB  GLU B   8      -2.309   7.775   2.845  1.00  0.00           C  \nATOM    620  CG  GLU B   8      -3.121   8.973   3.395  1.00  0.00           C  \nATOM    621  CD  GLU B   8      -2.190  10.106   3.838  1.00  0.00           C  \nATOM    622  OE1 GLU B   8      -1.573  10.760   2.954  1.00  0.00           O  \nATOM    623  OE2 GLU B   8      -2.096  10.342   5.073  1.00  0.00           O  \nATOM    624  H   GLU B   8      -1.454   5.448   2.750  1.00  0.00           H  \nATOM    625  HA  GLU B   8      -3.848   6.273   3.156  1.00  0.00           H  \nATOM    626  HB2 GLU B   8      -1.619   7.441   3.649  1.00  0.00           H  \nATOM    627  HB3 GLU B   8      -1.661   8.113   2.008  1.00  0.00           H  \nATOM    628  HG2 GLU B   8      -3.814   9.357   2.616  1.00  0.00           H  \nATOM    629  HG3 GLU B   8      -3.725   8.626   4.260  1.00  0.00           H  \nATOM    630  N   ARG B   9      -3.369   7.150  -0.054  1.00  0.00           N  \nATOM    631  CA  ARG B   9      -3.999   7.449  -1.344  1.00  0.00           C  \nATOM    632  C   ARG B   9      -4.631   6.216  -2.007  1.00  0.00           C  \nATOM    633  O   ARG B   9      -5.793   6.286  -2.418  1.00  0.00           O  \nATOM    634  CB  ARG B   9      -3.105   8.264  -2.332  1.00  0.00           C  \nATOM    635  CG  ARG B   9      -1.679   7.720  -2.568  1.00  0.00           C  \nATOM    636  CD  ARG B   9      -0.824   8.567  -3.528  1.00  0.00           C  \nATOM    637  NE  ARG B   9       0.590   8.037  -3.565  1.00  0.00           N  \nATOM    638  CZ  ARG B   9       1.050   7.014  -4.357  1.00  0.00           C  \nATOM    639  NH1 ARG B   9       0.231   6.225  -5.110  1.00  0.00           N  \nATOM    640  NH2 ARG B   9       2.394   6.770  -4.382  1.00  0.00           N  \nATOM    641  H   ARG B   9      -2.372   7.140  -0.083  1.00  0.00           H  \nATOM    642  HA  ARG B   9      -4.813   8.121  -1.119  1.00  0.00           H  \nATOM    643  HB2 ARG B   9      -3.634   8.357  -3.304  1.00  0.00           H  \nATOM    644  HB3 ARG B   9      -3.006   9.289  -1.914  1.00  0.00           H  \nATOM    645  HG2 ARG B   9      -1.184   7.677  -1.575  1.00  0.00           H  \nATOM    646  HG3 ARG B   9      -1.764   6.684  -2.957  1.00  0.00           H  \nATOM    647  HD2 ARG B   9      -1.241   8.550  -4.558  1.00  0.00           H  \nATOM    648  HD3 ARG B   9      -0.769   9.620  -3.177  1.00  0.00           H  \nATOM    649  HE  ARG B   9       1.271   8.525  -3.018  1.00  0.00           H  \nATOM    650 HH11 ARG B   9      -0.758   6.376  -5.103  1.00  0.00           H  \nATOM    651 HH12 ARG B   9       0.625   5.461  -5.622  1.00  0.00           H  \nATOM    652 HH21 ARG B   9       3.027   7.289  -3.807  1.00  0.00           H  \nATOM    653 HH22 ARG B   9       2.766   6.044  -4.961  1.00  0.00           H  \nATOM    654  N   ARG B  10      -3.896   5.059  -2.095  1.00  0.00           N  \nATOM    655  CA  ARG B  10      -4.329   3.770  -2.645  1.00  0.00           C  \nATOM    656  C   ARG B  10      -5.623   3.285  -1.955  1.00  0.00           C  \nATOM    657  O   ARG B  10      -6.545   2.867  -2.647  1.00  0.00           O  \nATOM    658  CB  ARG B  10      -3.161   2.725  -2.524  1.00  0.00           C  \nATOM    659  CG  ARG B  10      -3.392   1.284  -3.054  1.00  0.00           C  \nATOM    660  CD  ARG B  10      -2.158   0.356  -2.904  1.00  0.00           C  \nATOM    661  NE  ARG B  10      -2.492  -1.092  -3.220  1.00  0.00           N  \nATOM    662  CZ  ARG B  10      -2.620  -1.658  -4.462  1.00  0.00           C  \nATOM    663  NH1 ARG B  10      -2.378  -0.988  -5.624  1.00  0.00           N  \nATOM    664  NH2 ARG B  10      -3.005  -2.969  -4.516  1.00  0.00           N  \nATOM    665  H   ARG B  10      -2.967   5.041  -1.735  1.00  0.00           H  \nATOM    666  HA  ARG B  10      -4.563   3.970  -3.681  1.00  0.00           H  \nATOM    667  HB2 ARG B  10      -2.283   3.145  -3.061  1.00  0.00           H  \nATOM    668  HB3 ARG B  10      -2.882   2.647  -1.452  1.00  0.00           H  \nATOM    669  HG2 ARG B  10      -4.239   0.844  -2.487  1.00  0.00           H  \nATOM    670  HG3 ARG B  10      -3.680   1.330  -4.126  1.00  0.00           H  \nATOM    671  HD2 ARG B  10      -1.340   0.688  -3.580  1.00  0.00           H  \nATOM    672  HD3 ARG B  10      -1.788   0.373  -1.856  1.00  0.00           H  \nATOM    673  HE  ARG B  10      -2.530  -1.745  -2.464  1.00  0.00           H  \nATOM    674 HH11 ARG B  10      -2.092  -0.029  -5.602  1.00  0.00           H  \nATOM    675 HH12 ARG B  10      -2.475  -1.468  -6.496  1.00  0.00           H  \nATOM    676 HH21 ARG B  10      -3.325  -3.428  -3.688  1.00  0.00           H  \nATOM    677 HH22 ARG B  10      -3.056  -3.440  -5.397  1.00  0.00           H  \nATOM    678  N   ARG B  11      -5.722   3.375  -0.589  1.00  0.00           N  \nATOM    679  CA  ARG B  11      -6.805   3.073   0.335  1.00  0.00           C  \nATOM    680  C   ARG B  11      -8.081   3.729  -0.142  1.00  0.00           C  \nATOM    681  O   ARG B  11      -9.020   2.996  -0.429  1.00  0.00           O  \nATOM    682  CB  ARG B  11      -6.435   3.489   1.784  1.00  0.00           C  \nATOM    683  CG  ARG B  11      -7.457   3.153   2.884  1.00  0.00           C  \nATOM    684  CD  ARG B  11      -7.467   4.149   4.044  1.00  0.00           C  \nATOM    685  NE  ARG B  11      -8.322   3.548   5.132  1.00  0.00           N  \nATOM    686  CZ  ARG B  11      -8.516   4.066   6.387  1.00  0.00           C  \nATOM    687  NH1 ARG B  11      -7.963   5.245   6.798  1.00  0.00           N  \nATOM    688  NH2 ARG B  11      -9.301   3.362   7.259  1.00  0.00           N  \nATOM    689  H   ARG B  11      -4.941   3.733  -0.083  1.00  0.00           H  \nATOM    690  HA  ARG B  11      -6.970   2.006   0.379  1.00  0.00           H  \nATOM    691  HB2 ARG B  11      -5.483   2.988   2.059  1.00  0.00           H  \nATOM    692  HB3 ARG B  11      -6.229   4.581   1.790  1.00  0.00           H  \nATOM    693  HG2 ARG B  11      -8.481   3.083   2.459  1.00  0.00           H  \nATOM    694  HG3 ARG B  11      -7.200   2.149   3.284  1.00  0.00           H  \nATOM    695  HD2 ARG B  11      -6.432   4.310   4.412  1.00  0.00           H  \nATOM    696  HD3 ARG B  11      -7.918   5.107   3.705  1.00  0.00           H  \nATOM    697  HE  ARG B  11      -8.760   2.672   4.925  1.00  0.00           H  \nATOM    698 HH11 ARG B  11      -7.385   5.770   6.173  1.00  0.00           H  \nATOM    699 HH12 ARG B  11      -8.133   5.581   7.724  1.00  0.00           H  \nATOM    700 HH21 ARG B  11      -9.709   2.496   6.969  1.00  0.00           H  \nATOM    701 HH22 ARG B  11      -9.461   3.710   8.182  1.00  0.00           H  \nATOM    702  N   LYS B  12      -8.134   5.097  -0.261  1.00  0.00           N  \nATOM    703  CA  LYS B  12      -9.263   5.900  -0.736  1.00  0.00           C  \nATOM    704  C   LYS B  12      -9.933   5.257  -1.954  1.00  0.00           C  \nATOM    705  O   LYS B  12     -11.135   4.986  -1.920  1.00  0.00           O  \nATOM    706  CB  LYS B  12      -8.875   7.391  -1.019  1.00  0.00           C  \nATOM    707  CG  LYS B  12      -8.454   8.207   0.231  1.00  0.00           C  \nATOM    708  CD  LYS B  12      -7.963   9.642  -0.070  1.00  0.00           C  \nATOM    709  CE  LYS B  12      -7.500  10.420   1.176  1.00  0.00           C  \nATOM    710  NZ  LYS B  12      -7.038  11.780   0.811  1.00  0.00           N  \nATOM    711  H   LYS B  12      -7.335   5.638  -0.014  1.00  0.00           H  \nATOM    712  HA  LYS B  12      -9.991   5.872   0.062  1.00  0.00           H  \nATOM    713  HB2 LYS B  12      -8.033   7.406  -1.744  1.00  0.00           H  \nATOM    714  HB3 LYS B  12      -9.741   7.906  -1.486  1.00  0.00           H  \nATOM    715  HG2 LYS B  12      -9.318   8.258   0.928  1.00  0.00           H  \nATOM    716  HG3 LYS B  12      -7.634   7.662   0.746  1.00  0.00           H  \nATOM    717  HD2 LYS B  12      -7.116   9.584  -0.785  1.00  0.00           H  \nATOM    718  HD3 LYS B  12      -8.788  10.203  -0.559  1.00  0.00           H  \nATOM    719  HE2 LYS B  12      -8.335  10.535   1.900  1.00  0.00           H  \nATOM    720  HE3 LYS B  12      -6.652   9.902   1.671  1.00  0.00           H  \nATOM    721  HZ1 LYS B  12      -6.245  11.708   0.143  1.00  0.00           H  \nATOM    722  HZ2 LYS B  12      -7.819  12.305   0.367  1.00  0.00           H  \nATOM    723  HZ3 LYS B  12      -6.727  12.281   1.667  1.00  0.00           H  \nATOM    724  N   LEU B  13      -9.137   4.954  -3.020  1.00  0.00           N  \nATOM    725  CA  LEU B  13      -9.525   4.298  -4.259  1.00  0.00           C  \nATOM    726  C   LEU B  13      -9.973   2.865  -4.063  1.00  0.00           C  \nATOM    727  O   LEU B  13     -11.069   2.534  -4.510  1.00  0.00           O  \nATOM    728  CB  LEU B  13      -8.398   4.355  -5.323  1.00  0.00           C  \nATOM    729  CG  LEU B  13      -8.078   5.799  -5.795  1.00  0.00           C  \nATOM    730  CD1 LEU B  13      -6.667   5.860  -6.439  1.00  0.00           C  \nATOM    731  CD2 LEU B  13      -9.259   6.386  -6.628  1.00  0.00           C  \nATOM    732  H   LEU B  13      -8.168   5.178  -2.964  1.00  0.00           H  \nATOM    733  HA  LEU B  13     -10.385   4.843  -4.619  1.00  0.00           H  \nATOM    734  HB2 LEU B  13      -7.486   3.892  -4.888  1.00  0.00           H  \nATOM    735  HB3 LEU B  13      -8.683   3.748  -6.209  1.00  0.00           H  \nATOM    736  HG  LEU B  13      -7.997   6.436  -4.887  1.00  0.00           H  \nATOM    737 HD11 LEU B  13      -5.917   5.441  -5.734  1.00  0.00           H  \nATOM    738 HD12 LEU B  13      -6.638   5.269  -7.379  1.00  0.00           H  \nATOM    739 HD13 LEU B  13      -6.390   6.912  -6.666  1.00  0.00           H  \nATOM    740 HD21 LEU B  13     -10.226   6.247  -6.097  1.00  0.00           H  \nATOM    741 HD22 LEU B  13      -9.105   7.470  -6.809  1.00  0.00           H  \nATOM    742 HD23 LEU B  13      -9.338   5.863  -7.605  1.00  0.00           H  \nATOM    743  N   ALA B  14      -9.156   2.005  -3.379  1.00  0.00           N  \nATOM    744  CA  ALA B  14      -9.407   0.612  -3.034  1.00  0.00           C  \nATOM    745  C   ALA B  14     -10.768   0.452  -2.402  1.00  0.00           C  \nATOM    746  O   ALA B  14     -11.535  -0.411  -2.842  1.00  0.00           O  \nATOM    747  CB  ALA B  14      -8.373   0.036  -2.052  1.00  0.00           C  \nATOM    748  H   ALA B  14      -8.280   2.343  -3.045  1.00  0.00           H  \nATOM    749  HA  ALA B  14      -9.376   0.051  -3.955  1.00  0.00           H  \nATOM    750  HB1 ALA B  14      -7.359   0.113  -2.498  1.00  0.00           H  \nATOM    751  HB2 ALA B  14      -8.378   0.574  -1.079  1.00  0.00           H  \nATOM    752  HB3 ALA B  14      -8.595  -1.030  -1.833  1.00  0.00           H  \nATOM    753  N   ILE B  15     -11.103   1.323  -1.387  1.00  0.00           N  \nATOM    754  CA  ILE B  15     -12.385   1.336  -0.734  1.00  0.00           C  \nATOM    755  C   ILE B  15     -13.446   1.645  -1.798  1.00  0.00           C  \nATOM    756  O   ILE B  15     -14.343   0.829  -2.009  1.00  0.00           O  \nATOM    757  CB  ILE B  15     -12.649   2.215   0.515  1.00  0.00           C  \nATOM    758  CG1 ILE B  15     -11.505   2.358   1.564  1.00  0.00           C  \nATOM    759  CG2 ILE B  15     -13.906   1.599   1.173  1.00  0.00           C  \nATOM    760  CD1 ILE B  15     -11.138   3.818   1.781  1.00  0.00           C  \nATOM    761  H   ILE B  15     -10.459   2.017  -1.074  1.00  0.00           H  \nATOM    762  HA  ILE B  15     -12.460   0.320  -0.378  1.00  0.00           H  \nATOM    763  HB  ILE B  15     -12.928   3.234   0.168  1.00  0.00           H  \nATOM    764 HG12 ILE B  15     -11.808   1.938   2.547  1.00  0.00           H  \nATOM    765 HG13 ILE B  15     -10.600   1.806   1.231  1.00  0.00           H  \nATOM    766 HG21 ILE B  15     -13.638   0.545   1.397  1.00  0.00           H  \nATOM    767 HG22 ILE B  15     -14.177   2.135   2.108  1.00  0.00           H  \nATOM    768 HG23 ILE B  15     -14.731   1.687   0.434  1.00  0.00           H  \nATOM    769 HD11 ILE B  15     -12.007   4.413   2.129  1.00  0.00           H  \nATOM    770 HD12 ILE B  15     -10.301   3.942   2.501  1.00  0.00           H  \nATOM    771 HD13 ILE B  15     -10.838   4.153   0.765  1.00  0.00           H  \nATOM    772  N   GLU B  16     -13.341   2.836  -2.466  1.00  0.00           N  \nATOM    773  CA  GLU B  16     -14.236   3.357  -3.481  1.00  0.00           C  \nATOM    774  C   GLU B  16     -14.514   2.419  -4.695  1.00  0.00           C  \nATOM    775  O   GLU B  16     -15.466   2.660  -5.443  1.00  0.00           O  \nATOM    776  CB  GLU B  16     -13.702   4.761  -3.983  1.00  0.00           C  \nATOM    777  CG  GLU B  16     -14.720   5.659  -4.731  1.00  0.00           C  \nATOM    778  CD  GLU B  16     -14.103   7.025  -5.058  1.00  0.00           C  \nATOM    779  OE1 GLU B  16     -13.192   7.081  -5.929  1.00  0.00           O  \nATOM    780  OE2 GLU B  16     -14.547   8.032  -4.445  1.00  0.00           O  \nATOM    781  H   GLU B  16     -12.592   3.459  -2.253  1.00  0.00           H  \nATOM    782  HA  GLU B  16     -15.131   3.418  -2.879  1.00  0.00           H  \nATOM    783  HB2 GLU B  16     -13.398   5.336  -3.081  1.00  0.00           H  \nATOM    784  HB3 GLU B  16     -12.787   4.665  -4.606  1.00  0.00           H  \nATOM    785  HG2 GLU B  16     -15.038   5.177  -5.681  1.00  0.00           H  \nATOM    786  HG3 GLU B  16     -15.617   5.803  -4.093  1.00  0.00           H  \nATOM    787  N   ARG B  17     -13.729   1.312  -4.899  1.00  0.00           N  \nATOM    788  CA  ARG B  17     -13.911   0.288  -5.930  1.00  0.00           C  \nATOM    789  C   ARG B  17     -15.043  -0.630  -5.456  1.00  0.00           C  \nATOM    790  O   ARG B  17     -16.036  -0.800  -6.168  1.00  0.00           O  \nATOM    791  CB  ARG B  17     -12.623  -0.532  -6.279  1.00  0.00           C  \nATOM    792  CG  ARG B  17     -11.535   0.258  -7.046  1.00  0.00           C  \nATOM    793  CD  ARG B  17     -10.227  -0.517  -7.296  1.00  0.00           C  \nATOM    794  NE  ARG B  17      -9.249   0.403  -7.998  1.00  0.00           N  \nATOM    795  CZ  ARG B  17      -8.134   0.987  -7.444  1.00  0.00           C  \nATOM    796  NH1 ARG B  17      -7.724   0.744  -6.166  1.00  0.00           N  \nATOM    797  NH2 ARG B  17      -7.406   1.854  -8.212  1.00  0.00           N  \nATOM    798  H   ARG B  17     -12.977   1.119  -4.273  1.00  0.00           H  \nATOM    799  HA  ARG B  17     -14.255   0.790  -6.822  1.00  0.00           H  \nATOM    800  HB2 ARG B  17     -12.193  -0.934  -5.337  1.00  0.00           H  \nATOM    801  HB3 ARG B  17     -12.918  -1.395  -6.913  1.00  0.00           H  \nATOM    802  HG2 ARG B  17     -11.956   0.582  -8.021  1.00  0.00           H  \nATOM    803  HG3 ARG B  17     -11.286   1.174  -6.467  1.00  0.00           H  \nATOM    804  HD2 ARG B  17      -9.783  -0.868  -6.339  1.00  0.00           H  \nATOM    805  HD3 ARG B  17     -10.407  -1.389  -7.960  1.00  0.00           H  \nATOM    806  HE  ARG B  17      -9.463   0.640  -8.946  1.00  0.00           H  \nATOM    807 HH11 ARG B  17      -8.247   0.119  -5.586  1.00  0.00           H  \nATOM    808 HH12 ARG B  17      -6.925   1.218  -5.793  1.00  0.00           H  \nATOM    809 HH21 ARG B  17      -7.688   2.050  -9.151  1.00  0.00           H  \nATOM    810 HH22 ARG B  17      -6.592   2.296  -7.833  1.00  0.00           H  \nATOM    811  N   ASP B  18     -14.903  -1.200  -4.220  1.00  0.00           N  \nATOM    812  CA  ASP B  18     -15.824  -2.064  -3.494  1.00  0.00           C  \nATOM    813  C   ASP B  18     -17.187  -1.391  -3.252  1.00  0.00           C  \nATOM    814  O   ASP B  18     -18.218  -2.005  -3.536  1.00  0.00           O  \nATOM    815  CB  ASP B  18     -15.183  -2.561  -2.152  1.00  0.00           C  \nATOM    816  CG  ASP B  18     -16.025  -3.632  -1.445  1.00  0.00           C  \nATOM    817  OD1 ASP B  18     -16.156  -4.756  -2.000  1.00  0.00           O  \nATOM    818  OD2 ASP B  18     -16.540  -3.336  -0.334  1.00  0.00           O  \nATOM    819  H   ASP B  18     -14.063  -0.979  -3.733  1.00  0.00           H  \nATOM    820  HA  ASP B  18     -15.988  -2.916  -4.136  1.00  0.00           H  \nATOM    821  HB2 ASP B  18     -14.183  -2.996  -2.367  1.00  0.00           H  \nATOM    822  HB3 ASP B  18     -15.030  -1.697  -1.472  1.00  0.00           H  \nATOM    823  N   THR B  19     -17.182  -0.123  -2.734  1.00  0.00           N  \nATOM    824  CA  THR B  19     -18.299   0.772  -2.403  1.00  0.00           C  \nATOM    825  C   THR B  19     -19.467   0.668  -3.419  1.00  0.00           C  \nATOM    826  O   THR B  19     -19.251   0.907  -4.639  1.00  0.00           O  \nATOM    827  CB  THR B  19     -17.891   2.253  -2.236  1.00  0.00           C  \nATOM    828  OG1 THR B  19     -17.322   2.788  -3.414  1.00  0.00           O  \nATOM    829  CG2 THR B  19     -17.032   2.521  -0.979  1.00  0.00           C  \nATOM    830  OXT THR B  19     -20.595   0.328  -2.969  1.00  0.00           O  \nATOM    831  H   THR B  19     -16.278   0.251  -2.545  1.00  0.00           H  \nATOM    832  HA  THR B  19     -18.672   0.423  -1.452  1.00  0.00           H  \nATOM    833  HB  THR B  19     -18.757   2.937  -2.107  1.00  0.00           H  \nATOM    834  HG1 THR B  19     -16.510   2.298  -3.561  1.00  0.00           H  \nATOM    835 HG21 THR B  19     -16.129   1.873  -0.980  1.00  0.00           H  \nATOM    836 HG22 THR B  19     -16.712   3.584  -0.943  1.00  0.00           H  \nATOM    837 HG23 THR B  19     -17.615   2.299  -0.060  1.00  0.00           H  \nTER     838      THR B  19\nEND\n",
           "type": "blob"
          }
         ],
         "kwargs": {
          "defaultRepresentation": false,
          "ext": "pdb"
         },
         "methodName": "loadFile",
         "reconstruc_color_scheme": false,
         "target": "Stage",
         "type": "call_method"
        },
        {
         "args": [],
         "component_index": 0,
         "kwargs": {},
         "methodName": "removeAllRepresentations",
         "reconstruc_color_scheme": false,
         "target": "compList",
         "type": "call_method"
        },
        {
         "args": [
          "unitcell"
         ],
         "component_index": 0,
         "kwargs": {},
         "methodName": "addRepresentation",
         "reconstruc_color_scheme": false,
         "target": "compList",
         "type": "call_method"
        },
        {
         "args": [
          "line"
         ],
         "component_index": 0,
         "kwargs": {
          "sele": "water"
         },
         "methodName": "addRepresentation",
         "reconstruc_color_scheme": false,
         "target": "compList",
         "type": "call_method"
        },
        {
         "args": [
          "spacefill"
         ],
         "component_index": 0,
         "kwargs": {
          "sele": "ion"
         },
         "methodName": "addRepresentation",
         "reconstruc_color_scheme": false,
         "target": "compList",
         "type": "call_method"
        },
        {
         "args": [
          "cartoon"
         ],
         "component_index": 0,
         "kwargs": {
          "sele": "protein"
         },
         "methodName": "addRepresentation",
         "reconstruc_color_scheme": false,
         "target": "compList",
         "type": "call_method"
        },
        {
         "args": [
          "licorice"
         ],
         "component_index": 0,
         "kwargs": {
          "multipleBond": false,
          "radius": 0.25,
          "sele": "not water and not ion and not protein"
         },
         "methodName": "addRepresentation",
         "reconstruc_color_scheme": false,
         "target": "compList",
         "type": "call_method"
        }
       ],
       "_ngl_original_stage_parameters": {
        "ambientColor": 14540253,
        "ambientIntensity": 0.2,
        "backgroundColor": "white",
        "cameraEyeSep": 0.3,
        "cameraFov": 40,
        "cameraType": "perspective",
        "clipDist": 10,
        "clipFar": 100,
        "clipMode": "scene",
        "clipNear": 0,
        "clipScale": "relative",
        "fogFar": 100,
        "fogNear": 50,
        "hoverTimeout": 0,
        "impostor": true,
        "lightColor": 14540253,
        "lightIntensity": 1,
        "mousePreset": "default",
        "panSpeed": 1,
        "quality": "medium",
        "rotateSpeed": 2,
        "sampleLevel": 0,
        "tooltip": true,
        "workerDefault": true,
        "zoomSpeed": 1.2
       },
       "_ngl_repr_dict": {
        "0": {
         "0": {
          "params": {
           "clipCenter": {
            "x": 0,
            "y": 0,
            "z": 0
           },
           "clipNear": 0,
           "clipRadius": 0,
           "colorMode": "hcl",
           "colorReverse": false,
           "colorScale": "",
           "colorScheme": "element",
           "colorValue": "orange",
           "defaultAssembly": "",
           "depthWrite": true,
           "diffuse": 16777215,
           "diffuseInterior": false,
           "disableImpostor": false,
           "disablePicking": false,
           "flatShaded": false,
           "interiorColor": 2236962,
           "interiorDarkening": 0,
           "lazy": false,
           "matrix": {
            "elements": [
             1,
             0,
             0,
             0,
             0,
             1,
             0,
             0,
             0,
             0,
             1,
             0,
             0,
             0,
             0,
             1
            ]
           },
           "metalness": 0,
           "opacity": 1,
           "quality": "medium",
           "radialSegments": 10,
           "radiusData": {},
           "radiusScale": 1,
           "radiusSize": 0.004999999780519427,
           "radiusType": "vdw",
           "roughness": 0.4,
           "sele": "",
           "side": "double",
           "sphereDetail": 1,
           "useInteriorColor": true,
           "visible": true,
           "wireframe": false
          },
          "type": "unitcell"
         },
         "1": {
          "params": {
           "assembly": "default",
           "bondSpacing": 1,
           "clipCenter": {
            "x": 0,
            "y": 0,
            "z": 0
           },
           "clipNear": 0,
           "clipRadius": 0,
           "colorMode": "hcl",
           "colorReverse": false,
           "colorScale": "",
           "colorScheme": "element",
           "colorValue": 9474192,
           "crossSize": 0.4,
           "crosses": "lone",
           "defaultAssembly": "",
           "depthWrite": true,
           "diffuse": 16777215,
           "diffuseInterior": false,
           "disablePicking": false,
           "interiorColor": 2236962,
           "interiorDarkening": 0,
           "lazy": false,
           "lines": true,
           "linewidth": 2,
           "matrix": {
            "elements": [
             1,
             0,
             0,
             0,
             0,
             1,
             0,
             0,
             0,
             0,
             1,
             0,
             0,
             0,
             0,
             1
            ]
           },
           "multipleBond": "off",
           "opacity": 1,
           "quality": "medium",
           "radiusData": {},
           "radiusScale": 1,
           "radiusSize": 1,
           "radiusType": "vdw",
           "sele": "water",
           "useInteriorColor": false,
           "visible": true
          },
          "type": "line"
         },
         "2": {
          "params": {
           "assembly": "default",
           "clipCenter": {
            "x": 0,
            "y": 0,
            "z": 0
           },
           "clipNear": 0,
           "clipRadius": 0,
           "colorMode": "hcl",
           "colorReverse": false,
           "colorScale": "",
           "colorScheme": "element",
           "colorValue": 9474192,
           "defaultAssembly": "",
           "depthWrite": true,
           "diffuse": 16777215,
           "diffuseInterior": false,
           "disableImpostor": false,
           "disablePicking": false,
           "flatShaded": false,
           "interiorColor": 2236962,
           "interiorDarkening": 0,
           "lazy": false,
           "matrix": {
            "elements": [
             1,
             0,
             0,
             0,
             0,
             1,
             0,
             0,
             0,
             0,
             1,
             0,
             0,
             0,
             0,
             1
            ]
           },
           "metalness": 0,
           "opacity": 1,
           "quality": "medium",
           "radiusData": {},
           "radiusScale": 1,
           "radiusSize": 1,
           "radiusType": "vdw",
           "roughness": 0.4,
           "sele": "ion",
           "side": "double",
           "sphereDetail": 1,
           "useInteriorColor": true,
           "visible": true,
           "wireframe": false
          },
          "type": "spacefill"
         },
         "3": {
          "params": {
           "aspectRatio": 5,
           "assembly": "default",
           "capped": true,
           "clipCenter": {
            "x": 0,
            "y": 0,
            "z": 0
           },
           "clipNear": 0,
           "clipRadius": 0,
           "colorMode": "hcl",
           "colorReverse": false,
           "colorScale": "RdYlBu",
           "colorScheme": "chainname",
           "colorValue": 9474192,
           "defaultAssembly": "",
           "depthWrite": true,
           "diffuse": 16777215,
           "diffuseInterior": false,
           "disablePicking": false,
           "flatShaded": false,
           "interiorColor": 2236962,
           "interiorDarkening": 0,
           "lazy": false,
           "matrix": {
            "elements": [
             1,
             0,
             0,
             0,
             0,
             1,
             0,
             0,
             0,
             0,
             1,
             0,
             0,
             0,
             0,
             1
            ]
           },
           "metalness": 0,
           "opacity": 1,
           "quality": "medium",
           "radialSegments": 10,
           "radiusData": {},
           "radiusScale": 0.7,
           "radiusSize": 1,
           "radiusType": "sstruc",
           "roughness": 0.4,
           "sele": "protein",
           "side": "double",
           "smoothSheet": false,
           "subdiv": 6,
           "tension": null,
           "useInteriorColor": true,
           "visible": true,
           "wireframe": false
          },
          "type": "cartoon"
         },
         "4": {
          "params": {
           "assembly": "default",
           "bondScale": 0.4,
           "bondSpacing": 1,
           "clipCenter": {
            "x": 0,
            "y": 0,
            "z": 0
           },
           "clipNear": 0,
           "clipRadius": 0,
           "colorMode": "hcl",
           "colorReverse": false,
           "colorScale": "",
           "colorScheme": "element",
           "colorValue": 9474192,
           "cylinderOnly": false,
           "defaultAssembly": "",
           "depthWrite": true,
           "diffuse": 16777215,
           "diffuseInterior": false,
           "disableImpostor": false,
           "disablePicking": false,
           "flatShaded": false,
           "interiorColor": 2236962,
           "interiorDarkening": 0,
           "lazy": false,
           "lineOnly": false,
           "linewidth": 2,
           "matrix": {
            "elements": [
             1,
             0,
             0,
             0,
             0,
             1,
             0,
             0,
             0,
             0,
             1,
             0,
             0,
             0,
             0,
             1
            ]
           },
           "metalness": 0,
           "multipleBond": false,
           "opacity": 1,
           "openEnded": true,
           "quality": "medium",
           "radialSegments": 10,
           "radiusData": {},
           "radiusScale": 1,
           "radiusSize": 0.25,
           "radiusType": "size",
           "roughness": 0.4,
           "sele": "not water and not ion and not protein",
           "side": "double",
           "sphereDetail": 1,
           "useInteriorColor": true,
           "visible": true,
           "wireframe": false
          },
          "type": "licorice"
         }
        }
       },
       "_ngl_serialize": false,
       "_ngl_version": "2.0.0-dev.39",
       "_ngl_view_id": [
        "AD6B6CA1-8C65-42BC-84D4-AEDBE3AB7F3A"
       ],
       "_player_dict": {},
       "_scene_position": {},
       "_scene_rotation": {},
       "_synced_model_ids": [],
       "_synced_repr_model_ids": [],
       "_view_height": "",
       "_view_width": "",
       "background": "white",
       "frame": 0,
       "gui_style": null,
       "layout": "IPY_MODEL_be87fdac027c4cc283919d56eb7040df",
       "max_frame": 0,
       "n_components": 1,
       "picked": {}
      }
     },
     "96c694718c6242aa8844e9a2bb8b4af2": {
      "model_module": "@jupyter-widgets/base",
      "model_module_version": "2.0.0",
      "model_name": "LayoutModel",
      "state": {}
     },
     "9fedae5cae4c41188c2de74ec50011ff": {
      "model_module": "@jupyter-widgets/controls",
      "model_module_version": "2.0.0",
      "model_name": "SliderStyleModel",
      "state": {
       "description_width": ""
      }
     },
     "a0865331798040d9accdde93dd183394": {
      "model_module": "@jupyter-widgets/controls",
      "model_module_version": "2.0.0",
      "model_name": "PlayModel",
      "state": {
       "layout": "IPY_MODEL_96c694718c6242aa8844e9a2bb8b4af2",
       "max": 0,
       "style": "IPY_MODEL_ed7e9716e3764784b557780432919c9d"
      }
     },
     "a22a4a9a0a194e5c81f9350144287eb4": {
      "model_module": "@jupyter-widgets/base",
      "model_module_version": "2.0.0",
      "model_name": "LayoutModel",
      "state": {
       "width": "34px"
      }
     },
     "be87fdac027c4cc283919d56eb7040df": {
      "model_module": "@jupyter-widgets/base",
      "model_module_version": "2.0.0",
      "model_name": "LayoutModel",
      "state": {}
     },
     "c6b35b4a2efb49a5acb1a954368432da": {
      "model_module": "@jupyter-widgets/controls",
      "model_module_version": "2.0.0",
      "model_name": "IntSliderModel",
      "state": {
       "behavior": "drag-tap",
       "layout": "IPY_MODEL_0968887504854b66bacf824302a58a24",
       "max": 0,
       "style": "IPY_MODEL_290b50756bbd488db7b4f92b2d38227b"
      }
     },
     "c74e95cb1b08456f9dee59e6a0cb6f0b": {
      "model_module": "@jupyter-widgets/controls",
      "model_module_version": "2.0.0",
      "model_name": "DescriptionStyleModel",
      "state": {
       "description_width": ""
      }
     },
     "cf4b03f0dd2649ebb0ed101578417c06": {
      "model_module": "@jupyter-widgets/controls",
      "model_module_version": "2.0.0",
      "model_name": "ImageModel",
      "state": {
       "layout": "IPY_MODEL_ddfbc17ce966496ba31cafa48c92d80c",
       "width": "900.0"
      }
     },
     "ddfbc17ce966496ba31cafa48c92d80c": {
      "model_module": "@jupyter-widgets/base",
      "model_module_version": "2.0.0",
      "model_name": "LayoutModel",
      "state": {}
     },
     "ebda9907753e4446a40e61e638ebea57": {
      "model_module": "@jupyter-widgets/controls",
      "model_module_version": "2.0.0",
      "model_name": "LinkModel",
      "state": {
       "source": [
        "IPY_MODEL_a0865331798040d9accdde93dd183394",
        "value"
       ],
       "target": [
        "IPY_MODEL_2a63cf47e4824af7828b85c4a544c88f",
        "frame"
       ]
      }
     },
     "ed7e9716e3764784b557780432919c9d": {
      "model_module": "@jupyter-widgets/controls",
      "model_module_version": "2.0.0",
      "model_name": "DescriptionStyleModel",
      "state": {
       "description_width": ""
      }
     },
     "f21586d586b4405eb8f40686ec1a1f3b": {
      "model_module": "@jupyter-widgets/controls",
      "model_module_version": "2.0.0",
      "model_name": "ImageModel",
      "state": {
       "layout": "IPY_MODEL_7bc0f56c3b78413eb4e5acefb82fc773",
       "width": "900.0"
      }
     },
     "f8b3bb18f81f4f8ebb6dcf50e6d67571": {
      "model_module": "@jupyter-widgets/controls",
      "model_module_version": "2.0.0",
      "model_name": "ButtonStyleModel",
      "state": {
       "font_family": null,
       "font_size": null,
       "font_style": null,
       "font_variant": null,
       "font_weight": null,
       "text_color": null,
       "text_decoration": null
      }
     }
    },
    "version_major": 2,
    "version_minor": 0
   }
  }
 },
 "nbformat": 4,
 "nbformat_minor": 5
}
